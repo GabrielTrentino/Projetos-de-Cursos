{
  "nbformat": 4,
  "nbformat_minor": 0,
  "metadata": {
    "colab": {
      "name": "Aula005_Introducao_DeepLearning.ipynb",
      "provenance": []
    },
    "kernelspec": {
      "name": "python3",
      "display_name": "Python 3"
    }
  },
  "cells": [
    {
      "cell_type": "markdown",
      "metadata": {
        "id": "saWUh41KLlBW",
        "colab_type": "text"
      },
      "source": [
        "#Introdução ao Deep Learning:\n",
        "\n",
        "\n",
        "*Machine learning*, ou aprendizado de máquina é o nosso campo de estudo. O \"*learning*\" significa que de alguma maneira o computador é capaz de aprender. Nessa aula são apresentados conceitos básicos para o Deep Learning.\n",
        "\n",
        "Modelos Paramétricos tem a capacidade de aprender padrões a partir de dados de input durante a fase de treinamento.\n",
        "\n",
        "Os conjuntos de dados utilizados nas elaborações de Machine Learning apresentam um conjunto limitado de parâmetros quando comparado à realidade. Se utilizassemos todas as variáveis disponíveis no Machine Learning, tornariamos nosso modelo computacionalmente impossível para predizer tal natureza.\n",
        "\n",
        "Com isso, buscamos resultados semi-ótimos, que são resultados que mantém a maior parte da precisão elevada e diminui o tempo de processamento.\n",
        "\n",
        "## Regressão Logística\n",
        "\n",
        "No exemplo de identificar se nossa foto é um avião ou não, temos um problema de classificação binária. O algoritmo de Regressão Logística retorna a probabilidade $\\hat{y} = P(y=1 | x)$ de ser um avião.\n",
        "\n",
        "Para entender o algoritmo Gradient Descent (GD), precisamos entrar em dois conceitos-chaves:\n",
        "\n",
        "1. *Score Function*\n",
        "2. *Cost Function*\n",
        "\n",
        "### 1. *Score Function*\n",
        "\n",
        "Recebe o nosso input e mapeia os dados para as classes de labels. A função não retorna uma probabilidade de algo acontecer, pois retorna qualquer valor.\n",
        "\n",
        " Essa maneira é por meio da otimização dos parâmetros $\\theta \\in \\rm I\\!R^{n_x}$ e $b \\in \\rm I\\!R$.\n",
        "\n",
        "A *score function* é uma função que vai receber o nosso *input* (no exemplo usado aqui, uma imagem) e mapear os dados para as classes de *labels*. A função mais simples possível para fazer isso é o **mapeamento linear**:\n",
        "\n",
        "$$\n",
        "f(x, \\theta, b) = \\hat{y} = \\theta^Tx + b\n",
        "$$\n",
        "\n",
        "\n",
        "Para obtermos um valor que corresponde a probabilidade de algo acontecer, o valor obtido deve estar entre 0 a 1. E para isso, é utilizado a função sigmoid como função de ativação.\n",
        "\n",
        "$$\n",
        "\\sigma(z) = \\frac{1}{1 + e^{-z}}\n",
        "$$"
      ]
    },
    {
      "cell_type": "code",
      "metadata": {
        "id": "AYVWFp0OmCvE",
        "colab_type": "code",
        "colab": {}
      },
      "source": [
        "# importar pacotes necessários\n",
        "import numpy as np\n",
        "import matplotlib.pyplot as plt\n",
        "\n",
        "# importar o OpenCV\n",
        "import cv2"
      ],
      "execution_count": 0,
      "outputs": []
    },
    {
      "cell_type": "code",
      "metadata": {
        "id": "7-C3a-ekLXjG",
        "colab_type": "code",
        "outputId": "3554cdb2-9cc6-41e4-c0d3-5d7f9561b128",
        "colab": {
          "base_uri": "https://localhost:8080/",
          "height": 230
        }
      },
      "source": [
        "# baixar uma imagem de exemplo\n",
        "!wget https://raw.githubusercontent.com/carlosfab/escola-data-science/master/img/aviao_64x64.jpg\n",
        "!ls"
      ],
      "execution_count": 0,
      "outputs": [
        {
          "output_type": "stream",
          "text": [
            "--2020-05-05 14:11:45--  https://raw.githubusercontent.com/carlosfab/escola-data-science/master/img/aviao_64x64.jpg\n",
            "Resolving raw.githubusercontent.com (raw.githubusercontent.com)... 151.101.0.133, 151.101.64.133, 151.101.128.133, ...\n",
            "Connecting to raw.githubusercontent.com (raw.githubusercontent.com)|151.101.0.133|:443... connected.\n",
            "HTTP request sent, awaiting response... 200 OK\n",
            "Length: 14272 (14K) [image/jpeg]\n",
            "Saving to: ‘aviao_64x64.jpg’\n",
            "\n",
            "\raviao_64x64.jpg       0%[                    ]       0  --.-KB/s               \raviao_64x64.jpg     100%[===================>]  13.94K  --.-KB/s    in 0.01s   \n",
            "\n",
            "2020-05-05 14:11:46 (1.13 MB/s) - ‘aviao_64x64.jpg’ saved [14272/14272]\n",
            "\n",
            "aviao_64x64.jpg  sample_data\n"
          ],
          "name": "stdout"
        }
      ]
    },
    {
      "cell_type": "code",
      "metadata": {
        "id": "fybWbmMSLZx9",
        "colab_type": "code",
        "colab": {}
      },
      "source": [
        "# ler a imagem usando o OpenCV\n",
        "img = cv2.imread(\"aviao_64x64.jpg\")"
      ],
      "execution_count": 0,
      "outputs": []
    },
    {
      "cell_type": "code",
      "metadata": {
        "id": "mmj9Uj82La32",
        "colab_type": "code",
        "outputId": "5775c02c-e3d1-4e85-d7a2-0eac1336b1db",
        "colab": {
          "base_uri": "https://localhost:8080/",
          "height": 34
        }
      },
      "source": [
        "# ver suas dimensões\n",
        "img.shape"
      ],
      "execution_count": 0,
      "outputs": [
        {
          "output_type": "execute_result",
          "data": {
            "text/plain": [
              "(64, 64, 3)"
            ]
          },
          "metadata": {
            "tags": []
          },
          "execution_count": 4
        }
      ]
    },
    {
      "cell_type": "code",
      "metadata": {
        "id": "QNYhDpQdLb_x",
        "colab_type": "code",
        "outputId": "12c1d2eb-3b7e-4a8a-9932-3ce7310aca87",
        "colab": {
          "base_uri": "https://localhost:8080/",
          "height": 267
        }
      },
      "source": [
        "# plotar a imagem usando o `matplotlib`\n",
        "plt.imshow(cv2.cvtColor(img, cv2.COLOR_BGR2RGB))\n",
        "plt.show()"
      ],
      "execution_count": 0,
      "outputs": [
        {
          "output_type": "display_data",
          "data": {
            "image/png": "[encoded data removed]",
            "text/plain": [
              "<Figure size 432x288 with 1 Axes>"
            ]
          },
          "metadata": {
            "tags": [],
            "needs_background": "light"
          }
        }
      ]
    }
  ]
}