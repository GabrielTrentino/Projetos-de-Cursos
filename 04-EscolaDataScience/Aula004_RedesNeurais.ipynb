{
  "nbformat": 4,
  "nbformat_minor": 0,
  "metadata": {
    "colab": {
      "name": "Aula004_RedesNeurais.ipynb",
      "provenance": [],
      "toc_visible": true
    },
    "kernelspec": {
      "name": "python3",
      "display_name": "Python 3"
    }
  },
  "cells": [
    {
      "cell_type": "markdown",
      "metadata": {
        "id": "zYf9dldwtXf1",
        "colab_type": "text"
      },
      "source": [
        "# Redes Neurais:\n",
        "\n",
        "**Redes Neurais**, ou `Neural Network` (NN), são blocos construtores fundamentais do Deep Learning e são comumentes utilizados para realizar problemas em que a complexidade dos processamentos podem gerar um atraso nos calculos e acarretar numa tomada de decisão tardia. Para isso, as redes neurais são utilizadas com a finalidade de se obterem **resultados semi-otimos.**\n",
        "\n",
        "O Deep Learning é uma das áreas do Machine Learning que utiliza da extração de padrões de dados com a finalidade de \"aprender\" determinado comportamento. O Machine Learning é definido como a capacidade da máquina de tomar decisões sem ser explicitamente programado. \n",
        "\n",
        "Comumente associamos essa capacidade de aprendizado do Deep Learning com a comunicação entre neurônios, em que utilizamos mais de um \"neurônio\" para a tomada de decisão.\n",
        "\n",
        "<p align=\"center\"><img src=\"https://raw.githubusercontent.com/carlosfab/escola-data-science/master/img/simple-nn.png\" height=\"300px\"></p>\n",
        "\n",
        "Para **Python** , comumente utilizamos a biblioteca `tensorflow`, essa biblioteca possue diversos modulos disponíveis, mas iremos utilizar o `keras` em especifico para essa aula. O `keras` pode ser importado diretamente do `tensorflow`."
      ]
    },
    {
      "cell_type": "code",
      "metadata": {
        "id": "TQuW80Vis1M4",
        "colab_type": "code",
        "colab": {}
      },
      "source": [
        "# Importando o tensorflow:\n",
        "% tensorflow_version 2.x\n",
        "import tensorflow as tf\n",
        "from tensorflow import keras\n",
        "\n",
        "# Importando outras bibliotecas necessárias para manipulação de dados:\n",
        "import pandas as pd\n",
        "import numpy as np\n",
        "import matplotlib.pyplot as plt"
      ],
      "execution_count": 0,
      "outputs": []
    },
    {
      "cell_type": "markdown",
      "metadata": {
        "id": "LYtvOZbUy3cb",
        "colab_type": "text"
      },
      "source": [
        "## Exemplo de Rede Neural: Sigmoid\n",
        "\n",
        "A função Sigmoid é comumente utilizada como função de ativação de uma Rede Neural."
      ]
    },
    {
      "cell_type": "code",
      "metadata": {
        "id": "aPLRs3_4u_Cj",
        "colab_type": "code",
        "colab": {
          "base_uri": "https://localhost:8080/",
          "height": 264
        },
        "outputId": "2f2967c4-c824-47cc-a6d0-6d16a9f77b8f"
      },
      "source": [
        "def sigmoid(x):\n",
        "  return 1.0 / (1+np.exp(-x))\n",
        "\n",
        "x = np.arange(-10, 10, 0.1)\n",
        "y = sigmoid(x)\n",
        "\n",
        "# Exemplo visual da Sigmoid:\n",
        "plt.plot(x,y);"
      ],
      "execution_count": 2,
      "outputs": [
        {
          "output_type": "display_data",
          "data": {
            "image/png": "[encoded data removed]",
            "text/plain": [
              "<Figure size 432x288 with 1 Axes>"
            ]
          },
          "metadata": {
            "tags": [],
            "needs_background": "light"
          }
        }
      ]
    },
    {
      "cell_type": "code",
      "metadata": {
        "id": "_0kSfvMC1LqT",
        "colab_type": "code",
        "colab": {
          "base_uri": "https://localhost:8080/",
          "height": 34
        },
        "outputId": "65a984c7-e81d-40fd-f126-75bc399a5c92"
      },
      "source": [
        "# Valores das Variáveis:\n",
        "x1 = 10\n",
        "x2 = -2\n",
        "\n",
        "# Soma das Variáveis pelos pesos: w0 + X.W\n",
        "res = 1 -2*x1 + 5*x2\n",
        "\n",
        "# Função de ativação sigmoid\n",
        "yhat = sigmoid(res)\n",
        "print(yhat)"
      ],
      "execution_count": 3,
      "outputs": [
        {
          "output_type": "stream",
          "text": [
            "2.543665647376276e-13\n"
          ],
          "name": "stdout"
        }
      ]
    },
    {
      "cell_type": "markdown",
      "metadata": {
        "id": "rIduM4Bo5N-U",
        "colab_type": "text"
      },
      "source": [
        "# Elaborando a Neural Network (NN):"
      ]
    },
    {
      "cell_type": "markdown",
      "metadata": {
        "id": "W1HlGCKN11sl",
        "colab_type": "text"
      },
      "source": [
        "## Importando o Data Set:"
      ]
    },
    {
      "cell_type": "code",
      "metadata": {
        "id": "zDICSeJHvbSi",
        "colab_type": "code",
        "colab": {}
      },
      "source": [
        "from sklearn.datasets import fetch_california_housing\n",
        "from sklearn.model_selection import train_test_split\n",
        "\n",
        "dataset = fetch_california_housing()\n",
        "features = dataset.feature_names"
      ],
      "execution_count": 0,
      "outputs": []
    },
    {
      "cell_type": "markdown",
      "metadata": {
        "id": "iegFzCdy5LVl",
        "colab_type": "text"
      },
      "source": [
        "## Separando o modelo em Treino e Teste:"
      ]
    },
    {
      "cell_type": "code",
      "metadata": {
        "id": "iYkPMgxHw3hz",
        "colab_type": "code",
        "colab": {}
      },
      "source": [
        "X_train_original, X_test, y_train_original, y_test = train_test_split(dataset.data, dataset.target)\n",
        "\n",
        "X_train, X_valid, y_train, y_valid = train_test_split(X_train_original, y_train_original)"
      ],
      "execution_count": 0,
      "outputs": []
    },
    {
      "cell_type": "code",
      "metadata": {
        "id": "on7Wl_z4xBBK",
        "colab_type": "code",
        "colab": {
          "base_uri": "https://localhost:8080/",
          "height": 197
        },
        "outputId": "694de703-452b-41b6-cac5-62ed9ba27aaa"
      },
      "source": [
        "df = pd.DataFrame(X_train)\n",
        "df.columns = features\n",
        "df.head()"
      ],
      "execution_count": 6,
      "outputs": [
        {
          "output_type": "execute_result",
          "data": {
            "text/html": [
              "<div>\n",
              "<style scoped>\n",
              "    .dataframe tbody tr th:only-of-type {\n",
              "        vertical-align: middle;\n",
              "    }\n",
              "\n",
              "    .dataframe tbody tr th {\n",
              "        vertical-align: top;\n",
              "    }\n",
              "\n",
              "    .dataframe thead th {\n",
              "        text-align: right;\n",
              "    }\n",
              "</style>\n",
              "<table border=\"1\" class=\"dataframe\">\n",
              "  <thead>\n",
              "    <tr style=\"text-align: right;\">\n",
              "      <th></th>\n",
              "      <th>MedInc</th>\n",
              "      <th>HouseAge</th>\n",
              "      <th>AveRooms</th>\n",
              "      <th>AveBedrms</th>\n",
              "      <th>Population</th>\n",
              "      <th>AveOccup</th>\n",
              "      <th>Latitude</th>\n",
              "      <th>Longitude</th>\n",
              "    </tr>\n",
              "  </thead>\n",
              "  <tbody>\n",
              "    <tr>\n",
              "      <th>0</th>\n",
              "      <td>4.7731</td>\n",
              "      <td>34.0</td>\n",
              "      <td>5.837778</td>\n",
              "      <td>1.040000</td>\n",
              "      <td>1409.0</td>\n",
              "      <td>3.131111</td>\n",
              "      <td>33.78</td>\n",
              "      <td>-117.94</td>\n",
              "    </tr>\n",
              "    <tr>\n",
              "      <th>1</th>\n",
              "      <td>15.0001</td>\n",
              "      <td>52.0</td>\n",
              "      <td>9.867036</td>\n",
              "      <td>1.091413</td>\n",
              "      <td>1163.0</td>\n",
              "      <td>3.221607</td>\n",
              "      <td>34.07</td>\n",
              "      <td>-118.41</td>\n",
              "    </tr>\n",
              "    <tr>\n",
              "      <th>2</th>\n",
              "      <td>3.8529</td>\n",
              "      <td>17.0</td>\n",
              "      <td>4.916968</td>\n",
              "      <td>1.023466</td>\n",
              "      <td>2213.0</td>\n",
              "      <td>3.994585</td>\n",
              "      <td>32.58</td>\n",
              "      <td>-117.06</td>\n",
              "    </tr>\n",
              "    <tr>\n",
              "      <th>3</th>\n",
              "      <td>3.0625</td>\n",
              "      <td>14.0</td>\n",
              "      <td>5.486957</td>\n",
              "      <td>1.135652</td>\n",
              "      <td>951.0</td>\n",
              "      <td>1.653913</td>\n",
              "      <td>33.66</td>\n",
              "      <td>-117.99</td>\n",
              "    </tr>\n",
              "    <tr>\n",
              "      <th>4</th>\n",
              "      <td>4.0550</td>\n",
              "      <td>20.0</td>\n",
              "      <td>5.257951</td>\n",
              "      <td>1.102473</td>\n",
              "      <td>972.0</td>\n",
              "      <td>3.434629</td>\n",
              "      <td>33.83</td>\n",
              "      <td>-118.04</td>\n",
              "    </tr>\n",
              "  </tbody>\n",
              "</table>\n",
              "</div>"
            ],
            "text/plain": [
              "    MedInc  HouseAge  AveRooms  ...  AveOccup  Latitude  Longitude\n",
              "0   4.7731      34.0  5.837778  ...  3.131111     33.78    -117.94\n",
              "1  15.0001      52.0  9.867036  ...  3.221607     34.07    -118.41\n",
              "2   3.8529      17.0  4.916968  ...  3.994585     32.58    -117.06\n",
              "3   3.0625      14.0  5.486957  ...  1.653913     33.66    -117.99\n",
              "4   4.0550      20.0  5.257951  ...  3.434629     33.83    -118.04\n",
              "\n",
              "[5 rows x 8 columns]"
            ]
          },
          "metadata": {
            "tags": []
          },
          "execution_count": 6
        }
      ]
    },
    {
      "cell_type": "markdown",
      "metadata": {
        "id": "xLremg8w5q2C",
        "colab_type": "text"
      },
      "source": [
        "## Padronizando os dados:"
      ]
    },
    {
      "cell_type": "code",
      "metadata": {
        "id": "ldFCYFrpxLtE",
        "colab_type": "code",
        "colab": {}
      },
      "source": [
        "from sklearn.preprocessing import StandardScaler\n",
        "\n",
        "scale = StandardScaler()\n",
        "X_train = scale.fit_transform(X_train)\n",
        "X_test = scale.transform(X_test)\n",
        "X_valid = scale.transform(X_valid)"
      ],
      "execution_count": 0,
      "outputs": []
    },
    {
      "cell_type": "code",
      "metadata": {
        "id": "kuIMfH4vxfYJ",
        "colab_type": "code",
        "colab": {
          "base_uri": "https://localhost:8080/",
          "height": 197
        },
        "outputId": "5fc72abd-2382-427c-dd60-1a18abd1871f"
      },
      "source": [
        "df = pd.DataFrame(X_train)\n",
        "df.columns = features\n",
        "df.head()"
      ],
      "execution_count": 8,
      "outputs": [
        {
          "output_type": "execute_result",
          "data": {
            "text/html": [
              "<div>\n",
              "<style scoped>\n",
              "    .dataframe tbody tr th:only-of-type {\n",
              "        vertical-align: middle;\n",
              "    }\n",
              "\n",
              "    .dataframe tbody tr th {\n",
              "        vertical-align: top;\n",
              "    }\n",
              "\n",
              "    .dataframe thead th {\n",
              "        text-align: right;\n",
              "    }\n",
              "</style>\n",
              "<table border=\"1\" class=\"dataframe\">\n",
              "  <thead>\n",
              "    <tr style=\"text-align: right;\">\n",
              "      <th></th>\n",
              "      <th>MedInc</th>\n",
              "      <th>HouseAge</th>\n",
              "      <th>AveRooms</th>\n",
              "      <th>AveBedrms</th>\n",
              "      <th>Population</th>\n",
              "      <th>AveOccup</th>\n",
              "      <th>Latitude</th>\n",
              "      <th>Longitude</th>\n",
              "    </tr>\n",
              "  </thead>\n",
              "  <tbody>\n",
              "    <tr>\n",
              "      <th>0</th>\n",
              "      <td>0.477033</td>\n",
              "      <td>0.424937</td>\n",
              "      <td>0.191973</td>\n",
              "      <td>-0.133984</td>\n",
              "      <td>-0.024534</td>\n",
              "      <td>-0.002398</td>\n",
              "      <td>-0.855511</td>\n",
              "      <td>0.802093</td>\n",
              "    </tr>\n",
              "    <tr>\n",
              "      <th>1</th>\n",
              "      <td>5.874497</td>\n",
              "      <td>1.858730</td>\n",
              "      <td>2.020572</td>\n",
              "      <td>-0.008047</td>\n",
              "      <td>-0.232491</td>\n",
              "      <td>0.004161</td>\n",
              "      <td>-0.719609</td>\n",
              "      <td>0.567463</td>\n",
              "    </tr>\n",
              "    <tr>\n",
              "      <th>2</th>\n",
              "      <td>-0.008618</td>\n",
              "      <td>-0.929200</td>\n",
              "      <td>-0.225919</td>\n",
              "      <td>-0.174486</td>\n",
              "      <td>0.655129</td>\n",
              "      <td>0.060188</td>\n",
              "      <td>-1.417868</td>\n",
              "      <td>1.241402</td>\n",
              "    </tr>\n",
              "    <tr>\n",
              "      <th>3</th>\n",
              "      <td>-0.425764</td>\n",
              "      <td>-1.168166</td>\n",
              "      <td>0.032760</td>\n",
              "      <td>0.100319</td>\n",
              "      <td>-0.411706</td>\n",
              "      <td>-0.109467</td>\n",
              "      <td>-0.911747</td>\n",
              "      <td>0.777133</td>\n",
              "    </tr>\n",
              "    <tr>\n",
              "      <th>4</th>\n",
              "      <td>0.098044</td>\n",
              "      <td>-0.690235</td>\n",
              "      <td>-0.071170</td>\n",
              "      <td>0.019047</td>\n",
              "      <td>-0.393953</td>\n",
              "      <td>0.019602</td>\n",
              "      <td>-0.832080</td>\n",
              "      <td>0.752172</td>\n",
              "    </tr>\n",
              "  </tbody>\n",
              "</table>\n",
              "</div>"
            ],
            "text/plain": [
              "     MedInc  HouseAge  AveRooms  ...  AveOccup  Latitude  Longitude\n",
              "0  0.477033  0.424937  0.191973  ... -0.002398 -0.855511   0.802093\n",
              "1  5.874497  1.858730  2.020572  ...  0.004161 -0.719609   0.567463\n",
              "2 -0.008618 -0.929200 -0.225919  ...  0.060188 -1.417868   1.241402\n",
              "3 -0.425764 -1.168166  0.032760  ... -0.109467 -0.911747   0.777133\n",
              "4  0.098044 -0.690235 -0.071170  ...  0.019602 -0.832080   0.752172\n",
              "\n",
              "[5 rows x 8 columns]"
            ]
          },
          "metadata": {
            "tags": []
          },
          "execution_count": 8
        }
      ]
    },
    {
      "cell_type": "markdown",
      "metadata": {
        "id": "P-1ais1s6Qt5",
        "colab_type": "text"
      },
      "source": [
        "## Criando a NN:"
      ]
    },
    {
      "cell_type": "code",
      "metadata": {
        "id": "GHbLtEYvwB8z",
        "colab_type": "code",
        "colab": {}
      },
      "source": [
        "model = keras.models.Sequential([keras.layers.Dense(30, activation = 'relu', input_shape = (X_train.shape[1:])),\n",
        "                                keras.layers.Dense(1)])"
      ],
      "execution_count": 0,
      "outputs": []
    },
    {
      "cell_type": "markdown",
      "metadata": {
        "id": "HwxfXJ316Skk",
        "colab_type": "text"
      },
      "source": [
        "## Compilando a NN:"
      ]
    },
    {
      "cell_type": "code",
      "metadata": {
        "id": "7oF7lpJfwSBG",
        "colab_type": "code",
        "colab": {}
      },
      "source": [
        "model.compile(optimizer='sgd', loss='mean_squared_error')"
      ],
      "execution_count": 0,
      "outputs": []
    },
    {
      "cell_type": "markdown",
      "metadata": {
        "id": "W_4vTeYA6Un1",
        "colab_type": "text"
      },
      "source": [
        "## Obtendo o Histórico da NN:"
      ]
    },
    {
      "cell_type": "code",
      "metadata": {
        "id": "aPgfVk2uxt2j",
        "colab_type": "code",
        "colab": {
          "base_uri": "https://localhost:8080/",
          "height": 1000
        },
        "outputId": "030c242d-a7d5-4699-f0a5-2a53cc07c922"
      },
      "source": [
        "history = model.fit(X_train, y_train, epochs = 50, validation_data = (X_valid, y_valid))"
      ],
      "execution_count": 11,
      "outputs": [
        {
          "output_type": "stream",
          "text": [
            "Epoch 1/50\n",
            "363/363 [==============================] - 1s 2ms/step - loss: 1.1575 - val_loss: 0.5517\n",
            "Epoch 2/50\n",
            "363/363 [==============================] - 1s 1ms/step - loss: 0.5316 - val_loss: 0.4858\n",
            "Epoch 3/50\n",
            "363/363 [==============================] - 1s 1ms/step - loss: 0.4846 - val_loss: 0.4643\n",
            "Epoch 4/50\n",
            "363/363 [==============================] - 1s 1ms/step - loss: 0.4647 - val_loss: 0.4425\n",
            "Epoch 5/50\n",
            "363/363 [==============================] - 1s 2ms/step - loss: 0.4517 - val_loss: 0.4369\n",
            "Epoch 6/50\n",
            "363/363 [==============================] - 1s 1ms/step - loss: 0.4414 - val_loss: 0.4230\n",
            "Epoch 7/50\n",
            "363/363 [==============================] - 1s 1ms/step - loss: 0.4347 - val_loss: 0.4142\n",
            "Epoch 8/50\n",
            "363/363 [==============================] - 1s 1ms/step - loss: 0.4267 - val_loss: 0.4100\n",
            "Epoch 9/50\n",
            "363/363 [==============================] - 1s 1ms/step - loss: 0.4220 - val_loss: 0.4057\n",
            "Epoch 10/50\n",
            "363/363 [==============================] - 1s 1ms/step - loss: 0.4181 - val_loss: 0.3999\n",
            "Epoch 11/50\n",
            "363/363 [==============================] - 1s 1ms/step - loss: 0.4139 - val_loss: 0.3991\n",
            "Epoch 12/50\n",
            "363/363 [==============================] - 1s 1ms/step - loss: 0.4101 - val_loss: 0.3981\n",
            "Epoch 13/50\n",
            "363/363 [==============================] - 1s 1ms/step - loss: 0.4063 - val_loss: 0.3933\n",
            "Epoch 14/50\n",
            "363/363 [==============================] - 1s 1ms/step - loss: 0.4041 - val_loss: 0.3873\n",
            "Epoch 15/50\n",
            "363/363 [==============================] - 1s 1ms/step - loss: 0.4001 - val_loss: 0.3822\n",
            "Epoch 16/50\n",
            "363/363 [==============================] - 1s 1ms/step - loss: 0.3982 - val_loss: 0.3828\n",
            "Epoch 17/50\n",
            "363/363 [==============================] - 1s 1ms/step - loss: 0.3952 - val_loss: 0.3809\n",
            "Epoch 18/50\n",
            "363/363 [==============================] - 0s 1ms/step - loss: 0.3958 - val_loss: 0.3814\n",
            "Epoch 19/50\n",
            "363/363 [==============================] - 0s 1ms/step - loss: 0.3914 - val_loss: 0.3787\n",
            "Epoch 20/50\n",
            "363/363 [==============================] - 1s 1ms/step - loss: 0.3913 - val_loss: 0.3729\n",
            "Epoch 21/50\n",
            "363/363 [==============================] - 0s 1ms/step - loss: 0.3864 - val_loss: 0.3724\n",
            "Epoch 22/50\n",
            "363/363 [==============================] - 0s 1ms/step - loss: 0.3842 - val_loss: 0.3715\n",
            "Epoch 23/50\n",
            "363/363 [==============================] - 0s 1ms/step - loss: 0.3843 - val_loss: 0.3677\n",
            "Epoch 24/50\n",
            "363/363 [==============================] - 0s 1ms/step - loss: 0.3986 - val_loss: 0.3681\n",
            "Epoch 25/50\n",
            "363/363 [==============================] - 1s 1ms/step - loss: 0.3877 - val_loss: 0.3666\n",
            "Epoch 26/50\n",
            "363/363 [==============================] - 0s 1ms/step - loss: 0.3817 - val_loss: 0.3656\n",
            "Epoch 27/50\n",
            "363/363 [==============================] - 1s 1ms/step - loss: 0.3777 - val_loss: 0.3627\n",
            "Epoch 28/50\n",
            "363/363 [==============================] - 0s 1ms/step - loss: 0.3758 - val_loss: 0.3662\n",
            "Epoch 29/50\n",
            "363/363 [==============================] - 0s 1ms/step - loss: 0.3750 - val_loss: 0.3606\n",
            "Epoch 30/50\n",
            "363/363 [==============================] - 0s 1ms/step - loss: 0.3728 - val_loss: 0.3573\n",
            "Epoch 31/50\n",
            "363/363 [==============================] - 1s 1ms/step - loss: 0.3772 - val_loss: 0.3864\n",
            "Epoch 32/50\n",
            "363/363 [==============================] - 0s 1ms/step - loss: 0.3720 - val_loss: 0.3564\n",
            "Epoch 33/50\n",
            "363/363 [==============================] - 1s 1ms/step - loss: 0.3701 - val_loss: 0.3532\n",
            "Epoch 34/50\n",
            "363/363 [==============================] - 0s 1ms/step - loss: 0.3686 - val_loss: 0.3556\n",
            "Epoch 35/50\n",
            "363/363 [==============================] - 0s 1ms/step - loss: 0.3658 - val_loss: 0.3674\n",
            "Epoch 36/50\n",
            "363/363 [==============================] - 0s 1ms/step - loss: 0.3664 - val_loss: 0.3498\n",
            "Epoch 37/50\n",
            "363/363 [==============================] - 0s 1ms/step - loss: 0.3624 - val_loss: 0.3641\n",
            "Epoch 38/50\n",
            "363/363 [==============================] - 1s 1ms/step - loss: 0.3638 - val_loss: 0.3685\n",
            "Epoch 39/50\n",
            "363/363 [==============================] - 0s 1ms/step - loss: 0.3609 - val_loss: 0.3462\n",
            "Epoch 40/50\n",
            "363/363 [==============================] - 0s 1ms/step - loss: 0.3598 - val_loss: 0.3516\n",
            "Epoch 41/50\n",
            "363/363 [==============================] - 0s 1ms/step - loss: 0.3610 - val_loss: 0.3527\n",
            "Epoch 42/50\n",
            "363/363 [==============================] - 0s 1ms/step - loss: 0.3587 - val_loss: 0.3429\n",
            "Epoch 43/50\n",
            "363/363 [==============================] - 1s 1ms/step - loss: 0.3578 - val_loss: 0.3483\n",
            "Epoch 44/50\n",
            "363/363 [==============================] - 0s 1ms/step - loss: 0.3553 - val_loss: 0.3450\n",
            "Epoch 45/50\n",
            "363/363 [==============================] - 0s 1ms/step - loss: 0.3541 - val_loss: 0.3430\n",
            "Epoch 46/50\n",
            "363/363 [==============================] - 1s 1ms/step - loss: 0.3544 - val_loss: 0.3400\n",
            "Epoch 47/50\n",
            "363/363 [==============================] - 0s 1ms/step - loss: 0.3507 - val_loss: 0.3864\n",
            "Epoch 48/50\n",
            "363/363 [==============================] - 0s 1ms/step - loss: 0.3655 - val_loss: 0.3427\n",
            "Epoch 49/50\n",
            "363/363 [==============================] - 0s 1ms/step - loss: 0.3536 - val_loss: 0.3381\n",
            "Epoch 50/50\n",
            "363/363 [==============================] - 0s 1ms/step - loss: 0.3510 - val_loss: 0.3410\n"
          ],
          "name": "stdout"
        }
      ]
    },
    {
      "cell_type": "code",
      "metadata": {
        "id": "kK3godVCx5TA",
        "colab_type": "code",
        "colab": {
          "base_uri": "https://localhost:8080/",
          "height": 34
        },
        "outputId": "7fe2b10a-ab37-4e99-e1cb-7baaa4554a4d"
      },
      "source": [
        "error = model.evaluate(X_test, y_test)"
      ],
      "execution_count": 12,
      "outputs": [
        {
          "output_type": "stream",
          "text": [
            "162/162 [==============================] - 0s 960us/step - loss: 0.3525\n"
          ],
          "name": "stdout"
        }
      ]
    },
    {
      "cell_type": "code",
      "metadata": {
        "id": "YD7hnlao7N_H",
        "colab_type": "code",
        "colab": {
          "base_uri": "https://localhost:8080/",
          "height": 264
        },
        "outputId": "200d1e05-ab05-4418-fc36-143b1f2b9b5c"
      },
      "source": [
        "# plotar historico \n",
        "pd.DataFrame(history.history).plot();"
      ],
      "execution_count": 13,
      "outputs": [
        {
          "output_type": "display_data",
          "data": {
            "image/png": "[encoded data removed]",
            "text/plain": [
              "<Figure size 432x288 with 1 Axes>"
            ]
          },
          "metadata": {
            "tags": [],
            "needs_background": "light"
          }
        }
      ]
    }
  ]
}