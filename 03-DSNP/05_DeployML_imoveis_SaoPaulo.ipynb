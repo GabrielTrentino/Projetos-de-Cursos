{
  "nbformat": 4,
  "nbformat_minor": 0,
  "metadata": {
    "colab": {
      "name": "05_DeployML_imoveis_SaoPaulo.ipynb",
      "provenance": []
    },
    "kernelspec": {
      "name": "python3",
      "display_name": "Python 3"
    }
  },
  "cells": [
    {
      "cell_type": "code",
      "metadata": {
        "id": "T0C3V3iWpAo1",
        "colab_type": "code",
        "colab": {
          "base_uri": "https://localhost:8080/",
          "height": 401
        },
        "outputId": "8a9c2a70-68f5-48f0-b8a8-6fd84b99041e"
      },
      "source": [
        "# importar os pacotes necessários\n",
        "import pandas as pd\n",
        "import numpy as np\n",
        "import matplotlib.pyplot as plt\n",
        "import seaborn as sns\n",
        "\n",
        "# importar o dataset para um dataframe\n",
        "df = pd.read_csv('sao-paulo-properties-april-2019.csv')\n",
        "\n",
        "# ver as 5 primeiras entradas\n",
        "df.head()"
      ],
      "execution_count": 36,
      "outputs": [
        {
          "output_type": "execute_result",
          "data": {
            "text/html": [
              "<div>\n",
              "<style scoped>\n",
              "    .dataframe tbody tr th:only-of-type {\n",
              "        vertical-align: middle;\n",
              "    }\n",
              "\n",
              "    .dataframe tbody tr th {\n",
              "        vertical-align: top;\n",
              "    }\n",
              "\n",
              "    .dataframe thead th {\n",
              "        text-align: right;\n",
              "    }\n",
              "</style>\n",
              "<table border=\"1\" class=\"dataframe\">\n",
              "  <thead>\n",
              "    <tr style=\"text-align: right;\">\n",
              "      <th></th>\n",
              "      <th>Price</th>\n",
              "      <th>Condo</th>\n",
              "      <th>Size</th>\n",
              "      <th>Rooms</th>\n",
              "      <th>Toilets</th>\n",
              "      <th>Suites</th>\n",
              "      <th>Parking</th>\n",
              "      <th>Elevator</th>\n",
              "      <th>Furnished</th>\n",
              "      <th>Swimming Pool</th>\n",
              "      <th>New</th>\n",
              "      <th>District</th>\n",
              "      <th>Negotiation Type</th>\n",
              "      <th>Property Type</th>\n",
              "      <th>Latitude</th>\n",
              "      <th>Longitude</th>\n",
              "    </tr>\n",
              "  </thead>\n",
              "  <tbody>\n",
              "    <tr>\n",
              "      <th>0</th>\n",
              "      <td>930</td>\n",
              "      <td>220</td>\n",
              "      <td>47</td>\n",
              "      <td>2</td>\n",
              "      <td>2</td>\n",
              "      <td>1</td>\n",
              "      <td>1</td>\n",
              "      <td>0</td>\n",
              "      <td>0</td>\n",
              "      <td>0</td>\n",
              "      <td>0</td>\n",
              "      <td>Artur Alvim/São Paulo</td>\n",
              "      <td>rent</td>\n",
              "      <td>apartment</td>\n",
              "      <td>-23.543138</td>\n",
              "      <td>-46.479486</td>\n",
              "    </tr>\n",
              "    <tr>\n",
              "      <th>1</th>\n",
              "      <td>1000</td>\n",
              "      <td>148</td>\n",
              "      <td>45</td>\n",
              "      <td>2</td>\n",
              "      <td>2</td>\n",
              "      <td>1</td>\n",
              "      <td>1</td>\n",
              "      <td>0</td>\n",
              "      <td>0</td>\n",
              "      <td>0</td>\n",
              "      <td>0</td>\n",
              "      <td>Artur Alvim/São Paulo</td>\n",
              "      <td>rent</td>\n",
              "      <td>apartment</td>\n",
              "      <td>-23.550239</td>\n",
              "      <td>-46.480718</td>\n",
              "    </tr>\n",
              "    <tr>\n",
              "      <th>2</th>\n",
              "      <td>1000</td>\n",
              "      <td>100</td>\n",
              "      <td>48</td>\n",
              "      <td>2</td>\n",
              "      <td>2</td>\n",
              "      <td>1</td>\n",
              "      <td>1</td>\n",
              "      <td>0</td>\n",
              "      <td>0</td>\n",
              "      <td>0</td>\n",
              "      <td>0</td>\n",
              "      <td>Artur Alvim/São Paulo</td>\n",
              "      <td>rent</td>\n",
              "      <td>apartment</td>\n",
              "      <td>-23.542818</td>\n",
              "      <td>-46.485665</td>\n",
              "    </tr>\n",
              "    <tr>\n",
              "      <th>3</th>\n",
              "      <td>1000</td>\n",
              "      <td>200</td>\n",
              "      <td>48</td>\n",
              "      <td>2</td>\n",
              "      <td>2</td>\n",
              "      <td>1</td>\n",
              "      <td>1</td>\n",
              "      <td>0</td>\n",
              "      <td>0</td>\n",
              "      <td>0</td>\n",
              "      <td>0</td>\n",
              "      <td>Artur Alvim/São Paulo</td>\n",
              "      <td>rent</td>\n",
              "      <td>apartment</td>\n",
              "      <td>-23.547171</td>\n",
              "      <td>-46.483014</td>\n",
              "    </tr>\n",
              "    <tr>\n",
              "      <th>4</th>\n",
              "      <td>1300</td>\n",
              "      <td>410</td>\n",
              "      <td>55</td>\n",
              "      <td>2</td>\n",
              "      <td>2</td>\n",
              "      <td>1</td>\n",
              "      <td>1</td>\n",
              "      <td>1</td>\n",
              "      <td>0</td>\n",
              "      <td>0</td>\n",
              "      <td>0</td>\n",
              "      <td>Artur Alvim/São Paulo</td>\n",
              "      <td>rent</td>\n",
              "      <td>apartment</td>\n",
              "      <td>-23.525025</td>\n",
              "      <td>-46.482436</td>\n",
              "    </tr>\n",
              "  </tbody>\n",
              "</table>\n",
              "</div>"
            ],
            "text/plain": [
              "   Price  Condo  Size  ...  Property Type   Latitude  Longitude\n",
              "0    930    220    47  ...      apartment -23.543138 -46.479486\n",
              "1   1000    148    45  ...      apartment -23.550239 -46.480718\n",
              "2   1000    100    48  ...      apartment -23.542818 -46.485665\n",
              "3   1000    200    48  ...      apartment -23.547171 -46.483014\n",
              "4   1300    410    55  ...      apartment -23.525025 -46.482436\n",
              "\n",
              "[5 rows x 16 columns]"
            ]
          },
          "metadata": {
            "tags": []
          },
          "execution_count": 36
        }
      ]
    },
    {
      "cell_type": "code",
      "metadata": {
        "id": "DU1J8o1zwhT_",
        "colab_type": "code",
        "colab": {
          "base_uri": "https://localhost:8080/",
          "height": 141
        },
        "outputId": "7a066cf6-fdb6-42f3-a51d-ab183b7ba0d4"
      },
      "source": [
        "for setor in df.District.unique():\n",
        "  df[setor] = 0\n",
        "  df[df.District == setor][setor] = 1\n",
        "df.drop('District', axis = 1, inplace = True)\n",
        "df.drop(['Property Type'], axis = 1, inplace = True)\n",
        "\n",
        "df.shape"
      ],
      "execution_count": 37,
      "outputs": [
        {
          "output_type": "stream",
          "text": [
            "/usr/local/lib/python3.6/dist-packages/ipykernel_launcher.py:3: SettingWithCopyWarning: \n",
            "A value is trying to be set on a copy of a slice from a DataFrame.\n",
            "Try using .loc[row_indexer,col_indexer] = value instead\n",
            "\n",
            "See the caveats in the documentation: https://pandas.pydata.org/pandas-docs/stable/user_guide/indexing.html#returning-a-view-versus-a-copy\n",
            "  This is separate from the ipykernel package so we can avoid doing imports until\n"
          ],
          "name": "stderr"
        },
        {
          "output_type": "execute_result",
          "data": {
            "text/plain": [
              "(13640, 110)"
            ]
          },
          "metadata": {
            "tags": []
          },
          "execution_count": 37
        }
      ]
    },
    {
      "cell_type": "code",
      "metadata": {
        "id": "FRJmboyYrbxq",
        "colab_type": "code",
        "colab": {
          "base_uri": "https://localhost:8080/",
          "height": 176
        },
        "outputId": "778e8074-bb29-4dce-b66a-c4f5b87280bd"
      },
      "source": [
        "Sale = df[df['Negotiation Type'] == 'sale'].drop('Negotiation Type', axis = 1)\n",
        "Sale.head(1)"
      ],
      "execution_count": 38,
      "outputs": [
        {
          "output_type": "execute_result",
          "data": {
            "text/html": [
              "<div>\n",
              "<style scoped>\n",
              "    .dataframe tbody tr th:only-of-type {\n",
              "        vertical-align: middle;\n",
              "    }\n",
              "\n",
              "    .dataframe tbody tr th {\n",
              "        vertical-align: top;\n",
              "    }\n",
              "\n",
              "    .dataframe thead th {\n",
              "        text-align: right;\n",
              "    }\n",
              "</style>\n",
              "<table border=\"1\" class=\"dataframe\">\n",
              "  <thead>\n",
              "    <tr style=\"text-align: right;\">\n",
              "      <th></th>\n",
              "      <th>Price</th>\n",
              "      <th>Condo</th>\n",
              "      <th>Size</th>\n",
              "      <th>Rooms</th>\n",
              "      <th>Toilets</th>\n",
              "      <th>Suites</th>\n",
              "      <th>Parking</th>\n",
              "      <th>Elevator</th>\n",
              "      <th>Furnished</th>\n",
              "      <th>Swimming Pool</th>\n",
              "      <th>New</th>\n",
              "      <th>Latitude</th>\n",
              "      <th>Longitude</th>\n",
              "      <th>Artur Alvim/São Paulo</th>\n",
              "      <th>Belém/São Paulo</th>\n",
              "      <th>Cangaíba/São Paulo</th>\n",
              "      <th>Carrão/São Paulo</th>\n",
              "      <th>Cidade Líder/São Paulo</th>\n",
              "      <th>Cidade Tiradentes/São Paulo</th>\n",
              "      <th>Ermelino Matarazzo/São Paulo</th>\n",
              "      <th>Iguatemi/São Paulo</th>\n",
              "      <th>Itaim Paulista/São Paulo</th>\n",
              "      <th>Itaquera/São Paulo</th>\n",
              "      <th>Jardim Helena/São Paulo</th>\n",
              "      <th>José Bonifácio/São Paulo</th>\n",
              "      <th>Lajeado/São Paulo</th>\n",
              "      <th>Parque do Carmo/São Paulo</th>\n",
              "      <th>Penha/São Paulo</th>\n",
              "      <th>Ponte Rasa/São Paulo</th>\n",
              "      <th>Sapopemba/São Paulo</th>\n",
              "      <th>São Lucas/São Paulo</th>\n",
              "      <th>São Mateus/São Paulo</th>\n",
              "      <th>São Miguel/São Paulo</th>\n",
              "      <th>São Rafael/São Paulo</th>\n",
              "      <th>Tatuapé/São Paulo</th>\n",
              "      <th>Vila Curuçá/São Paulo</th>\n",
              "      <th>Vila Formosa/São Paulo</th>\n",
              "      <th>Vila Jacuí/São Paulo</th>\n",
              "      <th>Vila Matilde/São Paulo</th>\n",
              "      <th>Vila Prudente/São Paulo</th>\n",
              "      <th>...</th>\n",
              "      <th>Freguesia do Ó/São Paulo</th>\n",
              "      <th>Jaguaré/São Paulo</th>\n",
              "      <th>Jaraguá/São Paulo</th>\n",
              "      <th>Lapa/São Paulo</th>\n",
              "      <th>Limão/São Paulo</th>\n",
              "      <th>Perdizes/São Paulo</th>\n",
              "      <th>Pinheiros/São Paulo</th>\n",
              "      <th>Pirituba/São Paulo</th>\n",
              "      <th>Raposo Tavares/São Paulo</th>\n",
              "      <th>Rio Pequeno/São Paulo</th>\n",
              "      <th>Vila Leopoldina/São Paulo</th>\n",
              "      <th>Barra Funda/São Paulo</th>\n",
              "      <th>Bela Vista/São Paulo</th>\n",
              "      <th>Bom Retiro/São Paulo</th>\n",
              "      <th>Brás/São Paulo</th>\n",
              "      <th>Consolação/São Paulo</th>\n",
              "      <th>Liberdade/São Paulo</th>\n",
              "      <th>Pari/São Paulo</th>\n",
              "      <th>República/São Paulo</th>\n",
              "      <th>Santa Cecília/São Paulo</th>\n",
              "      <th>Sé/São Paulo</th>\n",
              "      <th>Casa Verde/São Paulo</th>\n",
              "      <th>Jaçanã/São Paulo</th>\n",
              "      <th>Mandaqui/São Paulo</th>\n",
              "      <th>Santana/São Paulo</th>\n",
              "      <th>Tremembé/São Paulo</th>\n",
              "      <th>Tucuruvi/São Paulo</th>\n",
              "      <th>Vila Guilherme/São Paulo</th>\n",
              "      <th>Vila Maria/São Paulo</th>\n",
              "      <th>Medeiros/São Paulo</th>\n",
              "      <th>Água Rasa/São Paulo</th>\n",
              "      <th>Aricanduva/São Paulo</th>\n",
              "      <th>Guaianazes/São Paulo</th>\n",
              "      <th>Jardim São Luis/São Paulo</th>\n",
              "      <th>Vila Madalena/São Paulo</th>\n",
              "      <th>Mooca/São Paulo</th>\n",
              "      <th>Brooklin/São Paulo</th>\n",
              "      <th>Vila Olimpia/São Paulo</th>\n",
              "      <th>Perus/São Paulo</th>\n",
              "      <th>São Domingos/São Paulo</th>\n",
              "    </tr>\n",
              "  </thead>\n",
              "  <tbody>\n",
              "    <tr>\n",
              "      <th>4901</th>\n",
              "      <td>732600</td>\n",
              "      <td>1000</td>\n",
              "      <td>74</td>\n",
              "      <td>1</td>\n",
              "      <td>2</td>\n",
              "      <td>1</td>\n",
              "      <td>2</td>\n",
              "      <td>1</td>\n",
              "      <td>0</td>\n",
              "      <td>1</td>\n",
              "      <td>0</td>\n",
              "      <td>-23.552129</td>\n",
              "      <td>-46.692244</td>\n",
              "      <td>0</td>\n",
              "      <td>0</td>\n",
              "      <td>0</td>\n",
              "      <td>0</td>\n",
              "      <td>0</td>\n",
              "      <td>0</td>\n",
              "      <td>0</td>\n",
              "      <td>0</td>\n",
              "      <td>0</td>\n",
              "      <td>0</td>\n",
              "      <td>0</td>\n",
              "      <td>0</td>\n",
              "      <td>0</td>\n",
              "      <td>0</td>\n",
              "      <td>0</td>\n",
              "      <td>0</td>\n",
              "      <td>0</td>\n",
              "      <td>0</td>\n",
              "      <td>0</td>\n",
              "      <td>0</td>\n",
              "      <td>0</td>\n",
              "      <td>0</td>\n",
              "      <td>0</td>\n",
              "      <td>0</td>\n",
              "      <td>0</td>\n",
              "      <td>0</td>\n",
              "      <td>0</td>\n",
              "      <td>...</td>\n",
              "      <td>0</td>\n",
              "      <td>0</td>\n",
              "      <td>0</td>\n",
              "      <td>0</td>\n",
              "      <td>0</td>\n",
              "      <td>0</td>\n",
              "      <td>0</td>\n",
              "      <td>0</td>\n",
              "      <td>0</td>\n",
              "      <td>0</td>\n",
              "      <td>0</td>\n",
              "      <td>0</td>\n",
              "      <td>0</td>\n",
              "      <td>0</td>\n",
              "      <td>0</td>\n",
              "      <td>0</td>\n",
              "      <td>0</td>\n",
              "      <td>0</td>\n",
              "      <td>0</td>\n",
              "      <td>0</td>\n",
              "      <td>0</td>\n",
              "      <td>0</td>\n",
              "      <td>0</td>\n",
              "      <td>0</td>\n",
              "      <td>0</td>\n",
              "      <td>0</td>\n",
              "      <td>0</td>\n",
              "      <td>0</td>\n",
              "      <td>0</td>\n",
              "      <td>0</td>\n",
              "      <td>0</td>\n",
              "      <td>0</td>\n",
              "      <td>0</td>\n",
              "      <td>0</td>\n",
              "      <td>0</td>\n",
              "      <td>0</td>\n",
              "      <td>0</td>\n",
              "      <td>0</td>\n",
              "      <td>0</td>\n",
              "      <td>0</td>\n",
              "    </tr>\n",
              "  </tbody>\n",
              "</table>\n",
              "<p>1 rows × 109 columns</p>\n",
              "</div>"
            ],
            "text/plain": [
              "       Price  Condo  ...  Perus/São Paulo  São Domingos/São Paulo\n",
              "4901  732600   1000  ...                0                       0\n",
              "\n",
              "[1 rows x 109 columns]"
            ]
          },
          "metadata": {
            "tags": []
          },
          "execution_count": 38
        }
      ]
    },
    {
      "cell_type": "code",
      "metadata": {
        "id": "2npfAXwOrqag",
        "colab_type": "code",
        "colab": {
          "base_uri": "https://localhost:8080/",
          "height": 87
        },
        "outputId": "2506d173-b8ca-4019-a6b6-83909d4a0103"
      },
      "source": [
        "def tirar_outlier(df, lista):\n",
        "  df_clean = df[lista]\n",
        "  for col, dados in df_clean.iteritems():\n",
        "    df_clean = df_clean[((df_clean[col] - df_clean[col].mean()) / df_clean[col].std()).abs() < 3]\n",
        "    df_clean = df_clean[np.abs(df_clean[col]-df_clean[col].mean()) <= (3*df_clean[col].std())]\n",
        "\n",
        "  valores_retirados = df.shape[0] - df_clean.shape[0]\n",
        "  print('Foi retirado {} valores de {} ({:.2f})%'.format(valores_retirados, df.shape[0], valores_retirados/df.shape[0]*100))\n",
        "  print('Ficamos com {} resultados'.format(df_clean.shape[0]))\n",
        "\n",
        "  for i in range(0, len(df)):\n",
        "    if i not in df_clean.index:\n",
        "        df = df[df.index != i]\n",
        "\n",
        "  df = df.reset_index(drop=True)\n",
        "  return df\n",
        "\n",
        "lista = ['Latitude', 'Longitude', 'Price']\n",
        "\n",
        "print('\\nPara o Data Frame Sale:')\n",
        "Sale_clean = tirar_outlier(Sale, lista)"
      ],
      "execution_count": 39,
      "outputs": [
        {
          "output_type": "stream",
          "text": [
            "\n",
            "Para o Data Frame Sale:\n",
            "Foi retirado 739 valores de 6412 (11.53)%\n",
            "Ficamos com 5673 resultados\n"
          ],
          "name": "stdout"
        }
      ]
    },
    {
      "cell_type": "code",
      "metadata": {
        "id": "Fq6UU-lDrR-i",
        "colab_type": "code",
        "colab": {}
      },
      "source": [
        "from sklearn.preprocessing import StandardScaler\n",
        "\n",
        "scaler = StandardScaler()\n",
        "scaler.fit(Sale_clean[['Price']])\n",
        "Sale_clean['Price'] = scaler.transform(Sale_clean[['Price']])"
      ],
      "execution_count": 0,
      "outputs": []
    },
    {
      "cell_type": "code",
      "metadata": {
        "id": "QRIq738VssBl",
        "colab_type": "code",
        "colab": {
          "base_uri": "https://localhost:8080/",
          "height": 34
        },
        "outputId": "54e434ce-6122-4d7c-a45d-3be1c3c1f242"
      },
      "source": [
        "from sklearn.model_selection import train_test_split\n",
        "from xgboost import XGBRegressor\n",
        "from sklearn.metrics import r2_score\n",
        "\n",
        "X = Sale_clean.drop(['Price'], axis = 1)\n",
        "y = Sale_clean[['Price']]\n",
        "\n",
        "X_train, X_test, y_train, y_test = train_test_split(X, y, test_size = 0.2, random_state = 42)\n",
        "\n",
        "modelo = XGBRegressor(random_state=42, silent=True)\n",
        "modelo.fit(X_train, y_train)\n",
        "y_pred = modelo.predict(X_test)\n",
        "resultados = r2_score(y_test, y_pred)\n",
        "\n",
        "#print('R² = {:.3f}'.format(r2_score(y_test, y_pred)))\n",
        "resultados.round(3)"
      ],
      "execution_count": 41,
      "outputs": [
        {
          "output_type": "execute_result",
          "data": {
            "text/plain": [
              "0.901"
            ]
          },
          "metadata": {
            "tags": []
          },
          "execution_count": 41
        }
      ]
    },
    {
      "cell_type": "code",
      "metadata": {
        "id": "hdXWNY9RtMb_",
        "colab_type": "code",
        "colab": {}
      },
      "source": [
        "import pickle\n",
        "\n",
        "with open('modelo_simples.pkl', 'wb') as file:\n",
        "    pickle.dump(modelo, file)"
      ],
      "execution_count": 0,
      "outputs": []
    },
    {
      "cell_type": "code",
      "metadata": {
        "id": "tTaw6KtYwD5Y",
        "colab_type": "code",
        "colab": {}
      },
      "source": [
        "features_simples = X_train.columns.values\n",
        "\n",
        "with open('features_simples.names', 'wb') as file:\n",
        "    pickle.dump(features_simples, file)"
      ],
      "execution_count": 0,
      "outputs": []
    },
    {
      "cell_type": "code",
      "metadata": {
        "id": "dZgtjRrewGI7",
        "colab_type": "code",
        "colab": {}
      },
      "source": [
        "with open('/content/modelo_simples.pkl', 'rb') as file:\n",
        "    modelo_simples = pickle.load(file)\n",
        "with open('/content/features_simples.names', 'rb') as file:\n",
        "    features_names = pickle.load(file)"
      ],
      "execution_count": 0,
      "outputs": []
    }
  ]
}