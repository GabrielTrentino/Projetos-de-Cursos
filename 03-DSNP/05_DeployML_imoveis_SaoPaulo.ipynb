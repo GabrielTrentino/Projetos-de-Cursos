{
  "nbformat": 4,
  "nbformat_minor": 0,
  "metadata": {
    "colab": {
      "name": "05_DeployML_imoveis_SaoPaulo.ipynb",
      "provenance": [],
      "collapsed_sections": [],
      "toc_visible": true
    },
    "kernelspec": {
      "name": "python3",
      "display_name": "Python 3"
    }
  },
  "cells": [
    {
      "cell_type": "markdown",
      "metadata": {
        "id": "YwSdMASLs8VO",
        "colab_type": "text"
      },
      "source": [
        "![](https://github.com/GabrielTrentino/Projetos-de-Cursos/blob/master/03-DSNP/00%20-%20Imagens/05%20-%20ImovelSaoPaulo.png?raw=true)\n",
        "# Preço de Venda e Aluguel para Imóveis em São Paulo:\n",
        "\n",
        "O Data set do Preço de Venda e Aluguel para Imóveis em São Paulo está disponibilizado pelo [link do kaggle](https://www.kaggle.com/argonalyst/sao-paulo-real-estate-sale-rent-april-2019) possuindo mais de 13000 entradas sobre imóveis em São Paulo. Essas entradas são divididas entre Venda e Aluguel, e será utilizado somente a parte para as vendas nesse notebook. Lembrando que esse Data set é uma parcela do que foi realmente feito no [notebook de competição](https://github.com/GabrielTrentino/Competicoes/blob/master/Pre%C3%A7o_imoveis_S%C3%A3o_Paulo.ipynb).\n",
        "\n",
        "Os codigos escritos nesse notebook tem como a finalidade de mostrar os processos necessários para o Deploy em uma aplicação web. Alguns processos como análise exploratória ou análise implicita não estarão disponíveis nesse atual notebook. Esse notebook teve como inspiração as aulas do curso de Data Science na Prática.\n",
        "\n",
        "A aplicação Web teve esse resultado:\n",
        "\n",
        "![](https://github.com/GabrielTrentino/Projetos-de-Cursos/blob/master/03-DSNP/00%20-%20Imagens/05-TelaWebAppSP.png?raw=true)"
      ]
    },
    {
      "cell_type": "markdown",
      "metadata": {
        "id": "XFJLM9Cf8ES1",
        "colab_type": "text"
      },
      "source": [
        "#Primeiros Passos:\n",
        "\n",
        "Nessa primeira parte do notebook, é instalado as funções e bibliotecas primeiramente necessárias (podendo ser instalada outras ao decorrer do estudo), para que em seguida, possamos utilizar o arquivo `csv` disponibilizado no Kaggle. Esse arquivo é convertido para o tipo Data Frame do pandas e, em seguida, é mostrado as primeiras 5 entradas com a função \"`.head()`\"."
      ]
    },
    {
      "cell_type": "markdown",
      "metadata": {
        "id": "cdIPsSZZ1HPE",
        "colab_type": "text"
      },
      "source": [
        "##Importando as Bibliotecas:\n",
        "\n",
        "Inicialmente será importado as bibliotecas: pandas e numpy para manipulação dos dados e, em seguida, serão instaladas outras bibliotecas para a elaboração do modelo."
      ]
    },
    {
      "cell_type": "code",
      "metadata": {
        "id": "T0C3V3iWpAo1",
        "colab_type": "code",
        "colab": {}
      },
      "source": [
        "# Importar os pacotes necessários\n",
        "import pandas as pd\n",
        "import numpy as np"
      ],
      "execution_count": null,
      "outputs": []
    },
    {
      "cell_type": "markdown",
      "metadata": {
        "id": "J4vwa9YG7FE-",
        "colab_type": "text"
      },
      "source": [
        "## Importando o Data Set:"
      ]
    },
    {
      "cell_type": "code",
      "metadata": {
        "id": "GUjRPZWP7Kfd",
        "colab_type": "code",
        "colab": {
          "base_uri": "https://localhost:8080/",
          "height": 401
        },
        "outputId": "15b5f6df-7de7-45af-daab-5cc9b056bada"
      },
      "source": [
        "# Importar o dataset para um dataframe\n",
        "df = pd.read_csv('sao-paulo-properties-april-2019.csv')\n",
        "\n",
        "# Ver as 5 primeiras entradas\n",
        "df.head()"
      ],
      "execution_count": null,
      "outputs": [
        {
          "output_type": "execute_result",
          "data": {
            "text/html": [
              "<div>\n",
              "<style scoped>\n",
              "    .dataframe tbody tr th:only-of-type {\n",
              "        vertical-align: middle;\n",
              "    }\n",
              "\n",
              "    .dataframe tbody tr th {\n",
              "        vertical-align: top;\n",
              "    }\n",
              "\n",
              "    .dataframe thead th {\n",
              "        text-align: right;\n",
              "    }\n",
              "</style>\n",
              "<table border=\"1\" class=\"dataframe\">\n",
              "  <thead>\n",
              "    <tr style=\"text-align: right;\">\n",
              "      <th></th>\n",
              "      <th>Price</th>\n",
              "      <th>Condo</th>\n",
              "      <th>Size</th>\n",
              "      <th>Rooms</th>\n",
              "      <th>Toilets</th>\n",
              "      <th>Suites</th>\n",
              "      <th>Parking</th>\n",
              "      <th>Elevator</th>\n",
              "      <th>Furnished</th>\n",
              "      <th>Swimming Pool</th>\n",
              "      <th>New</th>\n",
              "      <th>District</th>\n",
              "      <th>Negotiation Type</th>\n",
              "      <th>Property Type</th>\n",
              "      <th>Latitude</th>\n",
              "      <th>Longitude</th>\n",
              "    </tr>\n",
              "  </thead>\n",
              "  <tbody>\n",
              "    <tr>\n",
              "      <th>0</th>\n",
              "      <td>930</td>\n",
              "      <td>220</td>\n",
              "      <td>47</td>\n",
              "      <td>2</td>\n",
              "      <td>2</td>\n",
              "      <td>1</td>\n",
              "      <td>1</td>\n",
              "      <td>0</td>\n",
              "      <td>0</td>\n",
              "      <td>0</td>\n",
              "      <td>0</td>\n",
              "      <td>Artur Alvim/São Paulo</td>\n",
              "      <td>rent</td>\n",
              "      <td>apartment</td>\n",
              "      <td>-23.543138</td>\n",
              "      <td>-46.479486</td>\n",
              "    </tr>\n",
              "    <tr>\n",
              "      <th>1</th>\n",
              "      <td>1000</td>\n",
              "      <td>148</td>\n",
              "      <td>45</td>\n",
              "      <td>2</td>\n",
              "      <td>2</td>\n",
              "      <td>1</td>\n",
              "      <td>1</td>\n",
              "      <td>0</td>\n",
              "      <td>0</td>\n",
              "      <td>0</td>\n",
              "      <td>0</td>\n",
              "      <td>Artur Alvim/São Paulo</td>\n",
              "      <td>rent</td>\n",
              "      <td>apartment</td>\n",
              "      <td>-23.550239</td>\n",
              "      <td>-46.480718</td>\n",
              "    </tr>\n",
              "    <tr>\n",
              "      <th>2</th>\n",
              "      <td>1000</td>\n",
              "      <td>100</td>\n",
              "      <td>48</td>\n",
              "      <td>2</td>\n",
              "      <td>2</td>\n",
              "      <td>1</td>\n",
              "      <td>1</td>\n",
              "      <td>0</td>\n",
              "      <td>0</td>\n",
              "      <td>0</td>\n",
              "      <td>0</td>\n",
              "      <td>Artur Alvim/São Paulo</td>\n",
              "      <td>rent</td>\n",
              "      <td>apartment</td>\n",
              "      <td>-23.542818</td>\n",
              "      <td>-46.485665</td>\n",
              "    </tr>\n",
              "    <tr>\n",
              "      <th>3</th>\n",
              "      <td>1000</td>\n",
              "      <td>200</td>\n",
              "      <td>48</td>\n",
              "      <td>2</td>\n",
              "      <td>2</td>\n",
              "      <td>1</td>\n",
              "      <td>1</td>\n",
              "      <td>0</td>\n",
              "      <td>0</td>\n",
              "      <td>0</td>\n",
              "      <td>0</td>\n",
              "      <td>Artur Alvim/São Paulo</td>\n",
              "      <td>rent</td>\n",
              "      <td>apartment</td>\n",
              "      <td>-23.547171</td>\n",
              "      <td>-46.483014</td>\n",
              "    </tr>\n",
              "    <tr>\n",
              "      <th>4</th>\n",
              "      <td>1300</td>\n",
              "      <td>410</td>\n",
              "      <td>55</td>\n",
              "      <td>2</td>\n",
              "      <td>2</td>\n",
              "      <td>1</td>\n",
              "      <td>1</td>\n",
              "      <td>1</td>\n",
              "      <td>0</td>\n",
              "      <td>0</td>\n",
              "      <td>0</td>\n",
              "      <td>Artur Alvim/São Paulo</td>\n",
              "      <td>rent</td>\n",
              "      <td>apartment</td>\n",
              "      <td>-23.525025</td>\n",
              "      <td>-46.482436</td>\n",
              "    </tr>\n",
              "  </tbody>\n",
              "</table>\n",
              "</div>"
            ],
            "text/plain": [
              "   Price  Condo  Size  ...  Property Type   Latitude  Longitude\n",
              "0    930    220    47  ...      apartment -23.543138 -46.479486\n",
              "1   1000    148    45  ...      apartment -23.550239 -46.480718\n",
              "2   1000    100    48  ...      apartment -23.542818 -46.485665\n",
              "3   1000    200    48  ...      apartment -23.547171 -46.483014\n",
              "4   1300    410    55  ...      apartment -23.525025 -46.482436\n",
              "\n",
              "[5 rows x 16 columns]"
            ]
          },
          "metadata": {
            "tags": []
          },
          "execution_count": 2
        }
      ]
    },
    {
      "cell_type": "markdown",
      "metadata": {
        "id": "aSYufSRs2LNP",
        "colab_type": "text"
      },
      "source": [
        "##Dicionário das variáveis:\n",
        "\n",
        "Nessa parte do notebook é descrito quais são as variáveis presentes no Data Set e o que elas significam. É uma parte crucial para entendermos o que estaremos requisitando do modelo e do usuário durante a aplicação Web.\n",
        "\n",
        "* `Price` - Preço Final anunciado em Reais (R$).\n",
        "* `Condo` - Taxa de condomínio (valores desconhecidos = 0).\n",
        "* `Size` - Área da Propriedade em m² (apenas áreas privadas).\n",
        "* `Rooms` - Número de quartos.\n",
        "* `Toilets` - Número de banheiros (todos os banheiros, inclue suíte).\n",
        "* `Suites` - Numero de quartos com banheiro exclusivo.\n",
        "* `Parking` - Quantidade de vagas de garagem.\n",
        "* `Elevator`- Valor Binário: 1 indica que há elevador, 0 não há.\n",
        "* `Furnished` - Valor Binário: 1 indica que a propriedade é mobilhado, 0 não é mobilhado.\n",
        "* `Swimming Pool`- Valor Binário: 1 indica que há piscina, 0 não há.\n",
        "* `New` - Valor Binário: 1 indica que a propriedade foi construida recentemente, 0 não é recente.\n",
        "* `District` - Setor/Cidade em que a propriedade está localizada.\n",
        "* `Negotiation Type` - O imóvel está para Venda (`Sale`) ou Aluguel (`Rent`)?\n",
        "* `Property Type` - Tipo de Imóvel, o Dataset é focado para apartamentos, apenas.\n",
        "* `Latitude` - Latitude do imóvel.\n",
        "* `Longitude` - Longitude do imóvel.\n",
        "\n",
        "A variável `Property Type` não será util para o nosso estudo, pois estaremos trabalhando apenas com apartamentos. E so iremos trabalhar com negociações do tipo Venda (`Sale`) da variável `Negotiation Type`. Essa escolha se deu devido à maior precisão desse modelo durante fases de validação no [notebook de competição](https://github.com/GabrielTrentino/Competicoes/blob/master/Pre%C3%A7o_imoveis_S%C3%A3o_Paulo.ipynb), citado anteriormente."
      ]
    },
    {
      "cell_type": "markdown",
      "metadata": {
        "id": "FY2iBB311J91",
        "colab_type": "text"
      },
      "source": [
        "##Limpeza de Outliers:\n",
        "\n",
        "Os outliers a serem removidos serão aqueles que estarão a 3 desvio padrões da média dos dados."
      ]
    },
    {
      "cell_type": "code",
      "metadata": {
        "id": "Hph-tT_r_ZdP",
        "colab_type": "code",
        "colab": {
          "base_uri": "https://localhost:8080/",
          "height": 52
        },
        "outputId": "ed150336-42a2-4f4a-f609-83a9417e6bb3"
      },
      "source": [
        "# Criando função para tirar variáveis de uma lista:\n",
        "def tirar_outlier(df, lista):\n",
        "  df_clean = df[lista]\n",
        "  for col, dados in df_clean.iteritems():\n",
        "    df_clean = df_clean[((df_clean[col] - df_clean[col].median()) / df_clean[col].std()).abs() < 3]\n",
        "    df_clean = df_clean[np.abs(df_clean[col]-df_clean[col].median()) <= (3*df_clean[col].std())]\n",
        "\n",
        "  valores_retirados = df.shape[0] - df_clean.shape[0]\n",
        "  print('Foi retirado {} valores de {} ({:.2f})%'.format(valores_retirados, df.shape[0], valores_retirados/df.shape[0]*100))\n",
        "  print('Ficamos com {} resultados'.format(df_clean.shape[0]))\n",
        "\n",
        "  for i in range(0, len(df)):\n",
        "    if i not in df_clean.index:\n",
        "        df = df[df.index != i]\n",
        "\n",
        "  df = df.reset_index(drop=True)\n",
        "  return df\n",
        "\n",
        "# Retirando o Outlier de Latitude e Longitude:\n",
        "df = tirar_outlier(df, ['Latitude', 'Longitude'])"
      ],
      "execution_count": null,
      "outputs": [
        {
          "output_type": "stream",
          "text": [
            "Foi retirado 1032 valores de 13640 (7.57)%\n",
            "Ficamos com 12608 resultados\n"
          ],
          "name": "stdout"
        }
      ]
    },
    {
      "cell_type": "markdown",
      "metadata": {
        "id": "NqT7ONvvhweb",
        "colab_type": "text"
      },
      "source": [
        "## Separando os bairros da coluna `District`:\n",
        "\n",
        "Ao utilizar \"`.apply()`\" retiramos as informações da cidade (São Paulo) e mantemos apenas o bairro."
      ]
    },
    {
      "cell_type": "code",
      "metadata": {
        "id": "IwlVlym01PHC",
        "colab_type": "code",
        "colab": {
          "base_uri": "https://localhost:8080/",
          "height": 177
        },
        "outputId": "fe52f3fe-f2c4-4582-feb3-37c69a0a803b"
      },
      "source": [
        "df['District'] = df['District'].apply(lambda x: x.split('/')[0])\n",
        "df.head(2)"
      ],
      "execution_count": null,
      "outputs": [
        {
          "output_type": "execute_result",
          "data": {
            "text/html": [
              "<div>\n",
              "<style scoped>\n",
              "    .dataframe tbody tr th:only-of-type {\n",
              "        vertical-align: middle;\n",
              "    }\n",
              "\n",
              "    .dataframe tbody tr th {\n",
              "        vertical-align: top;\n",
              "    }\n",
              "\n",
              "    .dataframe thead th {\n",
              "        text-align: right;\n",
              "    }\n",
              "</style>\n",
              "<table border=\"1\" class=\"dataframe\">\n",
              "  <thead>\n",
              "    <tr style=\"text-align: right;\">\n",
              "      <th></th>\n",
              "      <th>Price</th>\n",
              "      <th>Condo</th>\n",
              "      <th>Size</th>\n",
              "      <th>Rooms</th>\n",
              "      <th>Toilets</th>\n",
              "      <th>Suites</th>\n",
              "      <th>Parking</th>\n",
              "      <th>Elevator</th>\n",
              "      <th>Furnished</th>\n",
              "      <th>Swimming Pool</th>\n",
              "      <th>New</th>\n",
              "      <th>District</th>\n",
              "      <th>Negotiation Type</th>\n",
              "      <th>Property Type</th>\n",
              "      <th>Latitude</th>\n",
              "      <th>Longitude</th>\n",
              "    </tr>\n",
              "  </thead>\n",
              "  <tbody>\n",
              "    <tr>\n",
              "      <th>0</th>\n",
              "      <td>930</td>\n",
              "      <td>220</td>\n",
              "      <td>47</td>\n",
              "      <td>2</td>\n",
              "      <td>2</td>\n",
              "      <td>1</td>\n",
              "      <td>1</td>\n",
              "      <td>0</td>\n",
              "      <td>0</td>\n",
              "      <td>0</td>\n",
              "      <td>0</td>\n",
              "      <td>Artur Alvim</td>\n",
              "      <td>rent</td>\n",
              "      <td>apartment</td>\n",
              "      <td>-23.543138</td>\n",
              "      <td>-46.479486</td>\n",
              "    </tr>\n",
              "    <tr>\n",
              "      <th>1</th>\n",
              "      <td>1000</td>\n",
              "      <td>148</td>\n",
              "      <td>45</td>\n",
              "      <td>2</td>\n",
              "      <td>2</td>\n",
              "      <td>1</td>\n",
              "      <td>1</td>\n",
              "      <td>0</td>\n",
              "      <td>0</td>\n",
              "      <td>0</td>\n",
              "      <td>0</td>\n",
              "      <td>Artur Alvim</td>\n",
              "      <td>rent</td>\n",
              "      <td>apartment</td>\n",
              "      <td>-23.550239</td>\n",
              "      <td>-46.480718</td>\n",
              "    </tr>\n",
              "  </tbody>\n",
              "</table>\n",
              "</div>"
            ],
            "text/plain": [
              "   Price  Condo  Size  ...  Property Type   Latitude  Longitude\n",
              "0    930    220    47  ...      apartment -23.543138 -46.479486\n",
              "1   1000    148    45  ...      apartment -23.550239 -46.480718\n",
              "\n",
              "[2 rows x 16 columns]"
            ]
          },
          "metadata": {
            "tags": []
          },
          "execution_count": 4
        }
      ]
    },
    {
      "cell_type": "markdown",
      "metadata": {
        "id": "Lxacqi4o1QgQ",
        "colab_type": "text"
      },
      "source": [
        "## Criando o Data Frame com os valores médios para os bairros:\n",
        "\n",
        "Iremos criar um Data Frame com os valores médios de Latitude e Longitude para que possamos consultar pelo Pycharm quando o usuário selecionar o bairro desejado. Dessa forma, teremos valores de Latitude e Longitude mais próximos e precisos."
      ]
    },
    {
      "cell_type": "code",
      "metadata": {
        "id": "Gk5HZPS5rnYf",
        "colab_type": "code",
        "colab": {
          "base_uri": "https://localhost:8080/",
          "height": 436
        },
        "outputId": "82618f65-c091-4d10-f114-f388ef28c82c"
      },
      "source": [
        "# Criando Data Frame vazio:\n",
        "Bairros_LatLong = pd.DataFrame()\n",
        "\n",
        "# Agrupando os valores médios por bairro:\n",
        "Bairros_LatLong['Latitude'] = df.Latitude.groupby(df.District).mean()\n",
        "Bairros_LatLong['Longitude'] = df.Longitude.groupby(df.District).mean()\n",
        "\n",
        "# Gerando um arquivo csv com os valores médios:\n",
        "Bairros_LatLong.to_csv('Bairros_LatLong.csv')\n",
        "\n",
        "# Visualizando o Data Frame:\n",
        "Bairros_LatLong"
      ],
      "execution_count": null,
      "outputs": [
        {
          "output_type": "execute_result",
          "data": {
            "text/html": [
              "<div>\n",
              "<style scoped>\n",
              "    .dataframe tbody tr th:only-of-type {\n",
              "        vertical-align: middle;\n",
              "    }\n",
              "\n",
              "    .dataframe tbody tr th {\n",
              "        vertical-align: top;\n",
              "    }\n",
              "\n",
              "    .dataframe thead th {\n",
              "        text-align: right;\n",
              "    }\n",
              "</style>\n",
              "<table border=\"1\" class=\"dataframe\">\n",
              "  <thead>\n",
              "    <tr style=\"text-align: right;\">\n",
              "      <th></th>\n",
              "      <th>Latitude</th>\n",
              "      <th>Longitude</th>\n",
              "    </tr>\n",
              "    <tr>\n",
              "      <th>District</th>\n",
              "      <th></th>\n",
              "      <th></th>\n",
              "    </tr>\n",
              "  </thead>\n",
              "  <tbody>\n",
              "    <tr>\n",
              "      <th>Alto de Pinheiros</th>\n",
              "      <td>-23.546400</td>\n",
              "      <td>-46.711485</td>\n",
              "    </tr>\n",
              "    <tr>\n",
              "      <th>Anhanguera</th>\n",
              "      <td>-23.591509</td>\n",
              "      <td>-46.672088</td>\n",
              "    </tr>\n",
              "    <tr>\n",
              "      <th>Aricanduva</th>\n",
              "      <td>-23.553916</td>\n",
              "      <td>-46.522669</td>\n",
              "    </tr>\n",
              "    <tr>\n",
              "      <th>Artur Alvim</th>\n",
              "      <td>-23.544731</td>\n",
              "      <td>-46.486363</td>\n",
              "    </tr>\n",
              "    <tr>\n",
              "      <th>Barra Funda</th>\n",
              "      <td>-23.523698</td>\n",
              "      <td>-46.662652</td>\n",
              "    </tr>\n",
              "    <tr>\n",
              "      <th>...</th>\n",
              "      <td>...</td>\n",
              "      <td>...</td>\n",
              "    </tr>\n",
              "    <tr>\n",
              "      <th>Vila Matilde</th>\n",
              "      <td>-23.536455</td>\n",
              "      <td>-46.526908</td>\n",
              "    </tr>\n",
              "    <tr>\n",
              "      <th>Vila Olimpia</th>\n",
              "      <td>-23.597109</td>\n",
              "      <td>-46.682245</td>\n",
              "    </tr>\n",
              "    <tr>\n",
              "      <th>Vila Prudente</th>\n",
              "      <td>-23.588982</td>\n",
              "      <td>-46.575585</td>\n",
              "    </tr>\n",
              "    <tr>\n",
              "      <th>Vila Sônia</th>\n",
              "      <td>-23.598050</td>\n",
              "      <td>-46.733158</td>\n",
              "    </tr>\n",
              "    <tr>\n",
              "      <th>Água Rasa</th>\n",
              "      <td>-23.565242</td>\n",
              "      <td>-46.568844</td>\n",
              "    </tr>\n",
              "  </tbody>\n",
              "</table>\n",
              "<p>96 rows × 2 columns</p>\n",
              "</div>"
            ],
            "text/plain": [
              "                    Latitude  Longitude\n",
              "District                               \n",
              "Alto de Pinheiros -23.546400 -46.711485\n",
              "Anhanguera        -23.591509 -46.672088\n",
              "Aricanduva        -23.553916 -46.522669\n",
              "Artur Alvim       -23.544731 -46.486363\n",
              "Barra Funda       -23.523698 -46.662652\n",
              "...                      ...        ...\n",
              "Vila Matilde      -23.536455 -46.526908\n",
              "Vila Olimpia      -23.597109 -46.682245\n",
              "Vila Prudente     -23.588982 -46.575585\n",
              "Vila Sônia        -23.598050 -46.733158\n",
              "Água Rasa         -23.565242 -46.568844\n",
              "\n",
              "[96 rows x 2 columns]"
            ]
          },
          "metadata": {
            "tags": []
          },
          "execution_count": 5
        }
      ]
    },
    {
      "cell_type": "markdown",
      "metadata": {
        "id": "GQRYOBmkjwJ8",
        "colab_type": "text"
      },
      "source": [
        "## Retirando Coluna de `District` e `Property Type`:"
      ]
    },
    {
      "cell_type": "code",
      "metadata": {
        "id": "2V52fJ7Jjynn",
        "colab_type": "code",
        "colab": {}
      },
      "source": [
        "# Retirando as colunas de District e Property Type:\n",
        "df.drop(['District', 'Property Type'], axis = 1, inplace = True)"
      ],
      "execution_count": null,
      "outputs": []
    },
    {
      "cell_type": "markdown",
      "metadata": {
        "id": "frgtxU6j1VA_",
        "colab_type": "text"
      },
      "source": [
        "##Criando o Data Frame para Sale:\n",
        "\n",
        "Aqui é utilizado o Data Frame `df` com a finalidade de elaborar um novo Data Frame contendo apenas os dados de imóveis que estão disponíveis para venda. O Data Frame `Sale` é escolhido sobre o `Rent` devido à uma precisão melhor quando comparadas."
      ]
    },
    {
      "cell_type": "code",
      "metadata": {
        "id": "FRJmboyYrbxq",
        "colab_type": "code",
        "colab": {
          "base_uri": "https://localhost:8080/",
          "height": 77
        },
        "outputId": "68dce7d8-6c3f-4369-b991-61c3542f0cad"
      },
      "source": [
        "# Criando o Data Frame com os dados de venda\n",
        "Sale = df[df['Negotiation Type'] == 'sale'].drop('Negotiation Type', axis = 1)\n",
        "Sale.head(1)"
      ],
      "execution_count": null,
      "outputs": [
        {
          "output_type": "execute_result",
          "data": {
            "text/html": [
              "<div>\n",
              "<style scoped>\n",
              "    .dataframe tbody tr th:only-of-type {\n",
              "        vertical-align: middle;\n",
              "    }\n",
              "\n",
              "    .dataframe tbody tr th {\n",
              "        vertical-align: top;\n",
              "    }\n",
              "\n",
              "    .dataframe thead th {\n",
              "        text-align: right;\n",
              "    }\n",
              "</style>\n",
              "<table border=\"1\" class=\"dataframe\">\n",
              "  <thead>\n",
              "    <tr style=\"text-align: right;\">\n",
              "      <th></th>\n",
              "      <th>Price</th>\n",
              "      <th>Condo</th>\n",
              "      <th>Size</th>\n",
              "      <th>Rooms</th>\n",
              "      <th>Toilets</th>\n",
              "      <th>Suites</th>\n",
              "      <th>Parking</th>\n",
              "      <th>Elevator</th>\n",
              "      <th>Furnished</th>\n",
              "      <th>Swimming Pool</th>\n",
              "      <th>New</th>\n",
              "      <th>Latitude</th>\n",
              "      <th>Longitude</th>\n",
              "    </tr>\n",
              "  </thead>\n",
              "  <tbody>\n",
              "    <tr>\n",
              "      <th>4504</th>\n",
              "      <td>732600</td>\n",
              "      <td>1000</td>\n",
              "      <td>74</td>\n",
              "      <td>1</td>\n",
              "      <td>2</td>\n",
              "      <td>1</td>\n",
              "      <td>2</td>\n",
              "      <td>1</td>\n",
              "      <td>0</td>\n",
              "      <td>1</td>\n",
              "      <td>0</td>\n",
              "      <td>-23.552129</td>\n",
              "      <td>-46.692244</td>\n",
              "    </tr>\n",
              "  </tbody>\n",
              "</table>\n",
              "</div>"
            ],
            "text/plain": [
              "       Price  Condo  Size  Rooms  ...  Swimming Pool  New   Latitude  Longitude\n",
              "4504  732600   1000    74      1  ...              1    0 -23.552129 -46.692244\n",
              "\n",
              "[1 rows x 13 columns]"
            ]
          },
          "metadata": {
            "tags": []
          },
          "execution_count": 7
        }
      ]
    },
    {
      "cell_type": "code",
      "metadata": {
        "id": "2npfAXwOrqag",
        "colab_type": "code",
        "colab": {
          "base_uri": "https://localhost:8080/",
          "height": 70
        },
        "outputId": "82a1fa6c-951c-4762-ffd4-968e9dd061ad"
      },
      "source": [
        "# Retirando os Outliers do Data Frame:\n",
        "print('Para o Data Frame Sale:')\n",
        "Sale_clean = tirar_outlier(Sale, ['Latitude', 'Longitude', 'Price', 'Rooms', 'Toilets', 'Suites', 'Parking'])"
      ],
      "execution_count": null,
      "outputs": [
        {
          "output_type": "stream",
          "text": [
            "Para o Data Frame Sale:\n",
            "Foi retirado 787 valores de 5917 (13.30)%\n",
            "Ficamos com 5130 resultados\n"
          ],
          "name": "stdout"
        }
      ]
    },
    {
      "cell_type": "markdown",
      "metadata": {
        "id": "i0U9zXEI1Zmo",
        "colab_type": "text"
      },
      "source": [
        "#Modelo de Regressão Linear:\n",
        "\n",
        "Para esse modelo de Deploy, iremos utilizar a Regressão Linear como modelo preditivo, uma vez que o XGBoost trouxe problemas técnicos na instalação no Pycharm."
      ]
    },
    {
      "cell_type": "code",
      "metadata": {
        "id": "QRIq738VssBl",
        "colab_type": "code",
        "colab": {
          "base_uri": "https://localhost:8080/",
          "height": 34
        },
        "outputId": "5c6d9474-6609-442e-8f26-2f0b510adcd5"
      },
      "source": [
        "# Instalando as bibiotecas necessárias:\n",
        "from sklearn.model_selection import train_test_split\n",
        "from sklearn.linear_model import LinearRegression\n",
        "from sklearn.metrics import r2_score\n",
        "\n",
        "# Criando as variáveis X e Y:\n",
        "X = Sale_clean.drop(['Price'], axis = 1)\n",
        "y = Sale_clean[['Price']]\n",
        "\n",
        "# Separando os dados de treino e teste:\n",
        "X_train, X_test, y_train, y_test = train_test_split(X, y, test_size = 0.2, random_state = 42)\n",
        "\n",
        "# Elaborando o modelo, treinamento e validação:\n",
        "modelo = LinearRegression()\n",
        "modelo.fit(X_train, y_train)\n",
        "y_pred = modelo.predict(X_test)\n",
        "resultados = r2_score(y_test, y_pred)\n",
        "\n",
        "# Imprimindo o R²:\n",
        "resultados.round(3)"
      ],
      "execution_count": null,
      "outputs": [
        {
          "output_type": "execute_result",
          "data": {
            "text/plain": [
              "0.725"
            ]
          },
          "metadata": {
            "tags": []
          },
          "execution_count": 9
        }
      ]
    },
    {
      "cell_type": "markdown",
      "metadata": {
        "id": "P3Liy5j61csQ",
        "colab_type": "text"
      },
      "source": [
        "#Exportando os Modelos:\n",
        "\n",
        "Para utilizarmos os dados no Pycharm, devemos criar um arquivo contendo o modelo e os nomes das features para serem expotados para o Pycharm, para que assim possamos criar a aplicação Web com esses dados."
      ]
    },
    {
      "cell_type": "code",
      "metadata": {
        "id": "hdXWNY9RtMb_",
        "colab_type": "code",
        "colab": {}
      },
      "source": [
        "# Importando o Pickle para exportar o modelo.\n",
        "import pickle\n",
        "\n",
        "# Criando o arquivo com o modelo de Machine Learning:\n",
        "with open('modelo_simples.pkl', 'wb') as file:\n",
        "    pickle.dump(modelo, file)"
      ],
      "execution_count": null,
      "outputs": []
    },
    {
      "cell_type": "code",
      "metadata": {
        "id": "tTaw6KtYwD5Y",
        "colab_type": "code",
        "colab": {}
      },
      "source": [
        "# Extraindo os nomes das features:\n",
        "features_simples = X_train.columns.values\n",
        "\n",
        "# Criando o arquivo com os nomes das features:\n",
        "with open('features_simples.names', 'wb') as file:\n",
        "    pickle.dump(features_simples, file)"
      ],
      "execution_count": null,
      "outputs": []
    },
    {
      "cell_type": "markdown",
      "metadata": {
        "id": "1D9XtE35pl_b",
        "colab_type": "text"
      },
      "source": [
        "#Códigos no Pycharm:\n",
        "\n",
        "![](https://github.com/GabrielTrentino/Projetos-de-Cursos/blob/master/03-DSNP/00%20-%20Imagens/05-TelaWebAppSP.png?raw=true)\n",
        "\n",
        "Essa parte do Notebook, teremos uma simulação de como os dados são processados na linguagem Python, o [arquivo HTML](https://github.com/GabrielTrentino/Projetos-de-Cursos/blob/master/03-DSNP/05%20-%20Template%20-%20home.html) tem as informações do template, enquanto que o [WebApp](github.com/GabrielTrentino/Projetos-de-Cursos/blob/master/03-DSNP/05%20-%20Webapp.py) possui o código do que foi realizado no Pycharm."
      ]
    },
    {
      "cell_type": "code",
      "metadata": {
        "id": "OsGjCIO1gYGb",
        "colab_type": "code",
        "colab": {}
      },
      "source": [
        "# Dados obtidos pela aplicação web:\n",
        "user_inputs = {'District': 'Alto de Pinheiros', 'Condo': '55', 'Size': '33', 'Rooms': '1', 'Toilets': '1', 'Suites': '2', 'Parking': '0', 'Elevator': None, 'Furnished': None, 'Swimming Pool': '1', 'New':\n",
        " None}\n",
        "\n",
        "features_names = features_simples"
      ],
      "execution_count": null,
      "outputs": []
    },
    {
      "cell_type": "code",
      "metadata": {
        "id": "OXmXG4czgVdA",
        "colab_type": "code",
        "colab": {
          "base_uri": "https://localhost:8080/",
          "height": 34
        },
        "outputId": "804f5e7f-84d1-48f6-db9b-b9f60e8a831d"
      },
      "source": [
        "# Criando um Data Frame vazio e colocando 0 para todas as colunas:\n",
        "dados = pd.DataFrame(index=[0], columns=features_names)\n",
        "dados = dados.fillna(value=0)\n",
        "\n",
        "# Se os valores de user_inputs forem 'None', a variável recebera 0:\n",
        "for i in user_inputs.items():\n",
        "    if i[1] != None:\n",
        "        dados[i[0]] = i[1]\n",
        "    else:\n",
        "        dados[i[0]] = 0\n",
        "\n",
        "# Abrindo o arquivo das medias das Latitudes e Longitudes por bairro:\n",
        "df_lat_long = pd.read_csv('Bairros_LatLong.csv')\n",
        "\n",
        "# Inserido Latitude e Longitude de acordo com o Bairro selecionado:\n",
        "dados.Latitude = df_lat_long[df_lat_long.District == user_inputs.get('District')].Latitude.values[0]\n",
        "dados.Longitude = df_lat_long[df_lat_long.District == user_inputs.get('District')].Longitude.values[0]\n",
        "\n",
        "# Retirando a variável 'District':\n",
        "dados.drop('District', axis=1, inplace=True)\n",
        "\n",
        "# Convertendo os dados para float:\n",
        "dados = dados.astype(float)\n",
        "\n",
        "# Prevendo o valor de venda do imóvel:\n",
        "y_pred = modelo.predict(dados)[0][0]\n",
        "y_pred"
      ],
      "execution_count": null,
      "outputs": [
        {
          "output_type": "execute_result",
          "data": {
            "text/plain": [
              "220027.42127412185"
            ]
          },
          "metadata": {
            "tags": []
          },
          "execution_count": 13
        }
      ]
    }
  ]
}