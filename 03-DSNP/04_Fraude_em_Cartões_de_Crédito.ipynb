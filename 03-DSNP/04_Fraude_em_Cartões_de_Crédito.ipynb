{
  "nbformat": 4,
  "nbformat_minor": 0,
  "metadata": {
    "colab": {
      "name": "04_Fraude_em_Cartões_de_Crédito.ipynb",
      "provenance": []
    },
    "kernelspec": {
      "name": "python3",
      "display_name": "Python 3"
    }
  },
  "cells": [
    {
      "cell_type": "markdown",
      "metadata": {
        "id": "c2U_omwDHFZC",
        "colab_type": "text"
      },
      "source": [
        "# Detecção de Fraudes em Cartões de Crédito\n",
        "\n",
        "Neste projeto, abordamos o problema das fraudes em cartões de crédito, uma das principais preocupações das instituições financeiras como bancos e *fintechs*. Apenas no Brasil, cerca de 12,1 milhões de pessoas já foram vítimas de algum tipo de fraude financeira no último ano. Traduzindo em valores, os golpes financeiros ultrapassaram a cifra de R$ 1,8 bilhão de prejuízo por ano para os últimos 12 meses.\n",
        "\n",
        "<p align=center>\n",
        "<img src=\"http://sigmoidal.ai/wp-content/uploads/2019/12/900.jpg\" width=\"60%\"></p>\n",
        "\n",
        "Dentra essas fraudes, aquelas envolvendo cartões de crédito são de grande relevância uma vez que a sua não-detecção acaretará em prejuízos consideráveis, tanto para o consumidor quanto para a instituição financeira.\n",
        "\n",
        "Um outro fator a ser considerado é a quantidade de falsos positivos, ou seja, aquelas vezes em que você tentou fazer uma compra e teve seu cartão bloqueado preventivamente - o que provavelmente gerou estresse e constrangimento. Para isso, utilizamos alguns métodos, tais como: **Regressão Logística,  SVC, KNN e Arvore de Decisão.**\n",
        "\n",
        "Por todos esses motivos, o investimento na área de detecção de fraudes por meio de Inteligência Artificial vem crescendo a cada ano, representando uma grande oportunidade em *Data Science*. \n",
        "\n",
        "Dispondo de grandes volumes de dados como base histórica, um algoritmo de machine learning apenas um pouco melhor que os anteriores já representa uma economia de milhões de Reais. E esse é o desafio, aprimorar cada vez mais o uso de algoritmos visando inibir ou evitar transações fraudulentas."
      ]
    },
    {
      "cell_type": "markdown",
      "metadata": {
        "id": "wDEiKwMyHzGS",
        "colab_type": "text"
      },
      "source": [
        "## Importando os Dados\n",
        "\n",
        "Os dados que usaremos neste projeto foram disponibilizados por algumas empresas européias de cartão de crédito. O *dataset* representa as operações financeiras que aconteceram no período de dois dias, onde foram classificadas 492 fraudes em meio a quase 290 mil transações.\n",
        "\n",
        "Como você pode notar, este é um conjunto de dados extremamente desbalanceado, onde as fraudes representam apenas 0,17% do total.\n",
        "\n",
        "Outro detalhe interessante é que as *features* são todas numéricas, e foram descaracterizadas (por problemas ligados à privacidade e segurança). Assim, os nomes das colunas são representados por $[V1, V2, V3 \\dots, V28]$ \n",
        "\n",
        "<p align=center>\n",
        "<img src=\"http://sigmoidal.ai/wp-content/uploads/2019/12/54.jpg\" width=\"50%\"></p>\n",
        "\n",
        "[Na página original dos dados](https://www.kaggle.com/mlg-ulb/creditcardfraud), também é informado que as variáveis passaram por uma transformação conhecida como Análise de Componentes Principais (*Principal Component Analysis* - PCA).\n",
        "\n",
        "A PCA permite a redução da dimensionalidade enquanto mantém o maior número possível de informações. Para conseguir isso, o algoritmo encontra um conjunto novo de recursos - os chamados **componentes**.\n",
        "\n",
        "Esses componentes são em número menor or igual às variáveis originais. No caso deste projeto, os componentes achados pela transformação da PCA são as próprias colunas $[V1, V2, V3 \\dots, V28]$."
      ]
    },
    {
      "cell_type": "markdown",
      "metadata": {
        "id": "0M6oK1BRH6sD",
        "colab_type": "text"
      },
      "source": [
        "###Importando as bibliotecas necessárias:"
      ]
    },
    {
      "cell_type": "code",
      "metadata": {
        "id": "0sfCy6ZgOUab",
        "colab_type": "code",
        "colab": {}
      },
      "source": [
        "# Instalando o Scikit:\n",
        "!pip install -q scikit-plot --quiet\n",
        "\n",
        "# Retirando possíveis mensagens de avisos:\n",
        "from warnings import simplefilter\n",
        "simplefilter(action='ignore', category=FutureWarning)"
      ],
      "execution_count": 0,
      "outputs": []
    },
    {
      "cell_type": "code",
      "metadata": {
        "id": "DfZSj4ynA2Uo",
        "colab_type": "code",
        "colab": {}
      },
      "source": [
        "# Importando as bibliotecas essenciais:\n",
        "import pandas as pd\n",
        "import matplotlib.pyplot as plt\n",
        "import seaborn as sns\n",
        "import numpy as np\n",
        "\n",
        "# Importando o scikitplot:\n",
        "import scikitplot as skplt"
      ],
      "execution_count": 0,
      "outputs": []
    },
    {
      "cell_type": "markdown",
      "metadata": {
        "id": "7E4YFhVvIJes",
        "colab_type": "text"
      },
      "source": [
        "###Importando o Dataset:\n",
        "\n",
        "Para facilitar a aquisição dos dados, o professor disponibilizou um link com o  acesso direto ao `csv`. Com isso, basta importar o conjunto de dados usando o método `pd.read_csv()`."
      ]
    },
    {
      "cell_type": "code",
      "metadata": {
        "id": "wPxgnfGd0745",
        "colab_type": "code",
        "colab": {}
      },
      "source": [
        "# Obtendo o link para o Dataset:\n",
        "data_path = 'https://www.dropbox.com/s/b44o3t3ehmnx2b7/creditcard.csv?dl=1'\n",
        "\n",
        "# Criando o DataFrame com a leitura do Dataset através do Pandas:\n",
        "df = pd.read_csv(data_path)"
      ],
      "execution_count": 0,
      "outputs": []
    },
    {
      "cell_type": "markdown",
      "metadata": {
        "id": "6x1uG4PdBB8i",
        "colab_type": "text"
      },
      "source": [
        "##Análise Exploratória:\n",
        "\n",
        "A Análise Exploratória é composta por técnicas simples que buscam extrair ou ilustrar as informações contidas nos dados, sem conter nenhuma alteração significativa.\n",
        "\n",
        "Com essa definição, utilizaremos da Visualização de Dados para aumentar a eficiência dessa exploração inicial."
      ]
    },
    {
      "cell_type": "markdown",
      "metadata": {
        "id": "IuEiQ8TCBM-8",
        "colab_type": "text"
      },
      "source": [
        "###Q1. Como esse Dataset está organizado?\n",
        "\n",
        "Esses primeiros passos são essenciais para começarmos a entender como que o nosso Dataset está estruturado. Para isso imprimimos os primeiros 5 termos utilizando \"`.head()`\""
      ]
    },
    {
      "cell_type": "code",
      "metadata": {
        "id": "c_NL2tm01Kwm",
        "colab_type": "code",
        "outputId": "877461a0-24af-48fa-be5f-d94667bcfc7a",
        "colab": {
          "base_uri": "https://localhost:8080/",
          "height": 217
        }
      },
      "source": [
        "# Imprimindo as primeiras 5 linhas do DataFrame:\n",
        "df.head()"
      ],
      "execution_count": 0,
      "outputs": [
        {
          "output_type": "execute_result",
          "data": {
            "text/html": [
              "<div>\n",
              "<style scoped>\n",
              "    .dataframe tbody tr th:only-of-type {\n",
              "        vertical-align: middle;\n",
              "    }\n",
              "\n",
              "    .dataframe tbody tr th {\n",
              "        vertical-align: top;\n",
              "    }\n",
              "\n",
              "    .dataframe thead th {\n",
              "        text-align: right;\n",
              "    }\n",
              "</style>\n",
              "<table border=\"1\" class=\"dataframe\">\n",
              "  <thead>\n",
              "    <tr style=\"text-align: right;\">\n",
              "      <th></th>\n",
              "      <th>Time</th>\n",
              "      <th>V1</th>\n",
              "      <th>V2</th>\n",
              "      <th>V3</th>\n",
              "      <th>V4</th>\n",
              "      <th>V5</th>\n",
              "      <th>V6</th>\n",
              "      <th>V7</th>\n",
              "      <th>V8</th>\n",
              "      <th>V9</th>\n",
              "      <th>V10</th>\n",
              "      <th>V11</th>\n",
              "      <th>V12</th>\n",
              "      <th>V13</th>\n",
              "      <th>V14</th>\n",
              "      <th>V15</th>\n",
              "      <th>V16</th>\n",
              "      <th>V17</th>\n",
              "      <th>V18</th>\n",
              "      <th>V19</th>\n",
              "      <th>V20</th>\n",
              "      <th>V21</th>\n",
              "      <th>V22</th>\n",
              "      <th>V23</th>\n",
              "      <th>V24</th>\n",
              "      <th>V25</th>\n",
              "      <th>V26</th>\n",
              "      <th>V27</th>\n",
              "      <th>V28</th>\n",
              "      <th>Amount</th>\n",
              "      <th>Class</th>\n",
              "    </tr>\n",
              "  </thead>\n",
              "  <tbody>\n",
              "    <tr>\n",
              "      <th>0</th>\n",
              "      <td>0.0</td>\n",
              "      <td>-1.359807</td>\n",
              "      <td>-0.072781</td>\n",
              "      <td>2.536347</td>\n",
              "      <td>1.378155</td>\n",
              "      <td>-0.338321</td>\n",
              "      <td>0.462388</td>\n",
              "      <td>0.239599</td>\n",
              "      <td>0.098698</td>\n",
              "      <td>0.363787</td>\n",
              "      <td>0.090794</td>\n",
              "      <td>-0.551600</td>\n",
              "      <td>-0.617801</td>\n",
              "      <td>-0.991390</td>\n",
              "      <td>-0.311169</td>\n",
              "      <td>1.468177</td>\n",
              "      <td>-0.470401</td>\n",
              "      <td>0.207971</td>\n",
              "      <td>0.025791</td>\n",
              "      <td>0.403993</td>\n",
              "      <td>0.251412</td>\n",
              "      <td>-0.018307</td>\n",
              "      <td>0.277838</td>\n",
              "      <td>-0.110474</td>\n",
              "      <td>0.066928</td>\n",
              "      <td>0.128539</td>\n",
              "      <td>-0.189115</td>\n",
              "      <td>0.133558</td>\n",
              "      <td>-0.021053</td>\n",
              "      <td>149.62</td>\n",
              "      <td>0</td>\n",
              "    </tr>\n",
              "    <tr>\n",
              "      <th>1</th>\n",
              "      <td>0.0</td>\n",
              "      <td>1.191857</td>\n",
              "      <td>0.266151</td>\n",
              "      <td>0.166480</td>\n",
              "      <td>0.448154</td>\n",
              "      <td>0.060018</td>\n",
              "      <td>-0.082361</td>\n",
              "      <td>-0.078803</td>\n",
              "      <td>0.085102</td>\n",
              "      <td>-0.255425</td>\n",
              "      <td>-0.166974</td>\n",
              "      <td>1.612727</td>\n",
              "      <td>1.065235</td>\n",
              "      <td>0.489095</td>\n",
              "      <td>-0.143772</td>\n",
              "      <td>0.635558</td>\n",
              "      <td>0.463917</td>\n",
              "      <td>-0.114805</td>\n",
              "      <td>-0.183361</td>\n",
              "      <td>-0.145783</td>\n",
              "      <td>-0.069083</td>\n",
              "      <td>-0.225775</td>\n",
              "      <td>-0.638672</td>\n",
              "      <td>0.101288</td>\n",
              "      <td>-0.339846</td>\n",
              "      <td>0.167170</td>\n",
              "      <td>0.125895</td>\n",
              "      <td>-0.008983</td>\n",
              "      <td>0.014724</td>\n",
              "      <td>2.69</td>\n",
              "      <td>0</td>\n",
              "    </tr>\n",
              "    <tr>\n",
              "      <th>2</th>\n",
              "      <td>1.0</td>\n",
              "      <td>-1.358354</td>\n",
              "      <td>-1.340163</td>\n",
              "      <td>1.773209</td>\n",
              "      <td>0.379780</td>\n",
              "      <td>-0.503198</td>\n",
              "      <td>1.800499</td>\n",
              "      <td>0.791461</td>\n",
              "      <td>0.247676</td>\n",
              "      <td>-1.514654</td>\n",
              "      <td>0.207643</td>\n",
              "      <td>0.624501</td>\n",
              "      <td>0.066084</td>\n",
              "      <td>0.717293</td>\n",
              "      <td>-0.165946</td>\n",
              "      <td>2.345865</td>\n",
              "      <td>-2.890083</td>\n",
              "      <td>1.109969</td>\n",
              "      <td>-0.121359</td>\n",
              "      <td>-2.261857</td>\n",
              "      <td>0.524980</td>\n",
              "      <td>0.247998</td>\n",
              "      <td>0.771679</td>\n",
              "      <td>0.909412</td>\n",
              "      <td>-0.689281</td>\n",
              "      <td>-0.327642</td>\n",
              "      <td>-0.139097</td>\n",
              "      <td>-0.055353</td>\n",
              "      <td>-0.059752</td>\n",
              "      <td>378.66</td>\n",
              "      <td>0</td>\n",
              "    </tr>\n",
              "    <tr>\n",
              "      <th>3</th>\n",
              "      <td>1.0</td>\n",
              "      <td>-0.966272</td>\n",
              "      <td>-0.185226</td>\n",
              "      <td>1.792993</td>\n",
              "      <td>-0.863291</td>\n",
              "      <td>-0.010309</td>\n",
              "      <td>1.247203</td>\n",
              "      <td>0.237609</td>\n",
              "      <td>0.377436</td>\n",
              "      <td>-1.387024</td>\n",
              "      <td>-0.054952</td>\n",
              "      <td>-0.226487</td>\n",
              "      <td>0.178228</td>\n",
              "      <td>0.507757</td>\n",
              "      <td>-0.287924</td>\n",
              "      <td>-0.631418</td>\n",
              "      <td>-1.059647</td>\n",
              "      <td>-0.684093</td>\n",
              "      <td>1.965775</td>\n",
              "      <td>-1.232622</td>\n",
              "      <td>-0.208038</td>\n",
              "      <td>-0.108300</td>\n",
              "      <td>0.005274</td>\n",
              "      <td>-0.190321</td>\n",
              "      <td>-1.175575</td>\n",
              "      <td>0.647376</td>\n",
              "      <td>-0.221929</td>\n",
              "      <td>0.062723</td>\n",
              "      <td>0.061458</td>\n",
              "      <td>123.50</td>\n",
              "      <td>0</td>\n",
              "    </tr>\n",
              "    <tr>\n",
              "      <th>4</th>\n",
              "      <td>2.0</td>\n",
              "      <td>-1.158233</td>\n",
              "      <td>0.877737</td>\n",
              "      <td>1.548718</td>\n",
              "      <td>0.403034</td>\n",
              "      <td>-0.407193</td>\n",
              "      <td>0.095921</td>\n",
              "      <td>0.592941</td>\n",
              "      <td>-0.270533</td>\n",
              "      <td>0.817739</td>\n",
              "      <td>0.753074</td>\n",
              "      <td>-0.822843</td>\n",
              "      <td>0.538196</td>\n",
              "      <td>1.345852</td>\n",
              "      <td>-1.119670</td>\n",
              "      <td>0.175121</td>\n",
              "      <td>-0.451449</td>\n",
              "      <td>-0.237033</td>\n",
              "      <td>-0.038195</td>\n",
              "      <td>0.803487</td>\n",
              "      <td>0.408542</td>\n",
              "      <td>-0.009431</td>\n",
              "      <td>0.798278</td>\n",
              "      <td>-0.137458</td>\n",
              "      <td>0.141267</td>\n",
              "      <td>-0.206010</td>\n",
              "      <td>0.502292</td>\n",
              "      <td>0.219422</td>\n",
              "      <td>0.215153</td>\n",
              "      <td>69.99</td>\n",
              "      <td>0</td>\n",
              "    </tr>\n",
              "  </tbody>\n",
              "</table>\n",
              "</div>"
            ],
            "text/plain": [
              "   Time        V1        V2        V3  ...       V27       V28  Amount  Class\n",
              "0   0.0 -1.359807 -0.072781  2.536347  ...  0.133558 -0.021053  149.62      0\n",
              "1   0.0  1.191857  0.266151  0.166480  ... -0.008983  0.014724    2.69      0\n",
              "2   1.0 -1.358354 -1.340163  1.773209  ... -0.055353 -0.059752  378.66      0\n",
              "3   1.0 -0.966272 -0.185226  1.792993  ...  0.062723  0.061458  123.50      0\n",
              "4   2.0 -1.158233  0.877737  1.548718  ...  0.219422  0.215153   69.99      0\n",
              "\n",
              "[5 rows x 31 columns]"
            ]
          },
          "metadata": {
            "tags": []
          },
          "execution_count": 4
        }
      ]
    },
    {
      "cell_type": "markdown",
      "metadata": {
        "id": "wZb-9to5BO4j",
        "colab_type": "text"
      },
      "source": [
        "###Q2. Como está a distribuição dos dados nesse DataFrame?\n",
        "\n",
        "Agora precisamos ver o comportamento das nossas variáveis, o quanto elas variam em suas distribuições. Para isso podemos utilizar a função \".describe()\" que nos retorna:\n",
        "\n",
        "* `count` - Quantidade de valores contados;\n",
        "* `mean` - A média aritmética;\n",
        "* `std` - O Desvio Padrão (Standard Deviation);\n",
        "* `min`- Valor Mínimo;\n",
        "* `25%` - Primeiro quartil (os 25% menores valores);\n",
        "* `50%` - Segundo quartil ou mediana (os 50% menores valores);\n",
        "* `75%` - Terceiro quartil (os 75% menores valores);\n",
        "* `max` - Valor Máximo."
      ]
    },
    {
      "cell_type": "code",
      "metadata": {
        "id": "LmRFTfBXLiAq",
        "colab_type": "code",
        "outputId": "1dcbbad4-0ff7-493b-89e9-b760ef2e595b",
        "colab": {
          "base_uri": "https://localhost:8080/",
          "height": 307
        }
      },
      "source": [
        "# Imprimindo as informações sobre as distribuições:\n",
        "df.describe().round(2)"
      ],
      "execution_count": 0,
      "outputs": [
        {
          "output_type": "execute_result",
          "data": {
            "text/html": [
              "<div>\n",
              "<style scoped>\n",
              "    .dataframe tbody tr th:only-of-type {\n",
              "        vertical-align: middle;\n",
              "    }\n",
              "\n",
              "    .dataframe tbody tr th {\n",
              "        vertical-align: top;\n",
              "    }\n",
              "\n",
              "    .dataframe thead th {\n",
              "        text-align: right;\n",
              "    }\n",
              "</style>\n",
              "<table border=\"1\" class=\"dataframe\">\n",
              "  <thead>\n",
              "    <tr style=\"text-align: right;\">\n",
              "      <th></th>\n",
              "      <th>Time</th>\n",
              "      <th>V1</th>\n",
              "      <th>V2</th>\n",
              "      <th>V3</th>\n",
              "      <th>V4</th>\n",
              "      <th>V5</th>\n",
              "      <th>V6</th>\n",
              "      <th>V7</th>\n",
              "      <th>V8</th>\n",
              "      <th>V9</th>\n",
              "      <th>V10</th>\n",
              "      <th>V11</th>\n",
              "      <th>V12</th>\n",
              "      <th>V13</th>\n",
              "      <th>V14</th>\n",
              "      <th>V15</th>\n",
              "      <th>V16</th>\n",
              "      <th>V17</th>\n",
              "      <th>V18</th>\n",
              "      <th>V19</th>\n",
              "      <th>V20</th>\n",
              "      <th>V21</th>\n",
              "      <th>V22</th>\n",
              "      <th>V23</th>\n",
              "      <th>V24</th>\n",
              "      <th>V25</th>\n",
              "      <th>V26</th>\n",
              "      <th>V27</th>\n",
              "      <th>V28</th>\n",
              "      <th>Amount</th>\n",
              "      <th>Class</th>\n",
              "    </tr>\n",
              "  </thead>\n",
              "  <tbody>\n",
              "    <tr>\n",
              "      <th>count</th>\n",
              "      <td>284807.00</td>\n",
              "      <td>284807.00</td>\n",
              "      <td>284807.00</td>\n",
              "      <td>284807.00</td>\n",
              "      <td>284807.00</td>\n",
              "      <td>284807.00</td>\n",
              "      <td>284807.00</td>\n",
              "      <td>284807.00</td>\n",
              "      <td>284807.00</td>\n",
              "      <td>284807.00</td>\n",
              "      <td>284807.00</td>\n",
              "      <td>284807.00</td>\n",
              "      <td>284807.00</td>\n",
              "      <td>284807.00</td>\n",
              "      <td>284807.00</td>\n",
              "      <td>284807.00</td>\n",
              "      <td>284807.00</td>\n",
              "      <td>284807.00</td>\n",
              "      <td>284807.00</td>\n",
              "      <td>284807.00</td>\n",
              "      <td>284807.00</td>\n",
              "      <td>284807.00</td>\n",
              "      <td>284807.00</td>\n",
              "      <td>284807.00</td>\n",
              "      <td>284807.00</td>\n",
              "      <td>284807.00</td>\n",
              "      <td>284807.00</td>\n",
              "      <td>284807.00</td>\n",
              "      <td>284807.00</td>\n",
              "      <td>284807.00</td>\n",
              "      <td>284807.00</td>\n",
              "    </tr>\n",
              "    <tr>\n",
              "      <th>mean</th>\n",
              "      <td>94813.86</td>\n",
              "      <td>0.00</td>\n",
              "      <td>0.00</td>\n",
              "      <td>-0.00</td>\n",
              "      <td>0.00</td>\n",
              "      <td>-0.00</td>\n",
              "      <td>0.00</td>\n",
              "      <td>-0.00</td>\n",
              "      <td>-0.00</td>\n",
              "      <td>-0.00</td>\n",
              "      <td>0.00</td>\n",
              "      <td>0.00</td>\n",
              "      <td>-0.00</td>\n",
              "      <td>0.00</td>\n",
              "      <td>0.00</td>\n",
              "      <td>0.00</td>\n",
              "      <td>0.00</td>\n",
              "      <td>-0.00</td>\n",
              "      <td>0.00</td>\n",
              "      <td>0.00</td>\n",
              "      <td>0.00</td>\n",
              "      <td>0.00</td>\n",
              "      <td>0.00</td>\n",
              "      <td>0.00</td>\n",
              "      <td>0.00</td>\n",
              "      <td>0.00</td>\n",
              "      <td>0.00</td>\n",
              "      <td>-0.00</td>\n",
              "      <td>-0.00</td>\n",
              "      <td>88.35</td>\n",
              "      <td>0.00</td>\n",
              "    </tr>\n",
              "    <tr>\n",
              "      <th>std</th>\n",
              "      <td>47488.15</td>\n",
              "      <td>1.96</td>\n",
              "      <td>1.65</td>\n",
              "      <td>1.52</td>\n",
              "      <td>1.42</td>\n",
              "      <td>1.38</td>\n",
              "      <td>1.33</td>\n",
              "      <td>1.24</td>\n",
              "      <td>1.19</td>\n",
              "      <td>1.10</td>\n",
              "      <td>1.09</td>\n",
              "      <td>1.02</td>\n",
              "      <td>1.00</td>\n",
              "      <td>1.00</td>\n",
              "      <td>0.96</td>\n",
              "      <td>0.92</td>\n",
              "      <td>0.88</td>\n",
              "      <td>0.85</td>\n",
              "      <td>0.84</td>\n",
              "      <td>0.81</td>\n",
              "      <td>0.77</td>\n",
              "      <td>0.73</td>\n",
              "      <td>0.73</td>\n",
              "      <td>0.62</td>\n",
              "      <td>0.61</td>\n",
              "      <td>0.52</td>\n",
              "      <td>0.48</td>\n",
              "      <td>0.40</td>\n",
              "      <td>0.33</td>\n",
              "      <td>250.12</td>\n",
              "      <td>0.04</td>\n",
              "    </tr>\n",
              "    <tr>\n",
              "      <th>min</th>\n",
              "      <td>0.00</td>\n",
              "      <td>-56.41</td>\n",
              "      <td>-72.72</td>\n",
              "      <td>-48.33</td>\n",
              "      <td>-5.68</td>\n",
              "      <td>-113.74</td>\n",
              "      <td>-26.16</td>\n",
              "      <td>-43.56</td>\n",
              "      <td>-73.22</td>\n",
              "      <td>-13.43</td>\n",
              "      <td>-24.59</td>\n",
              "      <td>-4.80</td>\n",
              "      <td>-18.68</td>\n",
              "      <td>-5.79</td>\n",
              "      <td>-19.21</td>\n",
              "      <td>-4.50</td>\n",
              "      <td>-14.13</td>\n",
              "      <td>-25.16</td>\n",
              "      <td>-9.50</td>\n",
              "      <td>-7.21</td>\n",
              "      <td>-54.50</td>\n",
              "      <td>-34.83</td>\n",
              "      <td>-10.93</td>\n",
              "      <td>-44.81</td>\n",
              "      <td>-2.84</td>\n",
              "      <td>-10.30</td>\n",
              "      <td>-2.60</td>\n",
              "      <td>-22.57</td>\n",
              "      <td>-15.43</td>\n",
              "      <td>0.00</td>\n",
              "      <td>0.00</td>\n",
              "    </tr>\n",
              "    <tr>\n",
              "      <th>25%</th>\n",
              "      <td>54201.50</td>\n",
              "      <td>-0.92</td>\n",
              "      <td>-0.60</td>\n",
              "      <td>-0.89</td>\n",
              "      <td>-0.85</td>\n",
              "      <td>-0.69</td>\n",
              "      <td>-0.77</td>\n",
              "      <td>-0.55</td>\n",
              "      <td>-0.21</td>\n",
              "      <td>-0.64</td>\n",
              "      <td>-0.54</td>\n",
              "      <td>-0.76</td>\n",
              "      <td>-0.41</td>\n",
              "      <td>-0.65</td>\n",
              "      <td>-0.43</td>\n",
              "      <td>-0.58</td>\n",
              "      <td>-0.47</td>\n",
              "      <td>-0.48</td>\n",
              "      <td>-0.50</td>\n",
              "      <td>-0.46</td>\n",
              "      <td>-0.21</td>\n",
              "      <td>-0.23</td>\n",
              "      <td>-0.54</td>\n",
              "      <td>-0.16</td>\n",
              "      <td>-0.35</td>\n",
              "      <td>-0.32</td>\n",
              "      <td>-0.33</td>\n",
              "      <td>-0.07</td>\n",
              "      <td>-0.05</td>\n",
              "      <td>5.60</td>\n",
              "      <td>0.00</td>\n",
              "    </tr>\n",
              "    <tr>\n",
              "      <th>50%</th>\n",
              "      <td>84692.00</td>\n",
              "      <td>0.02</td>\n",
              "      <td>0.07</td>\n",
              "      <td>0.18</td>\n",
              "      <td>-0.02</td>\n",
              "      <td>-0.05</td>\n",
              "      <td>-0.27</td>\n",
              "      <td>0.04</td>\n",
              "      <td>0.02</td>\n",
              "      <td>-0.05</td>\n",
              "      <td>-0.09</td>\n",
              "      <td>-0.03</td>\n",
              "      <td>0.14</td>\n",
              "      <td>-0.01</td>\n",
              "      <td>0.05</td>\n",
              "      <td>0.05</td>\n",
              "      <td>0.07</td>\n",
              "      <td>-0.07</td>\n",
              "      <td>-0.00</td>\n",
              "      <td>0.00</td>\n",
              "      <td>-0.06</td>\n",
              "      <td>-0.03</td>\n",
              "      <td>0.01</td>\n",
              "      <td>-0.01</td>\n",
              "      <td>0.04</td>\n",
              "      <td>0.02</td>\n",
              "      <td>-0.05</td>\n",
              "      <td>0.00</td>\n",
              "      <td>0.01</td>\n",
              "      <td>22.00</td>\n",
              "      <td>0.00</td>\n",
              "    </tr>\n",
              "    <tr>\n",
              "      <th>75%</th>\n",
              "      <td>139320.50</td>\n",
              "      <td>1.32</td>\n",
              "      <td>0.80</td>\n",
              "      <td>1.03</td>\n",
              "      <td>0.74</td>\n",
              "      <td>0.61</td>\n",
              "      <td>0.40</td>\n",
              "      <td>0.57</td>\n",
              "      <td>0.33</td>\n",
              "      <td>0.60</td>\n",
              "      <td>0.45</td>\n",
              "      <td>0.74</td>\n",
              "      <td>0.62</td>\n",
              "      <td>0.66</td>\n",
              "      <td>0.49</td>\n",
              "      <td>0.65</td>\n",
              "      <td>0.52</td>\n",
              "      <td>0.40</td>\n",
              "      <td>0.50</td>\n",
              "      <td>0.46</td>\n",
              "      <td>0.13</td>\n",
              "      <td>0.19</td>\n",
              "      <td>0.53</td>\n",
              "      <td>0.15</td>\n",
              "      <td>0.44</td>\n",
              "      <td>0.35</td>\n",
              "      <td>0.24</td>\n",
              "      <td>0.09</td>\n",
              "      <td>0.08</td>\n",
              "      <td>77.16</td>\n",
              "      <td>0.00</td>\n",
              "    </tr>\n",
              "    <tr>\n",
              "      <th>max</th>\n",
              "      <td>172792.00</td>\n",
              "      <td>2.45</td>\n",
              "      <td>22.06</td>\n",
              "      <td>9.38</td>\n",
              "      <td>16.88</td>\n",
              "      <td>34.80</td>\n",
              "      <td>73.30</td>\n",
              "      <td>120.59</td>\n",
              "      <td>20.01</td>\n",
              "      <td>15.59</td>\n",
              "      <td>23.75</td>\n",
              "      <td>12.02</td>\n",
              "      <td>7.85</td>\n",
              "      <td>7.13</td>\n",
              "      <td>10.53</td>\n",
              "      <td>8.88</td>\n",
              "      <td>17.32</td>\n",
              "      <td>9.25</td>\n",
              "      <td>5.04</td>\n",
              "      <td>5.59</td>\n",
              "      <td>39.42</td>\n",
              "      <td>27.20</td>\n",
              "      <td>10.50</td>\n",
              "      <td>22.53</td>\n",
              "      <td>4.58</td>\n",
              "      <td>7.52</td>\n",
              "      <td>3.52</td>\n",
              "      <td>31.61</td>\n",
              "      <td>33.85</td>\n",
              "      <td>25691.16</td>\n",
              "      <td>1.00</td>\n",
              "    </tr>\n",
              "  </tbody>\n",
              "</table>\n",
              "</div>"
            ],
            "text/plain": [
              "            Time         V1         V2  ...        V28     Amount      Class\n",
              "count  284807.00  284807.00  284807.00  ...  284807.00  284807.00  284807.00\n",
              "mean    94813.86       0.00       0.00  ...      -0.00      88.35       0.00\n",
              "std     47488.15       1.96       1.65  ...       0.33     250.12       0.04\n",
              "min         0.00     -56.41     -72.72  ...     -15.43       0.00       0.00\n",
              "25%     54201.50      -0.92      -0.60  ...      -0.05       5.60       0.00\n",
              "50%     84692.00       0.02       0.07  ...       0.01      22.00       0.00\n",
              "75%    139320.50       1.32       0.80  ...       0.08      77.16       0.00\n",
              "max    172792.00       2.45      22.06  ...      33.85   25691.16       1.00\n",
              "\n",
              "[8 rows x 31 columns]"
            ]
          },
          "metadata": {
            "tags": []
          },
          "execution_count": 5
        }
      ]
    },
    {
      "cell_type": "markdown",
      "metadata": {
        "id": "LEQiaTg1BTWB",
        "colab_type": "text"
      },
      "source": [
        "###Q3. Há dados Ausentes no Dataframe?\n",
        "Outro fator que nos devemos sempre atentar é sobre a quantidade de valores faltantes ou a presença de variáveis nulas. Para essa verificação utilizamos a função \".isnull()\" para retornar um valor Verdadeiro (`True` ou 1) para entradas nulas ou Falso (`False` ou 0) para variáveis que possuem valor.\n",
        "\n",
        "No final disso, somamos todos os valores e dividimos pelo tamanho do Dataset. Assim, **obtemos a porcentagem de valores nulos existentes.**"
      ]
    },
    {
      "cell_type": "code",
      "metadata": {
        "id": "k9abccNuLvCJ",
        "colab_type": "code",
        "outputId": "ce880769-de5d-4519-98a8-ff4059d68e30",
        "colab": {
          "base_uri": "https://localhost:8080/",
          "height": 34
        }
      },
      "source": [
        "#Verificando a quantidade de dados nulos:\n",
        "df.isnull().sum().max()"
      ],
      "execution_count": 0,
      "outputs": [
        {
          "output_type": "execute_result",
          "data": {
            "text/plain": [
              "0"
            ]
          },
          "metadata": {
            "tags": []
          },
          "execution_count": 6
        }
      ]
    },
    {
      "cell_type": "markdown",
      "metadata": {
        "id": "H7i8shTQBVqQ",
        "colab_type": "text"
      },
      "source": [
        "###Q4. Qual a quantidade de Compras Fraudulentas?\n",
        "\n",
        "Afinal, para entendermos melhor a nossa classificação, precisamos entender qual é essa proporção de compras fraudulentas e compras normais. Para isso, utilizaremos o gráfico de pizza:"
      ]
    },
    {
      "cell_type": "code",
      "metadata": {
        "id": "uqmPDFFpK40S",
        "colab_type": "code",
        "outputId": "f5f21561-59b0-435b-a6be-408542238a95",
        "colab": {
          "base_uri": "https://localhost:8080/",
          "height": 265
        }
      },
      "source": [
        "# Colocando as legendas no gráfico:\n",
        "labels = [\"Compra Normal ({:.2f}%)\".format(df.Class.value_counts()[0]/df.shape[0]*100),\n",
        "          \"Compra Fraudulenta ({:.2f}%)\".format(df.Class.value_counts()[1]/df.shape[0]*100)]\n",
        "\n",
        "# Plotando o gráfico do tipo de pizza:\n",
        "plt.pie(df.Class.value_counts(), labels = labels, shadow=True)\n",
        "\n",
        "# Colocando o Título:\n",
        "plt.title(\"Tipos de Compras\", fontsize = 16)\n",
        "\n",
        "plt.show();"
      ],
      "execution_count": 0,
      "outputs": [
        {
          "output_type": "display_data",
          "data": {
            "image/png": "[encoded data removed]",
            "text/plain": [
              "<Figure size 432x288 with 1 Axes>"
            ]
          },
          "metadata": {
            "tags": []
          }
        }
      ]
    },
    {
      "cell_type": "markdown",
      "metadata": {
        "id": "MFtO4202BZVk",
        "colab_type": "text"
      },
      "source": [
        "### Q5. Qual o Histórico de Compras ao decorrer do Tempo?\n",
        "\n",
        "Para sanar essa duvida utilizaremos o gráfico do tipo Histograma para determinar quando aconteceu as fraudes, para que assim possamos entender se há uma relação das compras fraudulentas com o tempo.\n",
        "\n",
        "Utilizamos a variável `Time` para obtemos o gráfico de Histograma."
      ]
    },
    {
      "cell_type": "code",
      "metadata": {
        "id": "VR9UZ4TGBeIA",
        "colab_type": "code",
        "outputId": "a7ce4b23-dc39-4e7d-b701-85ebeb296c91",
        "colab": {
          "base_uri": "https://localhost:8080/",
          "height": 307
        }
      },
      "source": [
        "# Imprimindo o gráfico do tipo Histograma:\n",
        "df.Time.hist(by=df.Class, figsize = (16,4));"
      ],
      "execution_count": 0,
      "outputs": [
        {
          "output_type": "display_data",
          "data": {
            "image/png": "[encoded data removed]",
            "text/plain": [
              "<Figure size 1152x288 with 2 Axes>"
            ]
          },
          "metadata": {
            "tags": []
          }
        }
      ]
    },
    {
      "cell_type": "markdown",
      "metadata": {
        "id": "T4erVJkQBtJ9",
        "colab_type": "text"
      },
      "source": [
        "###Q6. Quanto é gasto em cada tipo de compra?"
      ]
    },
    {
      "cell_type": "code",
      "metadata": {
        "id": "At2EVsxYBxM8",
        "colab_type": "code",
        "outputId": "ba957531-c6e7-4250-a433-f97e162b5473",
        "colab": {
          "base_uri": "https://localhost:8080/",
          "height": 301
        }
      },
      "source": [
        "# Imprimindo o gráfico do tipo Histograma:\n",
        "df.Amount.hist(by=df.Class, figsize = (16,4));"
      ],
      "execution_count": 0,
      "outputs": [
        {
          "output_type": "display_data",
          "data": {
            "image/png": "[encoded data removed]",
            "text/plain": [
              "<Figure size 1152x288 with 2 Axes>"
            ]
          },
          "metadata": {
            "tags": []
          }
        }
      ]
    },
    {
      "cell_type": "markdown",
      "metadata": {
        "id": "OfeDIqvKB4BK",
        "colab_type": "text"
      },
      "source": [
        "###Q7. Qual é o Boxplot de `Amount`?"
      ]
    },
    {
      "cell_type": "code",
      "metadata": {
        "id": "8y5B4MsNCAvW",
        "colab_type": "code",
        "outputId": "ba5220cb-6e83-486b-8723-022828c8bf05",
        "colab": {
          "base_uri": "https://localhost:8080/",
          "height": 610
        }
      },
      "source": [
        "# Criando a figura com o pyplot:\n",
        "fig, ax = plt.subplots(figsize = (6,10), sharex = True)\n",
        "\n",
        "# Imprimindo o gráfico do tipo boxplot:\n",
        "sns.boxplot(df.Class, df.Amount)\n",
        "\n",
        "# Colocando um limite de exibição entre -20 e 300:\n",
        "plt.ylim(-20, 300)\n",
        "\n",
        "# Inserindo a legenda:\n",
        "plt.xticks([0,1], [\"Normal\", \"Fraude\"]);"
      ],
      "execution_count": 0,
      "outputs": [
        {
          "output_type": "display_data",
          "data": {
            "image/png": "[encoded data removed]",
            "text/plain": [
              "<Figure size 432x720 with 1 Axes>"
            ]
          },
          "metadata": {
            "tags": []
          }
        }
      ]
    },
    {
      "cell_type": "markdown",
      "metadata": {
        "id": "XUAbPxYK3yia",
        "colab_type": "text"
      },
      "source": [
        "## Prevendo Compras Fraudulentas:\n",
        "\n",
        "Como dito anteriormente, as compras frauduluentas são responsáveis por um montante elevado de capital disperdiçado, para isso, buscaremos criar um modelo que seja capaz de prever esse tipo de compra.\n",
        "\n",
        "Primeiramente, criaremos nossas variáveis independentes X e a nossa classe y como Normal (0) ou Fraudulenta (1)."
      ]
    },
    {
      "cell_type": "code",
      "metadata": {
        "id": "YX8xH_tj1owS",
        "colab_type": "code",
        "colab": {}
      },
      "source": [
        "# Importando a biblioteca para separar X e y em Treino e teste:\n",
        "from sklearn.model_selection import train_test_split\n",
        "\n",
        "# Criando X e y:\n",
        "X = df.drop(\"Class\", axis = 1)\n",
        "y = df.Class\n",
        "\n",
        "# Separando-os em treino e teste:\n",
        "X_train, X_test, y_train, y_test = train_test_split(X, y, test_size=0.2, random_state = 42, shuffle = True)"
      ],
      "execution_count": 0,
      "outputs": []
    },
    {
      "cell_type": "code",
      "metadata": {
        "id": "AOeSgRwr11jK",
        "colab_type": "code",
        "outputId": "569cd21a-27b1-4f2e-e9b8-963fb33ee8d1",
        "colab": {
          "base_uri": "https://localhost:8080/",
          "height": 34
        }
      },
      "source": [
        "# Importando a bilioteca para aplicar Regressão Logistica e Acurácia:\n",
        "from sklearn.linear_model import LogisticRegression\n",
        "from sklearn.metrics import accuracy_score\n",
        "\n",
        "# Criando o modelo de Regressão Logistica\n",
        "LogReg = LogisticRegression(max_iter = X.shape[0])\n",
        "\n",
        "# Treinando o Modelo:\n",
        "LogReg.fit(X_train, y_train)\n",
        "\n",
        "# Prevendo os valores de y para X_test:\n",
        "y_pred = LogReg.predict(X_test)\n",
        "\n",
        "# Imprimindo a Acurracia:\n",
        "print(\"R² = {:.2f}\".format(accuracy_score(y_test,y_pred)*100))"
      ],
      "execution_count": 0,
      "outputs": [
        {
          "output_type": "stream",
          "text": [
            "R² = 99.89\n"
          ],
          "name": "stdout"
        }
      ]
    },
    {
      "cell_type": "markdown",
      "metadata": {
        "id": "OA5D9lynbys2",
        "colab_type": "text"
      },
      "source": [
        "Um dos problemas esperados para nossa situação é que o nosso modelo seja capaz de prever corretamente compras normais, porém, as compras frauduluentas (que é o que precisamos combater), ele não sabe. Para visualizarmos essa premissa, iremos potar a Matriz de Confusão:"
      ]
    },
    {
      "cell_type": "code",
      "metadata": {
        "id": "7MOd_Zf73pey",
        "colab_type": "code",
        "outputId": "10c99f7c-ecc5-44cf-c0a4-d8a550ae672a",
        "colab": {
          "base_uri": "https://localhost:8080/",
          "height": 294
        }
      },
      "source": [
        "# Matriz de Confusão:\n",
        "skplt.metrics.plot_confusion_matrix(y_test, y_pred, normalize = True);"
      ],
      "execution_count": 0,
      "outputs": [
        {
          "output_type": "display_data",
          "data": {
            "image/png": "[encoded data removed]",
            "text/plain": [
              "<Figure size 432x288 with 2 Axes>"
            ]
          },
          "metadata": {
            "tags": []
          }
        }
      ]
    },
    {
      "cell_type": "markdown",
      "metadata": {
        "id": "41_6M6X9cF8W",
        "colab_type": "text"
      },
      "source": [
        "Como dito anteriormente, o Modelo conseguiu acertar 100 % dos casos para compras normais, mas estamos buscando combater as compras fraudulentas, e obtemos apenas um acerto de 49% dos casos."
      ]
    },
    {
      "cell_type": "markdown",
      "metadata": {
        "id": "32tW6MHzA-TD",
        "colab_type": "text"
      },
      "source": [
        "### Normalização do Dataset:\n",
        "\n",
        "A finalidade de Normalizar um Dataset é que o nosso Modelo trabalhe com a mesma quantidade de dados de Compra e Fraude. Para isso, importamos a biblioteca \"`imblearn.under_sampling`\". E assim, criamos a variável `X_rus` e `y_rus`."
      ]
    },
    {
      "cell_type": "code",
      "metadata": {
        "id": "K03fLs1oiYzH",
        "colab_type": "code",
        "colab": {}
      },
      "source": [
        "# Importando a biblioteca para Normalização:\n",
        "from imblearn.under_sampling import RandomUnderSampler\n",
        "\n",
        "# Criando o modelo de normalização:\n",
        "rus = RandomUnderSampler()\n",
        "\n",
        "# Criando as variáveis normalizadas:\n",
        "X_rus, y_rus = rus.fit_sample(X_train, y_train)"
      ],
      "execution_count": 0,
      "outputs": []
    },
    {
      "cell_type": "code",
      "metadata": {
        "id": "b3hxp-shFWM5",
        "colab_type": "code",
        "outputId": "5c568f33-ff42-4a2f-b542-421eec0357f4",
        "colab": {
          "base_uri": "https://localhost:8080/",
          "height": 264
        }
      },
      "source": [
        "# Visualizando a quantidade de compras normais e fraudulentas de y_rus:\n",
        "sns.countplot(y_rus);"
      ],
      "execution_count": 0,
      "outputs": [
        {
          "output_type": "display_data",
          "data": {
            "image/png": "[encoded data removed]",
            "text/plain": [
              "<Figure size 432x288 with 1 Axes>"
            ]
          },
          "metadata": {
            "tags": []
          }
        }
      ]
    },
    {
      "cell_type": "markdown",
      "metadata": {
        "id": "isiUmytgiXGu",
        "colab_type": "text"
      },
      "source": [
        "### Correlação dos dados normalizados:"
      ]
    },
    {
      "cell_type": "code",
      "metadata": {
        "id": "9MDD3UoPzAL2",
        "colab_type": "code",
        "outputId": "a4374795-1003-45c0-e22c-3f0953be1cd7",
        "colab": {
          "base_uri": "https://localhost:8080/",
          "height": 515
        }
      },
      "source": [
        "# Correlação antes dos dados normalizados:\n",
        "corr = X_train.corr()\n",
        "\n",
        "# Correlação depois da normalização:\n",
        "corr_rus = pd.DataFrame(X_rus).corr()\n",
        "\n",
        "# Criando a figura no Pyplot:\n",
        "fig, ax = plt.subplots(1,2, figsize = (18,8))\n",
        "\n",
        "# Imprimindo as duas matrizes de correlação:\n",
        "sns.heatmap(corr, ax = ax[0], cmap = \"GnBu\")\n",
        "sns.heatmap(corr_rus, ax=ax[1], cmap = \"GnBu\")\n",
        "\n",
        "plt.show();"
      ],
      "execution_count": 0,
      "outputs": [
        {
          "output_type": "display_data",
          "data": {
            "image/png": "[encoded data removed]",
            "text/plain": [
              "<Figure size 1296x576 with 4 Axes>"
            ]
          },
          "metadata": {
            "tags": []
          }
        }
      ]
    },
    {
      "cell_type": "markdown",
      "metadata": {
        "id": "hNNdR-Tbejno",
        "colab_type": "text"
      },
      "source": [
        "##Utilizando os principais algoritmos de classificação:"
      ]
    },
    {
      "cell_type": "markdown",
      "metadata": {
        "id": "ccM6RaGVD2Pe",
        "colab_type": "text"
      },
      "source": [
        "###Regressão Logística:\n",
        "\n",
        "A Regressão Logística é uma variação da Regressão Linear com a implementação da principal objetivo era prever um valor numérico, a Regressão Logística prevê a probilidade de tal classe acontecer ao retornar valores binários (0 ou 1, sim ou não).\n",
        "\n",
        "Para isso, é retornado a probabilidade de sucesso e fracasso. Em que classificamos a amostra de acordo com a maior probabilidade. Uma das formas de mensurar o resultado é pelo Odds ratio (ou Razão das Chances) que compara a chance de sucesso de um grupo sobre o outro:\n",
        "\n",
        "$ \\log(R) = logit(p_{1}) - logit(p_{2}) $\n",
        "\n",
        "A fórmula para o calculo da Regressão Logística é:\n",
        "\n",
        "$ p(x) = \\cfrac{1}{1+e^{-(B_0 + B_1x)}} $"
      ]
    },
    {
      "cell_type": "code",
      "metadata": {
        "id": "58rSF9ou-1Xq",
        "colab_type": "code",
        "outputId": "c2d4bb33-e5f4-41d8-cc7d-e889aa9465cf",
        "colab": {
          "base_uri": "https://localhost:8080/",
          "height": 294
        }
      },
      "source": [
        "from sklearn.linear_model import LogisticRegression\n",
        "\n",
        "modelo = LogisticRegression()\n",
        "modelo.fit(X_rus, y_rus)\n",
        "y_pred = modelo.predict(X_test)\n",
        "skplt.metrics.plot_confusion_matrix(y_test, y_pred, normalize = True);"
      ],
      "execution_count": 0,
      "outputs": [
        {
          "output_type": "display_data",
          "data": {
            "image/png": "[encoded data removed]",
            "text/plain": [
              "<Figure size 432x288 with 2 Axes>"
            ]
          },
          "metadata": {
            "tags": []
          }
        }
      ]
    },
    {
      "cell_type": "markdown",
      "metadata": {
        "id": "qyvDpctCD5JZ",
        "colab_type": "text"
      },
      "source": [
        "###Suport Vector Classifier:"
      ]
    },
    {
      "cell_type": "code",
      "metadata": {
        "id": "MB6BHqDyBMeM",
        "colab_type": "code",
        "outputId": "8a1c1cd6-ea01-4f20-9359-1907c842b09b",
        "colab": {
          "base_uri": "https://localhost:8080/",
          "height": 294
        }
      },
      "source": [
        "from sklearn.svm import SVC\n",
        "modelo = SVC()\n",
        "modelo.fit(X_rus, y_rus)\n",
        "y_pred = modelo.predict(X_test)\n",
        "skplt.metrics.plot_confusion_matrix(y_test, y_pred, normalize = True);"
      ],
      "execution_count": 0,
      "outputs": [
        {
          "output_type": "display_data",
          "data": {
            "image/png": "[encoded data removed]",
            "text/plain": [
              "<Figure size 432x288 with 2 Axes>"
            ]
          },
          "metadata": {
            "tags": []
          }
        }
      ]
    },
    {
      "cell_type": "markdown",
      "metadata": {
        "id": "_pacUDZsD9bi",
        "colab_type": "text"
      },
      "source": [
        "###KNN Classifier:\n",
        "\n",
        "O KNN (K neearest neighbors) é um tipo de algoritmo de aprendizado de máquina que classifica em binário (0 ou 1) as novas instâncias através dos \"K\"s vizinhos mais próximos que próximos que serão considerados. A ordem desses vizinhos são separadas através do menor valor obtido da Distância Euclidiana."
      ]
    },
    {
      "cell_type": "code",
      "metadata": {
        "id": "a-Zvl41BBXRs",
        "colab_type": "code",
        "outputId": "73ca0eed-7def-4376-8416-8554f1af9c9a",
        "colab": {
          "base_uri": "https://localhost:8080/",
          "height": 294
        }
      },
      "source": [
        "from sklearn.neighbors import KNeighborsClassifier\n",
        "modelo = KNeighborsClassifier(n_neighbors=20)\n",
        "modelo.fit(X_rus, y_rus)\n",
        "y_pred = modelo.predict(X_test)\n",
        "skplt.metrics.plot_confusion_matrix(y_test, y_pred, normalize = True);"
      ],
      "execution_count": 0,
      "outputs": [
        {
          "output_type": "display_data",
          "data": {
            "image/png": "[encoded data removed]",
            "text/plain": [
              "<Figure size 432x288 with 2 Axes>"
            ]
          },
          "metadata": {
            "tags": []
          }
        }
      ]
    },
    {
      "cell_type": "markdown",
      "metadata": {
        "id": "rrHLOnv3EB0F",
        "colab_type": "text"
      },
      "source": [
        "###Decision Tree Classifier:\n",
        "\n",
        "A Arvore de Decisão é um modelo em que são criados nodos para determinar uma ação de acordo com a Instância inserida. Essas ações tomadas podem aumentar de acordo com a complexidade da árvore pode determinar quais serão os critérios de segmentação dos nodos."
      ]
    },
    {
      "cell_type": "code",
      "metadata": {
        "id": "8ZPtzPBPBgME",
        "colab_type": "code",
        "outputId": "886d54f3-fe69-4c0f-acb3-d462a499d757",
        "colab": {
          "base_uri": "https://localhost:8080/",
          "height": 294
        }
      },
      "source": [
        "from sklearn.tree import DecisionTreeClassifier\n",
        "modelo = DecisionTreeClassifier()\n",
        "modelo.fit(X_rus, y_rus)\n",
        "y_pred = modelo.predict(X_test)\n",
        "skplt.metrics.plot_confusion_matrix(y_test, y_pred, normalize = True);"
      ],
      "execution_count": 0,
      "outputs": [
        {
          "output_type": "display_data",
          "data": {
            "image/png": "[encoded data removed]",
            "text/plain": [
              "<Figure size 432x288 with 2 Axes>"
            ]
          },
          "metadata": {
            "tags": []
          }
        }
      ]
    },
    {
      "cell_type": "markdown",
      "metadata": {
        "id": "4tRozmi7kOrT",
        "colab_type": "text"
      },
      "source": [
        "# Conclusões:\n",
        "\n",
        "Apesar dos dados estarem bem tratados e limpos, sem valores ausentes ou variáveis categóricas, o desbalanceamento e a Transformação PCA demandaram um trabalho considerável.\n",
        "\n",
        "\n",
        "Vimos que tanto a Regressão Logistica quanto a arvore de Decisão possuem um acerto elevado de compras fraudulentas. Porém, o melhor modelo é a Regressão Logistica, isso se deve ao baixo erro em compras normais (4%) quando comparado com a arvore de decisão (10%).\n",
        "\n",
        "Nota-se que esse modelos de classificação possuem esses resultado devido aos dados presentes no Dataset e podem nao ter a mesma eficiência em outros Datasets e normalizações. Há espaço para testar o desempenho com outros algoritmos de classificação, além de otimizar seus parâmetros."
      ]
    }
  ]
}