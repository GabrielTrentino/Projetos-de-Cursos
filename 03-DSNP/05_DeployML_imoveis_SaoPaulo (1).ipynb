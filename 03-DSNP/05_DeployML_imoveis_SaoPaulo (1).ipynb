{
  "nbformat": 4,
  "nbformat_minor": 0,
  "metadata": {
    "colab": {
      "name": "05_DeployML_imoveis_SaoPaulo.ipynb",
      "provenance": [],
      "collapsed_sections": [],
      "toc_visible": true
    },
    "kernelspec": {
      "name": "python3",
      "display_name": "Python 3"
    }
  },
  "cells": [
    {
      "cell_type": "markdown",
      "metadata": {
        "id": "cdIPsSZZ1HPE",
        "colab_type": "text"
      },
      "source": [
        "#Importando as Bibliotecas:"
      ]
    },
    {
      "cell_type": "code",
      "metadata": {
        "id": "T0C3V3iWpAo1",
        "colab_type": "code",
        "outputId": "169c38ef-d9a2-41c6-865a-b3d985a1b602",
        "colab": {
          "base_uri": "https://localhost:8080/",
          "height": 401
        }
      },
      "source": [
        "# importar os pacotes necessários\n",
        "import pandas as pd\n",
        "import numpy as np\n",
        "import matplotlib.pyplot as plt\n",
        "import seaborn as sns\n",
        "\n",
        "# importar o dataset para um dataframe\n",
        "df = pd.read_csv('sao-paulo-properties-april-2019.csv')\n",
        "\n",
        "# ver as 5 primeiras entradas\n",
        "df.head()"
      ],
      "execution_count": 0,
      "outputs": [
        {
          "output_type": "execute_result",
          "data": {
            "text/html": [
              "<div>\n",
              "<style scoped>\n",
              "    .dataframe tbody tr th:only-of-type {\n",
              "        vertical-align: middle;\n",
              "    }\n",
              "\n",
              "    .dataframe tbody tr th {\n",
              "        vertical-align: top;\n",
              "    }\n",
              "\n",
              "    .dataframe thead th {\n",
              "        text-align: right;\n",
              "    }\n",
              "</style>\n",
              "<table border=\"1\" class=\"dataframe\">\n",
              "  <thead>\n",
              "    <tr style=\"text-align: right;\">\n",
              "      <th></th>\n",
              "      <th>Price</th>\n",
              "      <th>Condo</th>\n",
              "      <th>Size</th>\n",
              "      <th>Rooms</th>\n",
              "      <th>Toilets</th>\n",
              "      <th>Suites</th>\n",
              "      <th>Parking</th>\n",
              "      <th>Elevator</th>\n",
              "      <th>Furnished</th>\n",
              "      <th>Swimming Pool</th>\n",
              "      <th>New</th>\n",
              "      <th>District</th>\n",
              "      <th>Negotiation Type</th>\n",
              "      <th>Property Type</th>\n",
              "      <th>Latitude</th>\n",
              "      <th>Longitude</th>\n",
              "    </tr>\n",
              "  </thead>\n",
              "  <tbody>\n",
              "    <tr>\n",
              "      <th>0</th>\n",
              "      <td>930</td>\n",
              "      <td>220</td>\n",
              "      <td>47</td>\n",
              "      <td>2</td>\n",
              "      <td>2</td>\n",
              "      <td>1</td>\n",
              "      <td>1</td>\n",
              "      <td>0</td>\n",
              "      <td>0</td>\n",
              "      <td>0</td>\n",
              "      <td>0</td>\n",
              "      <td>Artur Alvim/São Paulo</td>\n",
              "      <td>rent</td>\n",
              "      <td>apartment</td>\n",
              "      <td>-23.543138</td>\n",
              "      <td>-46.479486</td>\n",
              "    </tr>\n",
              "    <tr>\n",
              "      <th>1</th>\n",
              "      <td>1000</td>\n",
              "      <td>148</td>\n",
              "      <td>45</td>\n",
              "      <td>2</td>\n",
              "      <td>2</td>\n",
              "      <td>1</td>\n",
              "      <td>1</td>\n",
              "      <td>0</td>\n",
              "      <td>0</td>\n",
              "      <td>0</td>\n",
              "      <td>0</td>\n",
              "      <td>Artur Alvim/São Paulo</td>\n",
              "      <td>rent</td>\n",
              "      <td>apartment</td>\n",
              "      <td>-23.550239</td>\n",
              "      <td>-46.480718</td>\n",
              "    </tr>\n",
              "    <tr>\n",
              "      <th>2</th>\n",
              "      <td>1000</td>\n",
              "      <td>100</td>\n",
              "      <td>48</td>\n",
              "      <td>2</td>\n",
              "      <td>2</td>\n",
              "      <td>1</td>\n",
              "      <td>1</td>\n",
              "      <td>0</td>\n",
              "      <td>0</td>\n",
              "      <td>0</td>\n",
              "      <td>0</td>\n",
              "      <td>Artur Alvim/São Paulo</td>\n",
              "      <td>rent</td>\n",
              "      <td>apartment</td>\n",
              "      <td>-23.542818</td>\n",
              "      <td>-46.485665</td>\n",
              "    </tr>\n",
              "    <tr>\n",
              "      <th>3</th>\n",
              "      <td>1000</td>\n",
              "      <td>200</td>\n",
              "      <td>48</td>\n",
              "      <td>2</td>\n",
              "      <td>2</td>\n",
              "      <td>1</td>\n",
              "      <td>1</td>\n",
              "      <td>0</td>\n",
              "      <td>0</td>\n",
              "      <td>0</td>\n",
              "      <td>0</td>\n",
              "      <td>Artur Alvim/São Paulo</td>\n",
              "      <td>rent</td>\n",
              "      <td>apartment</td>\n",
              "      <td>-23.547171</td>\n",
              "      <td>-46.483014</td>\n",
              "    </tr>\n",
              "    <tr>\n",
              "      <th>4</th>\n",
              "      <td>1300</td>\n",
              "      <td>410</td>\n",
              "      <td>55</td>\n",
              "      <td>2</td>\n",
              "      <td>2</td>\n",
              "      <td>1</td>\n",
              "      <td>1</td>\n",
              "      <td>1</td>\n",
              "      <td>0</td>\n",
              "      <td>0</td>\n",
              "      <td>0</td>\n",
              "      <td>Artur Alvim/São Paulo</td>\n",
              "      <td>rent</td>\n",
              "      <td>apartment</td>\n",
              "      <td>-23.525025</td>\n",
              "      <td>-46.482436</td>\n",
              "    </tr>\n",
              "  </tbody>\n",
              "</table>\n",
              "</div>"
            ],
            "text/plain": [
              "   Price  Condo  Size  ...  Property Type   Latitude  Longitude\n",
              "0    930    220    47  ...      apartment -23.543138 -46.479486\n",
              "1   1000    148    45  ...      apartment -23.550239 -46.480718\n",
              "2   1000    100    48  ...      apartment -23.542818 -46.485665\n",
              "3   1000    200    48  ...      apartment -23.547171 -46.483014\n",
              "4   1300    410    55  ...      apartment -23.525025 -46.482436\n",
              "\n",
              "[5 rows x 16 columns]"
            ]
          },
          "metadata": {
            "tags": []
          },
          "execution_count": 22
        }
      ]
    },
    {
      "cell_type": "markdown",
      "metadata": {
        "id": "FY2iBB311J91",
        "colab_type": "text"
      },
      "source": [
        "#Limpando alguns outliers:"
      ]
    },
    {
      "cell_type": "code",
      "metadata": {
        "id": "uH4uORYDDWBJ",
        "colab_type": "code",
        "colab": {}
      },
      "source": [
        "df = df[df.Rooms<7]\n",
        "df = df[df.Toilets<6]\n",
        "df = df[df.Suites<5]\n",
        "df = df[df.Parking<5]"
      ],
      "execution_count": 0,
      "outputs": []
    },
    {
      "cell_type": "code",
      "metadata": {
        "id": "Hph-tT_r_ZdP",
        "colab_type": "code",
        "colab": {}
      },
      "source": [
        "def tirar_outlier(df, lista):\n",
        "  df_clean = df[lista]\n",
        "  for col, dados in df_clean.iteritems():\n",
        "    df_clean = df_clean[((df_clean[col] - df_clean[col].mean()) / df_clean[col].std()).abs() < 3]\n",
        "    df_clean = df_clean[np.abs(df_clean[col]-df_clean[col].mean()) <= (3*df_clean[col].std())]\n",
        "\n",
        "  valores_retirados = df.shape[0] - df_clean.shape[0]\n",
        "  print('Foi retirado {} valores de {} ({:.2f})%'.format(valores_retirados, df.shape[0], valores_retirados/df.shape[0]*100))\n",
        "  print('Ficamos com {} resultados'.format(df_clean.shape[0]))\n",
        "\n",
        "  for i in range(0, len(df)):\n",
        "    if i not in df_clean.index:\n",
        "        df = df[df.index != i]\n",
        "\n",
        "  df = df.reset_index(drop=True)\n",
        "  return df"
      ],
      "execution_count": 0,
      "outputs": []
    },
    {
      "cell_type": "code",
      "metadata": {
        "id": "IwlVlym01PHC",
        "colab_type": "code",
        "outputId": "8061d4b6-bb4b-4983-8da2-05f464ff1f53",
        "colab": {
          "base_uri": "https://localhost:8080/",
          "height": 52
        }
      },
      "source": [
        "df = tirar_outlier(df, ['Latitude', 'Longitude'])\n",
        "df['District'] = df['District'].apply(lambda x: x.split('/')[0])"
      ],
      "execution_count": 0,
      "outputs": [
        {
          "output_type": "stream",
          "text": [
            "Foi retirado 985 valores de 13485 (7.30)%\n",
            "Ficamos com 12500 resultados\n"
          ],
          "name": "stdout"
        }
      ]
    },
    {
      "cell_type": "markdown",
      "metadata": {
        "id": "Lxacqi4o1QgQ",
        "colab_type": "text"
      },
      "source": [
        "#Criando o Data Frame com os valores médios para os bairros:"
      ]
    },
    {
      "cell_type": "code",
      "metadata": {
        "id": "Gk5HZPS5rnYf",
        "colab_type": "code",
        "outputId": "6ec61c5e-00f8-4bdd-8320-394219284db6",
        "colab": {
          "base_uri": "https://localhost:8080/",
          "height": 436
        }
      },
      "source": [
        "Bairros_LatLong = pd.DataFrame()\n",
        "Bairros_LatLong['Latitude'] = df.Latitude.groupby(df.District).mean()\n",
        "Bairros_LatLong['Longitude'] = df.Longitude.groupby(df.District).mean()\n",
        "\n",
        "df.drop(['District', 'Property Type'], axis = 1, inplace = True)\n",
        "Bairros_LatLong"
      ],
      "execution_count": 0,
      "outputs": [
        {
          "output_type": "execute_result",
          "data": {
            "text/html": [
              "<div>\n",
              "<style scoped>\n",
              "    .dataframe tbody tr th:only-of-type {\n",
              "        vertical-align: middle;\n",
              "    }\n",
              "\n",
              "    .dataframe tbody tr th {\n",
              "        vertical-align: top;\n",
              "    }\n",
              "\n",
              "    .dataframe thead th {\n",
              "        text-align: right;\n",
              "    }\n",
              "</style>\n",
              "<table border=\"1\" class=\"dataframe\">\n",
              "  <thead>\n",
              "    <tr style=\"text-align: right;\">\n",
              "      <th></th>\n",
              "      <th>Latitude</th>\n",
              "      <th>Longitude</th>\n",
              "    </tr>\n",
              "    <tr>\n",
              "      <th>District</th>\n",
              "      <th></th>\n",
              "      <th></th>\n",
              "    </tr>\n",
              "  </thead>\n",
              "  <tbody>\n",
              "    <tr>\n",
              "      <th>Alto de Pinheiros</th>\n",
              "      <td>-23.545107</td>\n",
              "      <td>-46.711620</td>\n",
              "    </tr>\n",
              "    <tr>\n",
              "      <th>Anhanguera</th>\n",
              "      <td>-23.589292</td>\n",
              "      <td>-46.671385</td>\n",
              "    </tr>\n",
              "    <tr>\n",
              "      <th>Aricanduva</th>\n",
              "      <td>-23.553916</td>\n",
              "      <td>-46.522669</td>\n",
              "    </tr>\n",
              "    <tr>\n",
              "      <th>Artur Alvim</th>\n",
              "      <td>-23.544731</td>\n",
              "      <td>-46.486363</td>\n",
              "    </tr>\n",
              "    <tr>\n",
              "      <th>Barra Funda</th>\n",
              "      <td>-23.523698</td>\n",
              "      <td>-46.662652</td>\n",
              "    </tr>\n",
              "    <tr>\n",
              "      <th>...</th>\n",
              "      <td>...</td>\n",
              "      <td>...</td>\n",
              "    </tr>\n",
              "    <tr>\n",
              "      <th>Vila Matilde</th>\n",
              "      <td>-23.536455</td>\n",
              "      <td>-46.526908</td>\n",
              "    </tr>\n",
              "    <tr>\n",
              "      <th>Vila Olimpia</th>\n",
              "      <td>-23.597079</td>\n",
              "      <td>-46.682313</td>\n",
              "    </tr>\n",
              "    <tr>\n",
              "      <th>Vila Prudente</th>\n",
              "      <td>-23.588982</td>\n",
              "      <td>-46.575585</td>\n",
              "    </tr>\n",
              "    <tr>\n",
              "      <th>Vila Sônia</th>\n",
              "      <td>-23.598046</td>\n",
              "      <td>-46.733250</td>\n",
              "    </tr>\n",
              "    <tr>\n",
              "      <th>Água Rasa</th>\n",
              "      <td>-23.565242</td>\n",
              "      <td>-46.568844</td>\n",
              "    </tr>\n",
              "  </tbody>\n",
              "</table>\n",
              "<p>96 rows × 2 columns</p>\n",
              "</div>"
            ],
            "text/plain": [
              "                    Latitude  Longitude\n",
              "District                               \n",
              "Alto de Pinheiros -23.545107 -46.711620\n",
              "Anhanguera        -23.589292 -46.671385\n",
              "Aricanduva        -23.553916 -46.522669\n",
              "Artur Alvim       -23.544731 -46.486363\n",
              "Barra Funda       -23.523698 -46.662652\n",
              "...                      ...        ...\n",
              "Vila Matilde      -23.536455 -46.526908\n",
              "Vila Olimpia      -23.597079 -46.682313\n",
              "Vila Prudente     -23.588982 -46.575585\n",
              "Vila Sônia        -23.598046 -46.733250\n",
              "Água Rasa         -23.565242 -46.568844\n",
              "\n",
              "[96 rows x 2 columns]"
            ]
          },
          "metadata": {
            "tags": []
          },
          "execution_count": 26
        }
      ]
    },
    {
      "cell_type": "markdown",
      "metadata": {
        "id": "frgtxU6j1VA_",
        "colab_type": "text"
      },
      "source": [
        "#Criando o Data Frame para Sale:"
      ]
    },
    {
      "cell_type": "code",
      "metadata": {
        "id": "FRJmboyYrbxq",
        "colab_type": "code",
        "outputId": "2ee005da-8f93-4c4d-b18a-4e9b4e4972fa",
        "colab": {
          "base_uri": "https://localhost:8080/",
          "height": 77
        }
      },
      "source": [
        "Sale = df[df['Negotiation Type'] == 'sale'].drop('Negotiation Type', axis = 1)\n",
        "Sale.head(1)"
      ],
      "execution_count": 0,
      "outputs": [
        {
          "output_type": "execute_result",
          "data": {
            "text/html": [
              "<div>\n",
              "<style scoped>\n",
              "    .dataframe tbody tr th:only-of-type {\n",
              "        vertical-align: middle;\n",
              "    }\n",
              "\n",
              "    .dataframe tbody tr th {\n",
              "        vertical-align: top;\n",
              "    }\n",
              "\n",
              "    .dataframe thead th {\n",
              "        text-align: right;\n",
              "    }\n",
              "</style>\n",
              "<table border=\"1\" class=\"dataframe\">\n",
              "  <thead>\n",
              "    <tr style=\"text-align: right;\">\n",
              "      <th></th>\n",
              "      <th>Price</th>\n",
              "      <th>Condo</th>\n",
              "      <th>Size</th>\n",
              "      <th>Rooms</th>\n",
              "      <th>Toilets</th>\n",
              "      <th>Suites</th>\n",
              "      <th>Parking</th>\n",
              "      <th>Elevator</th>\n",
              "      <th>Furnished</th>\n",
              "      <th>Swimming Pool</th>\n",
              "      <th>New</th>\n",
              "      <th>Latitude</th>\n",
              "      <th>Longitude</th>\n",
              "    </tr>\n",
              "  </thead>\n",
              "  <tbody>\n",
              "    <tr>\n",
              "      <th>4455</th>\n",
              "      <td>732600</td>\n",
              "      <td>1000</td>\n",
              "      <td>74</td>\n",
              "      <td>1</td>\n",
              "      <td>2</td>\n",
              "      <td>1</td>\n",
              "      <td>2</td>\n",
              "      <td>1</td>\n",
              "      <td>0</td>\n",
              "      <td>1</td>\n",
              "      <td>0</td>\n",
              "      <td>-23.552129</td>\n",
              "      <td>-46.692244</td>\n",
              "    </tr>\n",
              "  </tbody>\n",
              "</table>\n",
              "</div>"
            ],
            "text/plain": [
              "       Price  Condo  Size  Rooms  ...  Swimming Pool  New   Latitude  Longitude\n",
              "4455  732600   1000    74      1  ...              1    0 -23.552129 -46.692244\n",
              "\n",
              "[1 rows x 13 columns]"
            ]
          },
          "metadata": {
            "tags": []
          },
          "execution_count": 6
        }
      ]
    },
    {
      "cell_type": "code",
      "metadata": {
        "id": "2npfAXwOrqag",
        "colab_type": "code",
        "outputId": "38879e55-467a-40b8-9abb-e4e9bb9a98ea",
        "colab": {
          "base_uri": "https://localhost:8080/",
          "height": 70
        }
      },
      "source": [
        "print('Para o Data Frame Sale:')\n",
        "Sale_clean = tirar_outlier(Sale, ['Price'])"
      ],
      "execution_count": 0,
      "outputs": [
        {
          "output_type": "stream",
          "text": [
            "Para o Data Frame Sale:\n",
            "Foi retirado 261 valores de 5905 (4.42)%\n",
            "Ficamos com 5644 resultados\n"
          ],
          "name": "stdout"
        }
      ]
    },
    {
      "cell_type": "markdown",
      "metadata": {
        "id": "i0U9zXEI1Zmo",
        "colab_type": "text"
      },
      "source": [
        "#Primeiro Modelo:"
      ]
    },
    {
      "cell_type": "code",
      "metadata": {
        "id": "QRIq738VssBl",
        "colab_type": "code",
        "outputId": "1bb9ac8f-af22-4b79-aa9f-555d0300f01d",
        "colab": {
          "base_uri": "https://localhost:8080/",
          "height": 34
        }
      },
      "source": [
        "from sklearn.model_selection import train_test_split\n",
        "from sklearn.linear_model import LinearRegression\n",
        "from sklearn.metrics import r2_score\n",
        "\n",
        "X = Sale_clean.drop(['Price'], axis = 1)\n",
        "y = Sale_clean[['Price']]\n",
        "\n",
        "X_train, X_test, y_train, y_test = train_test_split(X, y, test_size = 0.2, random_state = 42)\n",
        "\n",
        "modelo = LinearRegression()\n",
        "modelo.fit(X_train, y_train)\n",
        "y_pred = modelo.predict(X_test)\n",
        "resultados = r2_score(y_test, y_pred)\n",
        "\n",
        "#print('R² = {:.3f}'.format(r2_score(y_test, y_pred)))\n",
        "resultados.round(3)"
      ],
      "execution_count": 0,
      "outputs": [
        {
          "output_type": "execute_result",
          "data": {
            "text/plain": [
              "0.677"
            ]
          },
          "metadata": {
            "tags": []
          },
          "execution_count": 8
        }
      ]
    },
    {
      "cell_type": "markdown",
      "metadata": {
        "id": "P3Liy5j61csQ",
        "colab_type": "text"
      },
      "source": [
        "#Exportando os Modelos:"
      ]
    },
    {
      "cell_type": "code",
      "metadata": {
        "id": "hdXWNY9RtMb_",
        "colab_type": "code",
        "colab": {}
      },
      "source": [
        "import pickle\n",
        "\n",
        "with open('modelo_simples.pkl', 'wb') as file:\n",
        "    pickle.dump(modelo, file)"
      ],
      "execution_count": 0,
      "outputs": []
    },
    {
      "cell_type": "code",
      "metadata": {
        "id": "tTaw6KtYwD5Y",
        "colab_type": "code",
        "colab": {}
      },
      "source": [
        "features_simples = X_train.columns.values\n",
        "\n",
        "with open('features_simples.names', 'wb') as file:\n",
        "    pickle.dump(features_simples, file)"
      ],
      "execution_count": 0,
      "outputs": []
    },
    {
      "cell_type": "code",
      "metadata": {
        "id": "dZgtjRrewGI7",
        "colab_type": "code",
        "colab": {}
      },
      "source": [
        "with open('/content/modelo_simples.pkl', 'rb') as file:\n",
        "    modelo_simples = pickle.load(file)\n",
        "with open('/content/features_simples.names', 'rb') as file:\n",
        "    features_names = pickle.load(file)"
      ],
      "execution_count": 0,
      "outputs": []
    },
    {
      "cell_type": "code",
      "metadata": {
        "id": "MW53BPRC078E",
        "colab_type": "code",
        "colab": {}
      },
      "source": [
        "Bairros_LatLong.to_csv('Bairros_LatLong.csv')"
      ],
      "execution_count": 0,
      "outputs": []
    },
    {
      "cell_type": "markdown",
      "metadata": {
        "id": "1D9XtE35pl_b",
        "colab_type": "text"
      },
      "source": [
        "#Códigos no Pycharm"
      ]
    },
    {
      "cell_type": "code",
      "metadata": {
        "id": "OsGjCIO1gYGb",
        "colab_type": "code",
        "colab": {}
      },
      "source": [
        "user_inputs = {'District': 'Alto de Pinheiros', 'Condo': '55', 'Size': '33', 'Rooms': '1', 'Toilets': '1', 'Suites': '2', 'Parking': '0', 'Elevator': None, 'Furnished': None, 'Swimming Pool': '1', 'New':\n",
        " None}"
      ],
      "execution_count": 0,
      "outputs": []
    },
    {
      "cell_type": "code",
      "metadata": {
        "id": "OXmXG4czgVdA",
        "colab_type": "code",
        "colab": {}
      },
      "source": [
        "dados = pd.DataFrame(index=[0], columns=features_names)\n",
        "dados = dados.fillna(value=0)\n",
        "\n",
        "for i in user_inputs.items():\n",
        "    if i[1] != None:\n",
        "        dados[i[0]] = i[1]\n",
        "    else:\n",
        "        dados[i[0]] = 0\n",
        "df_lat_long = pd.read_csv('Bairros_LatLong.csv')\n",
        "dados.Latitude = df_lat_long[df_lat_long.District == user_inputs.get('District')].Latitude.values[0]\n",
        "dados.Longitude = df_lat_long[df_lat_long.District == user_inputs.get('District')].Longitude.values[0]\n",
        "dados.drop('District', axis=1, inplace=True)\n",
        "dados = dados.astype(float)\n",
        "y_pred = modelo.predict(dados)[0][0]"
      ],
      "execution_count": 0,
      "outputs": []
    }
  ]
}