{
  "nbformat": 4,
  "nbformat_minor": 0,
  "metadata": {
    "colab": {
      "name": "03_DataVisualization_DoençasCardiacas.ipynb",
      "provenance": [],
      "toc_visible": true
    },
    "kernelspec": {
      "name": "python3",
      "display_name": "Python 3"
    }
  },
  "cells": [
    {
      "cell_type": "markdown",
      "metadata": {
        "id": "GwzbH30R2Q4V",
        "colab_type": "text"
      },
      "source": [
        "#Doenças Cardíacas:\n",
        "\n",
        "Esse notebook é um projeto desenvolvido no curso **Data Science na Prática**, possui como finalidade o aprendizado de Data Visualization aplicados à um exemplo prático: **identificação de Doenças Cardíacas**.\n",
        "\n",
        "As doenças cardíacas em si são **responsáveis por 380 mil mortes** todo ano, diante de tal problemática o *Machine Learning* pode ser utilizado com o objetivo de auxiliar a identificação de pacientes que possam sofrer dessa fatalidade de forma antecipada. Simplificando os esforços médicos para a estabilização do paciente.\n",
        "\n",
        "Segundo a revista *Nature Biomedical Engineering* mostram que algoritmos de *Deep Learning* são capazes de **prever doenças cardiovasculares em até 5 anos.**"
      ]
    },
    {
      "cell_type": "markdown",
      "metadata": {
        "id": "jC2x_ZRS2TSD",
        "colab_type": "text"
      },
      "source": [
        "##Obtenção dos Dados:\n",
        "\n",
        "Os dados utilizados nesse projeto foram coletados pela ***Cleveland Clinic Foundation*** e se encontram disponíveis no [Repositório UCI *Machine Learning*](https://archive.ics.uci.edu/ml/datasets/heart+Disease). Nota-se que dados pessoais dos pacientes foram removidos com a finaldiade de garantir o anonimato.\n",
        "\n",
        "Nesse Dataset foram registrados casos de 303 pessoas, em que foi coletado um total de 74 variáveis. Porém, para efeitos práticos e didáticos na aplicação do *Machine Learning* serão utilizados apenas 14 variáveis. Dentro da classe, existem várias doenças comoangina de peito, cardiopatia, arritmia cardíaca e aneurisma da aorta.\n",
        "\n",
        "* O arquivo `csv` com os dados de 303 pessoas e 14 atributos pode ser baixado [neste link](https://raw.githubusercontent.com/carlosfab/curso_data_science_na_pratica/master/modulo_03/heart-disease-uci.csv).\n",
        "\n",
        "* O arquivo contendo todos os detalhes e documentação do *dataset* usado neste projeto se encontra [neste link](https://github.com/carlosfab/curso_data_science_na_pratica/blob/master/modulo_03/heart-disease.names).\n",
        "\n",
        "* Há ainda um *dataset* secundário que será utilizado para ver a evolução no número de mortes por doenças cardiovasculares no Brasil (entre os anos de 2004-2017). Esses dados foram disponibilizados pela [Sociedade Brasileira de Cardiologia](http://www.cardiometro.com.br/anteriores.asp), e podem ser baixados [neste link](https://raw.githubusercontent.com/carlosfab/curso_data_science_na_pratica/master/modulo_03/mortes_doencas_cardiovasculares.csv).\n",
        "\n",
        "\n"
      ]
    },
    {
      "cell_type": "markdown",
      "metadata": {
        "id": "ufZ0o58j2WBQ",
        "colab_type": "text"
      },
      "source": [
        "##Importação das Bibliotecas:\n",
        "\n",
        "Começamos importando as bibliotecas essenciais para as análises iniciais, manipulações do Dataset e manipulações dos gráficos plotados."
      ]
    },
    {
      "cell_type": "code",
      "metadata": {
        "id": "HDiJk_TCZTBw",
        "colab_type": "code",
        "colab": {}
      },
      "source": [
        "#Importando as bibliotecas essenciais:\n",
        "import pandas as pd\n",
        "import matplotlib.pyplot as plt\n",
        "import numpy as np\n",
        "import seaborn as sns"
      ],
      "execution_count": 0,
      "outputs": []
    },
    {
      "cell_type": "markdown",
      "metadata": {
        "id": "cDZ5vi0P2YYy",
        "colab_type": "text"
      },
      "source": [
        "##Dataset de Sintomas e Patologias Cardiacas:\n",
        "\n",
        "A primeira importação do Dataset é vinda do Github do professor Carlos Melo, o link disponibilizado por ele ja contém a formatação citada anteriormente (em que contém as 14 variáveis necessárias)."
      ]
    },
    {
      "cell_type": "code",
      "metadata": {
        "id": "_g2wxMpHaNyf",
        "colab_type": "code",
        "outputId": "b770a223-771f-43ef-d53c-dfdc5308d0df",
        "colab": {
          "base_uri": "https://localhost:8080/",
          "height": 204
        }
      },
      "source": [
        "#Criando uma variável para o link do Dataset:\n",
        "data_path = 'https://raw.githubusercontent.com/carlosfab/curso_data_science_na_pratica/master/modulo_03/heart-disease-uci.csv'\n",
        "\n",
        "#Pedindo ao Pandas para a leitura do arquivo \".csv\":\n",
        "df = pd.read_csv(data_path)\n",
        "\n",
        "#Imprimindo os 5 primeiros termos:\n",
        "df.head()"
      ],
      "execution_count": 2,
      "outputs": [
        {
          "output_type": "execute_result",
          "data": {
            "text/html": [
              "<div>\n",
              "<style scoped>\n",
              "    .dataframe tbody tr th:only-of-type {\n",
              "        vertical-align: middle;\n",
              "    }\n",
              "\n",
              "    .dataframe tbody tr th {\n",
              "        vertical-align: top;\n",
              "    }\n",
              "\n",
              "    .dataframe thead th {\n",
              "        text-align: right;\n",
              "    }\n",
              "</style>\n",
              "<table border=\"1\" class=\"dataframe\">\n",
              "  <thead>\n",
              "    <tr style=\"text-align: right;\">\n",
              "      <th></th>\n",
              "      <th>age</th>\n",
              "      <th>sex</th>\n",
              "      <th>cp</th>\n",
              "      <th>trestbps</th>\n",
              "      <th>chol</th>\n",
              "      <th>fbs</th>\n",
              "      <th>restecg</th>\n",
              "      <th>thalach</th>\n",
              "      <th>exang</th>\n",
              "      <th>oldpeak</th>\n",
              "      <th>slope</th>\n",
              "      <th>ca</th>\n",
              "      <th>thal</th>\n",
              "      <th>num</th>\n",
              "    </tr>\n",
              "  </thead>\n",
              "  <tbody>\n",
              "    <tr>\n",
              "      <th>0</th>\n",
              "      <td>63.0</td>\n",
              "      <td>1.0</td>\n",
              "      <td>1.0</td>\n",
              "      <td>145.0</td>\n",
              "      <td>233.0</td>\n",
              "      <td>1.0</td>\n",
              "      <td>2.0</td>\n",
              "      <td>150.0</td>\n",
              "      <td>0.0</td>\n",
              "      <td>2.3</td>\n",
              "      <td>3.0</td>\n",
              "      <td>0.0</td>\n",
              "      <td>6.0</td>\n",
              "      <td>0</td>\n",
              "    </tr>\n",
              "    <tr>\n",
              "      <th>1</th>\n",
              "      <td>67.0</td>\n",
              "      <td>1.0</td>\n",
              "      <td>4.0</td>\n",
              "      <td>160.0</td>\n",
              "      <td>286.0</td>\n",
              "      <td>0.0</td>\n",
              "      <td>2.0</td>\n",
              "      <td>108.0</td>\n",
              "      <td>1.0</td>\n",
              "      <td>1.5</td>\n",
              "      <td>2.0</td>\n",
              "      <td>3.0</td>\n",
              "      <td>3.0</td>\n",
              "      <td>2</td>\n",
              "    </tr>\n",
              "    <tr>\n",
              "      <th>2</th>\n",
              "      <td>67.0</td>\n",
              "      <td>1.0</td>\n",
              "      <td>4.0</td>\n",
              "      <td>120.0</td>\n",
              "      <td>229.0</td>\n",
              "      <td>0.0</td>\n",
              "      <td>2.0</td>\n",
              "      <td>129.0</td>\n",
              "      <td>1.0</td>\n",
              "      <td>2.6</td>\n",
              "      <td>2.0</td>\n",
              "      <td>2.0</td>\n",
              "      <td>7.0</td>\n",
              "      <td>1</td>\n",
              "    </tr>\n",
              "    <tr>\n",
              "      <th>3</th>\n",
              "      <td>37.0</td>\n",
              "      <td>1.0</td>\n",
              "      <td>3.0</td>\n",
              "      <td>130.0</td>\n",
              "      <td>250.0</td>\n",
              "      <td>0.0</td>\n",
              "      <td>0.0</td>\n",
              "      <td>187.0</td>\n",
              "      <td>0.0</td>\n",
              "      <td>3.5</td>\n",
              "      <td>3.0</td>\n",
              "      <td>0.0</td>\n",
              "      <td>3.0</td>\n",
              "      <td>0</td>\n",
              "    </tr>\n",
              "    <tr>\n",
              "      <th>4</th>\n",
              "      <td>41.0</td>\n",
              "      <td>0.0</td>\n",
              "      <td>2.0</td>\n",
              "      <td>130.0</td>\n",
              "      <td>204.0</td>\n",
              "      <td>0.0</td>\n",
              "      <td>2.0</td>\n",
              "      <td>172.0</td>\n",
              "      <td>0.0</td>\n",
              "      <td>1.4</td>\n",
              "      <td>1.0</td>\n",
              "      <td>0.0</td>\n",
              "      <td>3.0</td>\n",
              "      <td>0</td>\n",
              "    </tr>\n",
              "  </tbody>\n",
              "</table>\n",
              "</div>"
            ],
            "text/plain": [
              "    age  sex   cp  trestbps   chol  fbs  ...  exang  oldpeak  slope   ca  thal  num\n",
              "0  63.0  1.0  1.0     145.0  233.0  1.0  ...    0.0      2.3    3.0  0.0   6.0    0\n",
              "1  67.0  1.0  4.0     160.0  286.0  0.0  ...    1.0      1.5    2.0  3.0   3.0    2\n",
              "2  67.0  1.0  4.0     120.0  229.0  0.0  ...    1.0      2.6    2.0  2.0   7.0    1\n",
              "3  37.0  1.0  3.0     130.0  250.0  0.0  ...    0.0      3.5    3.0  0.0   3.0    0\n",
              "4  41.0  0.0  2.0     130.0  204.0  0.0  ...    0.0      1.4    1.0  0.0   3.0    0\n",
              "\n",
              "[5 rows x 14 columns]"
            ]
          },
          "metadata": {
            "tags": []
          },
          "execution_count": 2
        }
      ]
    },
    {
      "cell_type": "markdown",
      "metadata": {
        "id": "a56G98woaR_0",
        "colab_type": "text"
      },
      "source": [
        "##Dicionário de Variáveis:\n",
        "\n",
        "Definir as variáveis do Dataset é essencial para uma boa estruturação do seu projeto, uma vez que, ao surgir uma duvida durante a análise, você verá a definição de cada variável.\n",
        "\n",
        "* `age` - idade em anos\n",
        "* `sex` - sexo do paciente\n",
        "  * 0: mulher\n",
        "  * 1: homem\n",
        "* `cp` - tipo da dor torácica\n",
        "  * 1: angina típica\n",
        "  * 2: angina atípica\n",
        "  * 3: dor não cardíaca\n",
        "  * 4: assintomática\n",
        "* `trestbps` - pressão arterial em repouso\n",
        "* `chol` - colesterol sérico (*mg/dl*)\n",
        "* `fbs` - açucar no sangue em jejum > 120*mg/dl*\n",
        "  * 0: `False`\n",
        "  * 1: `True`\n",
        "* `restecg` - resultado do eletrocardiografia de repouso\n",
        "  * 0: normal\n",
        "  * 1: anormalidades de ST-T  (inversão da onda T e elevação ou depressão de > 0.05*mV*)\n",
        "  * 2: hipertrofia ventricular esquerda provável ou definitiva (pelos critérios de Romhilt-Estes)\n",
        "* `thalach` - frequência cardíaca máxima atingida\n",
        "* `exang` - angina induzida pelo exercício\n",
        "  * 0: não\n",
        "  * 1: sim\n",
        "* `oldpeak` - depessão do segmento ST induzida pelo exercício em relação ao repouso\n",
        "* `slope` - inclinação do segmento ST no pico do exercício\n",
        "* `ca` - número de vasos principais colorido por fluoroscopia\n",
        "* `thal` - *thallium stress test*\n",
        "  * 3: normal\n",
        "  * 6: defeito fixo\n",
        "  * 7: defeito reversível\n",
        "* `num` - diagnóstico de doença cardíaca (diagnóstico angiográfico)\n",
        "  * 0: não há doença cardíaca ( < 50% de estreitamento do diâmetro)\n",
        "  * 1,2,3,4: há doença cardíaca ( > 50% de estreitamento do diâmetro)"
      ]
    },
    {
      "cell_type": "markdown",
      "metadata": {
        "id": "SYXCM5S72gDE",
        "colab_type": "text"
      },
      "source": [
        "##Dataset de Mortes por Doenças Cardiacas no Brasil:\n",
        "\n",
        "A segunda importação do Dataset é obtida através dos dados disponibilizados da Sociedade Brasileira de Cardiologia (SBC). Esses dados, além de estarem no próprio site da SBC, estão disponibilizados no Github."
      ]
    },
    {
      "cell_type": "code",
      "metadata": {
        "id": "tCEgv9eO0UOq",
        "colab_type": "code",
        "outputId": "a6a8e19e-9651-4ac7-dbe0-4a9dd794314c",
        "colab": {
          "base_uri": "https://localhost:8080/",
          "height": 204
        }
      },
      "source": [
        "#Link do Dataset:\n",
        "data_path_brasil = 'https://raw.githubusercontent.com/carlosfab/curso_data_science_na_pratica/master/modulo_03/mortes_doencas_cardiovasculares.csv'\n",
        "\n",
        "#Fazendo a Leitura do \".csv\":\n",
        "df_brasil = pd.read_csv(data_path_brasil)\n",
        "\n",
        "#Corrigindo a ordem do Dataset para conter progressão de anos:\n",
        "df_brasil = df_brasil.sort_values('ano',ascending=True).reset_index()\n",
        "df_brasil.drop(labels='index', axis =1, inplace = True)\n",
        "\n",
        "#Imprimindo os primeiros cinco termos:\n",
        "df_brasil.head()"
      ],
      "execution_count": 3,
      "outputs": [
        {
          "output_type": "execute_result",
          "data": {
            "text/html": [
              "<div>\n",
              "<style scoped>\n",
              "    .dataframe tbody tr th:only-of-type {\n",
              "        vertical-align: middle;\n",
              "    }\n",
              "\n",
              "    .dataframe tbody tr th {\n",
              "        vertical-align: top;\n",
              "    }\n",
              "\n",
              "    .dataframe thead th {\n",
              "        text-align: right;\n",
              "    }\n",
              "</style>\n",
              "<table border=\"1\" class=\"dataframe\">\n",
              "  <thead>\n",
              "    <tr style=\"text-align: right;\">\n",
              "      <th></th>\n",
              "      <th>ano</th>\n",
              "      <th>mortes_doencas_cardio</th>\n",
              "    </tr>\n",
              "  </thead>\n",
              "  <tbody>\n",
              "    <tr>\n",
              "      <th>0</th>\n",
              "      <td>2004</td>\n",
              "      <td>285.543</td>\n",
              "    </tr>\n",
              "    <tr>\n",
              "      <th>1</th>\n",
              "      <td>2005</td>\n",
              "      <td>283.927</td>\n",
              "    </tr>\n",
              "    <tr>\n",
              "      <th>2</th>\n",
              "      <td>2006</td>\n",
              "      <td>302.817</td>\n",
              "    </tr>\n",
              "    <tr>\n",
              "      <th>3</th>\n",
              "      <td>2007</td>\n",
              "      <td>308.466</td>\n",
              "    </tr>\n",
              "    <tr>\n",
              "      <th>4</th>\n",
              "      <td>2008</td>\n",
              "      <td>317.797</td>\n",
              "    </tr>\n",
              "  </tbody>\n",
              "</table>\n",
              "</div>"
            ],
            "text/plain": [
              "    ano  mortes_doencas_cardio\n",
              "0  2004                285.543\n",
              "1  2005                283.927\n",
              "2  2006                302.817\n",
              "3  2007                308.466\n",
              "4  2008                317.797"
            ]
          },
          "metadata": {
            "tags": []
          },
          "execution_count": 3
        }
      ]
    },
    {
      "cell_type": "markdown",
      "metadata": {
        "id": "XfRjeqf22xC1",
        "colab_type": "text"
      },
      "source": [
        "##Correção na coluna 'num' do DataFrame df:\n",
        "O dataset mostra que a variável num possui valores como: 0, 1, 2, 3 e 4. Sendo qualquer número a partir de 1 ser considerado uma doença cardiaca. Para rodarmos o codigo utilizaremos uma pequena correção que alterará os valores 2, 3 e 4 para 1."
      ]
    },
    {
      "cell_type": "code",
      "metadata": {
        "id": "mx-53zZUdoIz",
        "colab_type": "code",
        "colab": {}
      },
      "source": [
        "df.loc[df.num != 0, 'num'] = 1"
      ],
      "execution_count": 0,
      "outputs": []
    },
    {
      "cell_type": "markdown",
      "metadata": {
        "id": "H7iTFzTN279j",
        "colab_type": "text"
      },
      "source": [
        "#Análise Exploratória:\n",
        "\n",
        "A Análise Exploratória é composta por técnicas simples que buscam extrair ou ilustrar as informações contidas nos dados, sem conter nenhuma alteração significativa.\n",
        "\n",
        "Com essa definição, utilizaremos da Visualização de Dados para aumentar a eficiência dessa exploração inicial."
      ]
    },
    {
      "cell_type": "markdown",
      "metadata": {
        "id": "DeIls-cOzmUv",
        "colab_type": "text"
      },
      "source": [
        "##Q1. Qual o tamanho do DataFrame?\n",
        "\n",
        "Esses informações sobre as dimensões do Data Frame ja foram ditos anteriormente, mas como fazemos para extrair essas informações utilizando a biblioteca Pandas?"
      ]
    },
    {
      "cell_type": "code",
      "metadata": {
        "id": "7AmMckcOzn6R",
        "colab_type": "code",
        "outputId": "b902e91f-69b3-4c6c-f50b-77e0b58d1153",
        "colab": {
          "base_uri": "https://localhost:8080/",
          "height": 51
        }
      },
      "source": [
        "#Imprimindo a quantidade de linhas (entradas):\n",
        "print('Temos {} linhas/entradas de pacientes'.format(df.shape[0]))\n",
        "\n",
        "#Imprimindo a quantidade de colunas (variáveis):\n",
        "print('Temos {} colunas/fatores que são analisados'.format(df.shape[1]))"
      ],
      "execution_count": 5,
      "outputs": [
        {
          "output_type": "stream",
          "text": [
            "Temos 303 linhas/entradas de pacientes\n",
            "Temos 14 colunas/fatores que são analisados\n"
          ],
          "name": "stdout"
        }
      ]
    },
    {
      "cell_type": "markdown",
      "metadata": {
        "id": "tGG3Yyl8zdtH",
        "colab_type": "text"
      },
      "source": [
        "##Q2. Quais são os tipos dessas variáveis?\n",
        "\n",
        "Podemos identificar de duas formas os tipos de variáveis do nosso Data Frame, o primeiro método é utilizando a função: \".dtypes\" e, a segunda: \".info()\".\n",
        "\n",
        "Ao utilizar \".info()\" obtemos outras informações que são interessantes, mas não para esse momento inicial."
      ]
    },
    {
      "cell_type": "code",
      "metadata": {
        "id": "vxANUReWzfqj",
        "colab_type": "code",
        "outputId": "13d03484-46ac-4156-f0c9-700159078f2c",
        "colab": {
          "base_uri": "https://localhost:8080/",
          "height": 272
        }
      },
      "source": [
        "#Identificando os tipos de variáveis:\n",
        "df.dtypes"
      ],
      "execution_count": 6,
      "outputs": [
        {
          "output_type": "execute_result",
          "data": {
            "text/plain": [
              "age         float64\n",
              "sex         float64\n",
              "cp          float64\n",
              "trestbps    float64\n",
              "chol        float64\n",
              "fbs         float64\n",
              "restecg     float64\n",
              "thalach     float64\n",
              "exang       float64\n",
              "oldpeak     float64\n",
              "slope       float64\n",
              "ca          float64\n",
              "thal        float64\n",
              "num           int64\n",
              "dtype: object"
            ]
          },
          "metadata": {
            "tags": []
          },
          "execution_count": 6
        }
      ]
    },
    {
      "cell_type": "markdown",
      "metadata": {
        "id": "nSSiGSEU5GmS",
        "colab_type": "text"
      },
      "source": [
        "Nesse Dataset percebemos que estamos trabalhando apenas com valores numericos, não há objetos que necessitam de correção."
      ]
    },
    {
      "cell_type": "markdown",
      "metadata": {
        "id": "ROk67bebamaL",
        "colab_type": "text"
      },
      "source": [
        "##Q3. Como que está a distribuição dessas variáveis?\n",
        "\n",
        "Agora precisamos ver o comportamento das nossas variáveis, o quanto elas variam em suas distribuições. Para isso podemos utilizar a função \".describe()\" que nos retorna:\n",
        "\n",
        "* `count` - Quantidade de valores contados;\n",
        "* `mean` - A média aritmética;\n",
        "* `std` - O Desvio Padrão (Standard Deviation);\n",
        "* `min`- Valor Mínimo;\n",
        "* `25%` - Primeiro quartil (os 25% menores valores);\n",
        "* `50%` - Segundo quartil ou mediana (os 50% menores valores);\n",
        "* `75%` - Terceiro quartil (os 75% menores valores);\n",
        "* `max` - Valor Máximo.\n",
        "\n",
        "Um outro método que pode vir a ser utilizado é a impressão (plot) de histogramas das variáveis. A adoção desse histogramas nos tras uma resposta mais visual.\n",
        "\n",
        "Ambos os metodos são interessantes pois \".describe()\" é melhor para descrever as bordas (valores minimos, media, mediana e máximos). Enquanto que o histograma é visualmente mais fácil de identificar a disperções dos valores."
      ]
    },
    {
      "cell_type": "markdown",
      "metadata": {
        "id": "G3E6wr2G5Tv4",
        "colab_type": "text"
      },
      "source": [
        "###Função Describe:"
      ]
    },
    {
      "cell_type": "code",
      "metadata": {
        "id": "S_9xC7IlbqRP",
        "colab_type": "code",
        "outputId": "2f8ccca8-44e3-46be-d9ba-6ec392ea2115",
        "colab": {
          "base_uri": "https://localhost:8080/",
          "height": 297
        }
      },
      "source": [
        "#Utilizando a função \".describe()\" com arredondamento de 2 casas decimais:\n",
        "df.describe().round(2)"
      ],
      "execution_count": 7,
      "outputs": [
        {
          "output_type": "execute_result",
          "data": {
            "text/html": [
              "<div>\n",
              "<style scoped>\n",
              "    .dataframe tbody tr th:only-of-type {\n",
              "        vertical-align: middle;\n",
              "    }\n",
              "\n",
              "    .dataframe tbody tr th {\n",
              "        vertical-align: top;\n",
              "    }\n",
              "\n",
              "    .dataframe thead th {\n",
              "        text-align: right;\n",
              "    }\n",
              "</style>\n",
              "<table border=\"1\" class=\"dataframe\">\n",
              "  <thead>\n",
              "    <tr style=\"text-align: right;\">\n",
              "      <th></th>\n",
              "      <th>age</th>\n",
              "      <th>sex</th>\n",
              "      <th>cp</th>\n",
              "      <th>trestbps</th>\n",
              "      <th>chol</th>\n",
              "      <th>fbs</th>\n",
              "      <th>restecg</th>\n",
              "      <th>thalach</th>\n",
              "      <th>exang</th>\n",
              "      <th>oldpeak</th>\n",
              "      <th>slope</th>\n",
              "      <th>ca</th>\n",
              "      <th>thal</th>\n",
              "      <th>num</th>\n",
              "    </tr>\n",
              "  </thead>\n",
              "  <tbody>\n",
              "    <tr>\n",
              "      <th>count</th>\n",
              "      <td>303.00</td>\n",
              "      <td>303.00</td>\n",
              "      <td>303.00</td>\n",
              "      <td>303.00</td>\n",
              "      <td>303.00</td>\n",
              "      <td>303.00</td>\n",
              "      <td>303.00</td>\n",
              "      <td>303.00</td>\n",
              "      <td>303.00</td>\n",
              "      <td>303.00</td>\n",
              "      <td>303.00</td>\n",
              "      <td>303.00</td>\n",
              "      <td>303.00</td>\n",
              "      <td>303.00</td>\n",
              "    </tr>\n",
              "    <tr>\n",
              "      <th>mean</th>\n",
              "      <td>54.44</td>\n",
              "      <td>0.68</td>\n",
              "      <td>3.16</td>\n",
              "      <td>131.69</td>\n",
              "      <td>246.69</td>\n",
              "      <td>0.15</td>\n",
              "      <td>0.99</td>\n",
              "      <td>149.61</td>\n",
              "      <td>0.33</td>\n",
              "      <td>1.04</td>\n",
              "      <td>1.60</td>\n",
              "      <td>0.66</td>\n",
              "      <td>4.72</td>\n",
              "      <td>0.46</td>\n",
              "    </tr>\n",
              "    <tr>\n",
              "      <th>std</th>\n",
              "      <td>9.04</td>\n",
              "      <td>0.47</td>\n",
              "      <td>0.96</td>\n",
              "      <td>17.60</td>\n",
              "      <td>51.78</td>\n",
              "      <td>0.36</td>\n",
              "      <td>0.99</td>\n",
              "      <td>22.88</td>\n",
              "      <td>0.47</td>\n",
              "      <td>1.16</td>\n",
              "      <td>0.62</td>\n",
              "      <td>0.93</td>\n",
              "      <td>1.94</td>\n",
              "      <td>0.50</td>\n",
              "    </tr>\n",
              "    <tr>\n",
              "      <th>min</th>\n",
              "      <td>29.00</td>\n",
              "      <td>0.00</td>\n",
              "      <td>1.00</td>\n",
              "      <td>94.00</td>\n",
              "      <td>126.00</td>\n",
              "      <td>0.00</td>\n",
              "      <td>0.00</td>\n",
              "      <td>71.00</td>\n",
              "      <td>0.00</td>\n",
              "      <td>0.00</td>\n",
              "      <td>1.00</td>\n",
              "      <td>0.00</td>\n",
              "      <td>3.00</td>\n",
              "      <td>0.00</td>\n",
              "    </tr>\n",
              "    <tr>\n",
              "      <th>25%</th>\n",
              "      <td>48.00</td>\n",
              "      <td>0.00</td>\n",
              "      <td>3.00</td>\n",
              "      <td>120.00</td>\n",
              "      <td>211.00</td>\n",
              "      <td>0.00</td>\n",
              "      <td>0.00</td>\n",
              "      <td>133.50</td>\n",
              "      <td>0.00</td>\n",
              "      <td>0.00</td>\n",
              "      <td>1.00</td>\n",
              "      <td>0.00</td>\n",
              "      <td>3.00</td>\n",
              "      <td>0.00</td>\n",
              "    </tr>\n",
              "    <tr>\n",
              "      <th>50%</th>\n",
              "      <td>56.00</td>\n",
              "      <td>1.00</td>\n",
              "      <td>3.00</td>\n",
              "      <td>130.00</td>\n",
              "      <td>241.00</td>\n",
              "      <td>0.00</td>\n",
              "      <td>1.00</td>\n",
              "      <td>153.00</td>\n",
              "      <td>0.00</td>\n",
              "      <td>0.80</td>\n",
              "      <td>2.00</td>\n",
              "      <td>0.00</td>\n",
              "      <td>3.00</td>\n",
              "      <td>0.00</td>\n",
              "    </tr>\n",
              "    <tr>\n",
              "      <th>75%</th>\n",
              "      <td>61.00</td>\n",
              "      <td>1.00</td>\n",
              "      <td>4.00</td>\n",
              "      <td>140.00</td>\n",
              "      <td>275.00</td>\n",
              "      <td>0.00</td>\n",
              "      <td>2.00</td>\n",
              "      <td>166.00</td>\n",
              "      <td>1.00</td>\n",
              "      <td>1.60</td>\n",
              "      <td>2.00</td>\n",
              "      <td>1.00</td>\n",
              "      <td>7.00</td>\n",
              "      <td>1.00</td>\n",
              "    </tr>\n",
              "    <tr>\n",
              "      <th>max</th>\n",
              "      <td>77.00</td>\n",
              "      <td>1.00</td>\n",
              "      <td>4.00</td>\n",
              "      <td>200.00</td>\n",
              "      <td>564.00</td>\n",
              "      <td>1.00</td>\n",
              "      <td>2.00</td>\n",
              "      <td>202.00</td>\n",
              "      <td>1.00</td>\n",
              "      <td>6.20</td>\n",
              "      <td>3.00</td>\n",
              "      <td>3.00</td>\n",
              "      <td>7.00</td>\n",
              "      <td>1.00</td>\n",
              "    </tr>\n",
              "  </tbody>\n",
              "</table>\n",
              "</div>"
            ],
            "text/plain": [
              "          age     sex      cp  trestbps  ...   slope      ca    thal     num\n",
              "count  303.00  303.00  303.00    303.00  ...  303.00  303.00  303.00  303.00\n",
              "mean    54.44    0.68    3.16    131.69  ...    1.60    0.66    4.72    0.46\n",
              "std      9.04    0.47    0.96     17.60  ...    0.62    0.93    1.94    0.50\n",
              "min     29.00    0.00    1.00     94.00  ...    1.00    0.00    3.00    0.00\n",
              "25%     48.00    0.00    3.00    120.00  ...    1.00    0.00    3.00    0.00\n",
              "50%     56.00    1.00    3.00    130.00  ...    2.00    0.00    3.00    0.00\n",
              "75%     61.00    1.00    4.00    140.00  ...    2.00    1.00    7.00    1.00\n",
              "max     77.00    1.00    4.00    200.00  ...    3.00    3.00    7.00    1.00\n",
              "\n",
              "[8 rows x 14 columns]"
            ]
          },
          "metadata": {
            "tags": []
          },
          "execution_count": 7
        }
      ]
    },
    {
      "cell_type": "markdown",
      "metadata": {
        "id": "YTxcB-Vy5WLb",
        "colab_type": "text"
      },
      "source": [
        "###Plot de Histogramas do Dataset:"
      ]
    },
    {
      "cell_type": "code",
      "metadata": {
        "id": "gbRCt6bO3ZAP",
        "colab_type": "code",
        "outputId": "e491137d-7ec7-457e-db88-6f6757ba5e23",
        "colab": {
          "base_uri": "https://localhost:8080/",
          "height": 1000
        }
      },
      "source": [
        "#Impressão dos histogramas de todas as variáveis númericas:\n",
        "df.hist(figsize = (10,8))"
      ],
      "execution_count": 8,
      "outputs": [
        {
          "output_type": "stream",
          "text": [
            "/usr/local/lib/python3.6/dist-packages/pandas/plotting/_matplotlib/tools.py:307: MatplotlibDeprecationWarning: \n",
            "The rowNum attribute was deprecated in Matplotlib 3.2 and will be removed two minor releases later. Use ax.get_subplotspec().rowspan.start instead.\n",
            "  layout[ax.rowNum, ax.colNum] = ax.get_visible()\n",
            "/usr/local/lib/python3.6/dist-packages/pandas/plotting/_matplotlib/tools.py:307: MatplotlibDeprecationWarning: \n",
            "The colNum attribute was deprecated in Matplotlib 3.2 and will be removed two minor releases later. Use ax.get_subplotspec().colspan.start instead.\n",
            "  layout[ax.rowNum, ax.colNum] = ax.get_visible()\n",
            "/usr/local/lib/python3.6/dist-packages/pandas/plotting/_matplotlib/tools.py:313: MatplotlibDeprecationWarning: \n",
            "The rowNum attribute was deprecated in Matplotlib 3.2 and will be removed two minor releases later. Use ax.get_subplotspec().rowspan.start instead.\n",
            "  if not layout[ax.rowNum + 1, ax.colNum]:\n",
            "/usr/local/lib/python3.6/dist-packages/pandas/plotting/_matplotlib/tools.py:313: MatplotlibDeprecationWarning: \n",
            "The colNum attribute was deprecated in Matplotlib 3.2 and will be removed two minor releases later. Use ax.get_subplotspec().colspan.start instead.\n",
            "  if not layout[ax.rowNum + 1, ax.colNum]:\n"
          ],
          "name": "stderr"
        },
        {
          "output_type": "execute_result",
          "data": {
            "text/plain": [
              "array([[<matplotlib.axes._subplots.AxesSubplot object at 0x7fba6cfb7390>,\n",
              "        <matplotlib.axes._subplots.AxesSubplot object at 0x7fba6cf3aeb8>,\n",
              "        <matplotlib.axes._subplots.AxesSubplot object at 0x7fba6cef7160>,\n",
              "        <matplotlib.axes._subplots.AxesSubplot object at 0x7fba6ceac3c8>],\n",
              "       [<matplotlib.axes._subplots.AxesSubplot object at 0x7fba6ce5f630>,\n",
              "        <matplotlib.axes._subplots.AxesSubplot object at 0x7fba6ce93898>,\n",
              "        <matplotlib.axes._subplots.AxesSubplot object at 0x7fba6cf8c668>,\n",
              "        <matplotlib.axes._subplots.AxesSubplot object at 0x7fba6cdf5b70>],\n",
              "       [<matplotlib.axes._subplots.AxesSubplot object at 0x7fba6cdf5be0>,\n",
              "        <matplotlib.axes._subplots.AxesSubplot object at 0x7fba6cd690b8>,\n",
              "        <matplotlib.axes._subplots.AxesSubplot object at 0x7fba6cd99320>,\n",
              "        <matplotlib.axes._subplots.AxesSubplot object at 0x7fba6cd4d588>],\n",
              "       [<matplotlib.axes._subplots.AxesSubplot object at 0x7fba6ccff7f0>,\n",
              "        <matplotlib.axes._subplots.AxesSubplot object at 0x7fba6ccb3a58>,\n",
              "        <matplotlib.axes._subplots.AxesSubplot object at 0x7fba6cc66cc0>,\n",
              "        <matplotlib.axes._subplots.AxesSubplot object at 0x7fba6cc9cf28>]],\n",
              "      dtype=object)"
            ]
          },
          "metadata": {
            "tags": []
          },
          "execution_count": 8
        },
        {
          "output_type": "display_data",
          "data": {
            "image/png": "[encoded data removed]",
            "text/plain": [
              "<Figure size 720x576 with 16 Axes>"
            ]
          },
          "metadata": {
            "tags": []
          }
        }
      ]
    },
    {
      "cell_type": "markdown",
      "metadata": {
        "id": "6mJDBwygb1WM",
        "colab_type": "text"
      },
      "source": [
        "### Verificação de oldpeak:\n",
        "\n",
        "Durantea visualização dos histogramas, reparei que a variável `oldpeak`apresentou alguns valores fora do esperado, para verificar melhor esse comportamento, utilizaremos o boxplot para entender esse um pouco melhor esse comportamento:"
      ]
    },
    {
      "cell_type": "code",
      "metadata": {
        "id": "easF1ViCbrJQ",
        "colab_type": "code",
        "outputId": "4d3653d2-e946-4941-cb9a-4ccb8637aa82",
        "colab": {
          "base_uri": "https://localhost:8080/",
          "height": 392
        }
      },
      "source": [
        "#Imprimindo o boxplot para oldpeak:\n",
        "df.boxplot(column='oldpeak', figsize = (6,6))\n",
        "\n",
        "plt.title('Boxplot para oldpeak', fontsize = 16)\n",
        "\n",
        "plt.show();"
      ],
      "execution_count": 34,
      "outputs": [
        {
          "output_type": "display_data",
          "data": {
            "image/png": "[encoded data removed]",
            "text/plain": [
              "<Figure size 432x432 with 1 Axes>"
            ]
          },
          "metadata": {
            "tags": []
          }
        }
      ]
    },
    {
      "cell_type": "markdown",
      "metadata": {
        "id": "2tfzDVzG0KZ2",
        "colab_type": "text"
      },
      "source": [
        "##Q4. Como está a segmentação de pessoas com doenças cardiacas?\n",
        "\n",
        "Após aquela correção inicial de converter todos os valores acima de 1 para 1 (separando a pessoa que terá doença cardíaca das que não tem), vamos ver quantas pessoas no nosso Dataset possuem Doenças Cardíacas:"
      ]
    },
    {
      "cell_type": "markdown",
      "metadata": {
        "id": "bnPF5-jN5u0r",
        "colab_type": "text"
      },
      "source": [
        "###Descobrindo a quantidade:\n",
        "\n",
        "Para descobrir quantas vezes um determinado valor ocorre em uma coluna, utilizamos a função \".value_counts()\":"
      ]
    },
    {
      "cell_type": "code",
      "metadata": {
        "id": "dC9po5Slyuyv",
        "colab_type": "code",
        "outputId": "7cf30843-790d-4237-9acc-120ab91bde1e",
        "colab": {
          "base_uri": "https://localhost:8080/",
          "height": 51
        }
      },
      "source": [
        "#Imprimindo as pessoas com Doença Cardíaca e sem Doença Cardíaca:\n",
        "print('Pessoas sem Doença Cardiaca: {}'.format(df.num.value_counts()[0]))\n",
        "print('Pessoas com Doença Cardiaca: {}'.format(df.num.value_counts()[1]))"
      ],
      "execution_count": 10,
      "outputs": [
        {
          "output_type": "stream",
          "text": [
            "Pessoas sem Doença Cardiaca: 164\n",
            "Pessoas com Doença Cardiaca: 139\n"
          ],
          "name": "stdout"
        }
      ]
    },
    {
      "cell_type": "markdown",
      "metadata": {
        "id": "_ymy46-95wxB",
        "colab_type": "text"
      },
      "source": [
        "###Imprimindo essa diferença num gráfico de pizza:"
      ]
    },
    {
      "cell_type": "code",
      "metadata": {
        "id": "QO2Xnatd50qJ",
        "colab_type": "code",
        "outputId": "336bc690-1fd5-458f-a512-2778dc41217a",
        "colab": {
          "base_uri": "https://localhost:8080/",
          "height": 279
        }
      },
      "source": [
        "#Separando uma fatia da outra:\n",
        "explode = (0.1, 0)\n",
        "\n",
        "#Definindo os registros:\n",
        "labels = ['Não possui Doenças Cardíacas ({} casos)'.format(df.num.value_counts()[0]),\n",
        "          'Possui Doenças Cardíacas ({} casos)'.format(df.num.value_counts()[1])]\n",
        "\n",
        "#Utilizando o Pyplot para a criação de um gráfico do tipo Pizza:\n",
        "fig, ax = plt.pie(df.num.value_counts(), labels = labels,\n",
        "                  explode = explode, shadow = True)\n",
        "\n",
        "#Inserindo um Título para a imagem em caixa:\n",
        "plt.title('Quantidade de pessoas com\\n'+'Doenças Cardíacas no Dataset', bbox = {'facecolor':'.9', 'pad':2})\n",
        "\n",
        "#Mostrando o resultado:\n",
        "plt.show()"
      ],
      "execution_count": 11,
      "outputs": [
        {
          "output_type": "display_data",
          "data": {
            "image/png": "[encoded data removed]",
            "text/plain": [
              "<Figure size 432x288 with 1 Axes>"
            ]
          },
          "metadata": {
            "tags": []
          }
        }
      ]
    },
    {
      "cell_type": "markdown",
      "metadata": {
        "id": "I6hgTgui7v3y",
        "colab_type": "text"
      },
      "source": [
        "##Q5. Existem Variáveis Nulas?\n",
        "\n",
        "Outro fator que nos devemos sempre atentar é sobre a quantidade de valores faltantes ou a presença de variáveis nulas. Para essa verificação utilizamos a função \".isnull()\" para retornar um valor Verdadeiro (`True` ou 1) para entradas nulas ou Falso (`False` ou 0) para variáveis que possuem valor.\n",
        "\n",
        "No final disso, somamos todos os valores e dividimos pelo tamanho do Dataset. Assim, **obtemos a porcentagem de valores nulos existentes.**"
      ]
    },
    {
      "cell_type": "code",
      "metadata": {
        "id": "JUgvwNInajpb",
        "colab_type": "code",
        "outputId": "05bee8ec-05a0-4f72-8ffb-919c578651e9",
        "colab": {
          "base_uri": "https://localhost:8080/",
          "height": 272
        }
      },
      "source": [
        "#Obtendo a porcentagem de valores nulos para as variáveis:\n",
        "df.isnull().sum()/df.shape[0]"
      ],
      "execution_count": 12,
      "outputs": [
        {
          "output_type": "execute_result",
          "data": {
            "text/plain": [
              "age         0.0\n",
              "sex         0.0\n",
              "cp          0.0\n",
              "trestbps    0.0\n",
              "chol        0.0\n",
              "fbs         0.0\n",
              "restecg     0.0\n",
              "thalach     0.0\n",
              "exang       0.0\n",
              "oldpeak     0.0\n",
              "slope       0.0\n",
              "ca          0.0\n",
              "thal        0.0\n",
              "num         0.0\n",
              "dtype: float64"
            ]
          },
          "metadata": {
            "tags": []
          },
          "execution_count": 12
        }
      ]
    },
    {
      "cell_type": "markdown",
      "metadata": {
        "id": "CH5X7pSH5xTZ",
        "colab_type": "text"
      },
      "source": [
        "Aqui podemos observar que não há valores faltantes ou nulos."
      ]
    },
    {
      "cell_type": "markdown",
      "metadata": {
        "id": "Ste_v4R470j-",
        "colab_type": "text"
      },
      "source": [
        "##Q6. Qual a quantidade de pessoas que morreram por Doenças Cardíacas no Brasil?\n",
        "\n",
        "Para entendermos melhor a importância desse cenário de Doenças Cardíacas, será utilizado aqui o Dataset disponibilizado pela Sociedade Brasileira de Cardiologia."
      ]
    },
    {
      "cell_type": "code",
      "metadata": {
        "id": "5rIUYAwd0lhx",
        "colab_type": "code",
        "outputId": "041695dd-8eae-4851-8e54-cc533fd1f9bf",
        "colab": {
          "base_uri": "https://localhost:8080/",
          "height": 265
        }
      },
      "source": [
        "#Imprimindo gráfico do tipo linha:\n",
        "plt.plot(df_brasil.ano, df_brasil.mortes_doencas_cardio);"
      ],
      "execution_count": 13,
      "outputs": [
        {
          "output_type": "display_data",
          "data": {
            "image/png": "[encoded data removed]",
            "text/plain": [
              "<Figure size 432x288 with 1 Axes>"
            ]
          },
          "metadata": {
            "tags": []
          }
        }
      ]
    },
    {
      "cell_type": "markdown",
      "metadata": {
        "id": "jexbblM7muiQ",
        "colab_type": "text"
      },
      "source": [
        "##Q7. Qual a quantidade de homens e mulheres?\n",
        "\n",
        "Afinal, quantos homens e mulheres estão presentes nesse dataset?"
      ]
    },
    {
      "cell_type": "code",
      "metadata": {
        "id": "nCl644jnm6we",
        "colab_type": "code",
        "outputId": "1f1aaf4e-efcd-4b95-873b-cdbc5a2f1abe",
        "colab": {
          "base_uri": "https://localhost:8080/",
          "height": 265
        }
      },
      "source": [
        "#Imprimindo um gráfico de barra comparando a quantidade de homens e mulheres:\n",
        "sns.barplot(x = ['Mulher','Homem'], y = df.sex.value_counts());"
      ],
      "execution_count": 14,
      "outputs": [
        {
          "output_type": "display_data",
          "data": {
            "image/png": "[encoded data removed]",
            "text/plain": [
              "<Figure size 432x288 with 1 Axes>"
            ]
          },
          "metadata": {
            "tags": []
          }
        }
      ]
    },
    {
      "cell_type": "markdown",
      "metadata": {
        "id": "UIqeFDYPpIp7",
        "colab_type": "text"
      },
      "source": [
        "##Q8. Como é a dispersão do Colesterol Sérico ao decorrer da idade?\n",
        "\n",
        "O Colesterol Sérico é um dos responsáveis pelo estreitamento e endurecimento de artérias, podendo ser um fator determinante para problemas cardíacos. Esse é um fator que se relaciona diretamente com a idade?"
      ]
    },
    {
      "cell_type": "code",
      "metadata": {
        "id": "BJNWC-f9pMQ7",
        "colab_type": "code",
        "outputId": "094ee8bd-8660-4c23-e63e-6e5572a20f74",
        "colab": {
          "base_uri": "https://localhost:8080/",
          "height": 301
        }
      },
      "source": [
        "#Imprimindo um gráfico de Dispersão entre idade e a quantidade de Colesterol Sérico no sangue:\n",
        "sns.scatterplot(x = df.age, y = df.chol)\n",
        "\n",
        "#Formatando as Legendas:\n",
        "plt.title('Disperção do Colesterol Sérico ao decorrer da Idade', fontsize = 16)\n",
        "plt.xlabel(\"Idade\", fontsize = 12)\n",
        "plt.ylabel(\"Colesterol Sérico (mg/dl)\", fontsize = 12)\n",
        "\n",
        "#Mostrando o resultado:\n",
        "plt.show();"
      ],
      "execution_count": 36,
      "outputs": [
        {
          "output_type": "display_data",
          "data": {
            "image/png": "[encoded data removed]",
            "text/plain": [
              "<Figure size 432x288 with 1 Axes>"
            ]
          },
          "metadata": {
            "tags": []
          }
        }
      ]
    },
    {
      "cell_type": "markdown",
      "metadata": {
        "id": "ENZ0Ducfs0tP",
        "colab_type": "text"
      },
      "source": [
        "##Q9. Qual a dispersão desse Colesterol Sérico?\n",
        "\n",
        "Afinal, qual é o intervalo dessa variável que podemos considerar comum a quantidade desse colesterol?"
      ]
    },
    {
      "cell_type": "code",
      "metadata": {
        "id": "6Ovoe_hgllQ9",
        "colab_type": "code",
        "outputId": "a5b1abfc-cf9f-47fa-df0b-d0cd15dd194a",
        "colab": {
          "base_uri": "https://localhost:8080/",
          "height": 319
        }
      },
      "source": [
        "#Criando a figura utilizando o pyplot:\n",
        "fig, ax = plt.subplots(figsize = (16,4))\n",
        "\n",
        "#Selecionando o tipo histograma como plot:\n",
        "df.chol.plot(kind = 'hist', ax = ax)\n",
        "\n",
        "#Inserindo as legendas:\n",
        "ax.set_title('Casos de Colesterol Sérico', fontsize = 14)\n",
        "ax.set_xlabel('Ocorrências', fontsize= 12)\n",
        "ax.set_ylabel('Colesterol Sérico (mg/dl)', fontsize= 12)\n",
        "\n",
        "#Aproveitando o máximo do espaçamento:\n",
        "plt.tight_layout;"
      ],
      "execution_count": 16,
      "outputs": [
        {
          "output_type": "display_data",
          "data": {
            "image/png": "[encoded data removed]",
            "text/plain": [
              "<Figure size 1152x288 with 1 Axes>"
            ]
          },
          "metadata": {
            "tags": []
          }
        }
      ]
    },
    {
      "cell_type": "markdown",
      "metadata": {
        "id": "n-pAt0ytn4Yz",
        "colab_type": "text"
      },
      "source": [
        "##Q10. Quais são os resultados do Eletrocardiografia de repouso? (resteg)"
      ]
    },
    {
      "cell_type": "code",
      "metadata": {
        "id": "pZSLoDACoLqt",
        "colab_type": "code",
        "outputId": "0da2a4ed-b76b-43af-e203-9022df6de139",
        "colab": {
          "base_uri": "https://localhost:8080/",
          "height": 297
        }
      },
      "source": [
        "#Criando a figura:\n",
        "fig, ax = plt.subplots(figsize = (10,4))\n",
        "\n",
        "#Separando visualmente as variáveis:\n",
        "explode = (0.05, 0.05, 0)\n",
        "\n",
        "#Corrigindo as legendas:\n",
        "labels = ['Normal ({})'.format(df.restecg.value_counts()[0]), \n",
        "          'Hipertrofia Ventricular ({})'.format(df.restecg.value_counts()[2]),\n",
        "          'Anormalidades ({})'.format(df.restecg.value_counts()[1])]\n",
        "plt.title(\"Resultados do Eletrocardiografia de repouso (resteg)\")\n",
        "\n",
        "#Inserindo os valores:\n",
        "ax.pie(df.restecg.value_counts(), explode = explode,\n",
        "       labels = labels, shadow = True)\n",
        "\n",
        "#Aproveitando o máximo do espaçamento:\n",
        "plt.tight_layout();"
      ],
      "execution_count": 41,
      "outputs": [
        {
          "output_type": "display_data",
          "data": {
            "image/png": "[encoded data removed]",
            "text/plain": [
              "<Figure size 720x288 with 1 Axes>"
            ]
          },
          "metadata": {
            "tags": []
          }
        }
      ]
    },
    {
      "cell_type": "markdown",
      "metadata": {
        "id": "RIULY_SdqrJK",
        "colab_type": "text"
      },
      "source": [
        "##Q11. Qual o coeficiente de Pearson entre cada variável?\n",
        "\n",
        "Esse coeficiente de Pearson utiliza uma escala entre -1 a 1 para identificar o grau de correlação entre as variáveis, podendo nos indicar uma possível causa e efeito."
      ]
    },
    {
      "cell_type": "code",
      "metadata": {
        "id": "azHlr5LGbzkQ",
        "colab_type": "code",
        "outputId": "59bb27d5-ad62-4af0-e29b-72e261a51ab8",
        "colab": {
          "base_uri": "https://localhost:8080/",
          "height": 518
        }
      },
      "source": [
        "fig, ax = plt.subplots(figsize = (10,8))\n",
        "\n",
        "mask = np.zeros_like(df.corr(), dtype=np.bool)\n",
        "mask[np.triu_indices_from(mask)] = True\n",
        "\n",
        "ax = sns.heatmap(df.corr(), mask = mask, cmap = 'GnBu', fmt = '.2f', square = True, annot = True, ax = ax)"
      ],
      "execution_count": 18,
      "outputs": [
        {
          "output_type": "display_data",
          "data": {
            "image/png": "[encoded data removed]",
            "text/plain": [
              "<Figure size 720x576 with 2 Axes>"
            ]
          },
          "metadata": {
            "tags": []
          }
        }
      ]
    },
    {
      "cell_type": "markdown",
      "metadata": {
        "id": "AUERa2x3A4aI",
        "colab_type": "text"
      },
      "source": [
        "#Conclusões:\n",
        "\n",
        "Como dito anteriormente, o principal objetivo desse notebook é começar a praticar sobre Visualização de Dados utilizando um caso prático. Aqui podemos ver algumas das utilizações do Pyplot e Seaborn, principalmente.\n",
        "\n",
        "Esse atual notebook tem como finalidade a possibildiade de consulta futura."
      ]
    }
  ]
}