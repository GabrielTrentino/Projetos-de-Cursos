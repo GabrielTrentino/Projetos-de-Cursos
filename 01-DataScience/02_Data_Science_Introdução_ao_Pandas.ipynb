{
  "nbformat": 4,
  "nbformat_minor": 0,
  "metadata": {
    "colab": {
      "name": "02_Data Science: Introdução ao Pandas.ipynb",
      "provenance": [],
      "toc_visible": true
    },
    "kernelspec": {
      "name": "python3",
      "display_name": "Python 3"
    }
  },
  "cells": [
    {
      "cell_type": "markdown",
      "metadata": {
        "id": "XHWUCqi7X1Od",
        "colab_type": "text"
      },
      "source": [
        "#Conheçendo o Pandas - Aula 01\n",
        "\n",
        "Explicar o Colab, Pandas e Python"
      ]
    },
    {
      "cell_type": "markdown",
      "metadata": {
        "id": "KZYDleKzX9xO",
        "colab_type": "text"
      },
      "source": [
        "#Importando os Dados - Aula 02"
      ]
    },
    {
      "cell_type": "code",
      "metadata": {
        "id": "vbBxZ8xcUqAd",
        "colab_type": "code",
        "colab": {}
      },
      "source": [
        "import pandas as pd\n",
        "%matplotlib inline\n",
        "import matplotlib.pyplot as plt"
      ],
      "execution_count": 0,
      "outputs": []
    },
    {
      "cell_type": "code",
      "metadata": {
        "id": "mgw0E5oCUwo4",
        "colab_type": "code",
        "colab": {}
      },
      "source": [
        "arquivo = 'https://raw.githubusercontent.com/GabrielTrentino/Projetos-de-Cursos/master/01-DataScience/02_Aluguel.csv'\n",
        "df = pd.read_csv(arquivo, sep=';')"
      ],
      "execution_count": 0,
      "outputs": []
    },
    {
      "cell_type": "code",
      "metadata": {
        "id": "FMBNXKdEU6xP",
        "colab_type": "code",
        "outputId": "350b1401-93b7-4249-d19a-f3d2136b2122",
        "colab": {
          "base_uri": "https://localhost:8080/",
          "height": 204
        }
      },
      "source": [
        "df.head()"
      ],
      "execution_count": 86,
      "outputs": [
        {
          "output_type": "execute_result",
          "data": {
            "text/html": [
              "<div>\n",
              "<style scoped>\n",
              "    .dataframe tbody tr th:only-of-type {\n",
              "        vertical-align: middle;\n",
              "    }\n",
              "\n",
              "    .dataframe tbody tr th {\n",
              "        vertical-align: top;\n",
              "    }\n",
              "\n",
              "    .dataframe thead th {\n",
              "        text-align: right;\n",
              "    }\n",
              "</style>\n",
              "<table border=\"1\" class=\"dataframe\">\n",
              "  <thead>\n",
              "    <tr style=\"text-align: right;\">\n",
              "      <th></th>\n",
              "      <th>Tipo</th>\n",
              "      <th>Bairro</th>\n",
              "      <th>Quartos</th>\n",
              "      <th>Vagas</th>\n",
              "      <th>Suites</th>\n",
              "      <th>Area</th>\n",
              "      <th>Valor</th>\n",
              "      <th>Condominio</th>\n",
              "      <th>IPTU</th>\n",
              "    </tr>\n",
              "  </thead>\n",
              "  <tbody>\n",
              "    <tr>\n",
              "      <th>0</th>\n",
              "      <td>Quitinete</td>\n",
              "      <td>Copacabana</td>\n",
              "      <td>1</td>\n",
              "      <td>0</td>\n",
              "      <td>0</td>\n",
              "      <td>40</td>\n",
              "      <td>1700.0</td>\n",
              "      <td>500.0</td>\n",
              "      <td>60.0</td>\n",
              "    </tr>\n",
              "    <tr>\n",
              "      <th>1</th>\n",
              "      <td>Casa</td>\n",
              "      <td>Jardim Botânico</td>\n",
              "      <td>2</td>\n",
              "      <td>0</td>\n",
              "      <td>1</td>\n",
              "      <td>100</td>\n",
              "      <td>7000.0</td>\n",
              "      <td>NaN</td>\n",
              "      <td>NaN</td>\n",
              "    </tr>\n",
              "    <tr>\n",
              "      <th>2</th>\n",
              "      <td>Conjunto Comercial/Sala</td>\n",
              "      <td>Barra da Tijuca</td>\n",
              "      <td>0</td>\n",
              "      <td>4</td>\n",
              "      <td>0</td>\n",
              "      <td>150</td>\n",
              "      <td>5200.0</td>\n",
              "      <td>4020.0</td>\n",
              "      <td>1111.0</td>\n",
              "    </tr>\n",
              "    <tr>\n",
              "      <th>3</th>\n",
              "      <td>Apartamento</td>\n",
              "      <td>Centro</td>\n",
              "      <td>1</td>\n",
              "      <td>0</td>\n",
              "      <td>0</td>\n",
              "      <td>15</td>\n",
              "      <td>800.0</td>\n",
              "      <td>390.0</td>\n",
              "      <td>20.0</td>\n",
              "    </tr>\n",
              "    <tr>\n",
              "      <th>4</th>\n",
              "      <td>Apartamento</td>\n",
              "      <td>Higienópolis</td>\n",
              "      <td>1</td>\n",
              "      <td>0</td>\n",
              "      <td>0</td>\n",
              "      <td>48</td>\n",
              "      <td>800.0</td>\n",
              "      <td>230.0</td>\n",
              "      <td>NaN</td>\n",
              "    </tr>\n",
              "  </tbody>\n",
              "</table>\n",
              "</div>"
            ],
            "text/plain": [
              "                      Tipo           Bairro  ...  Condominio    IPTU\n",
              "0                Quitinete       Copacabana  ...       500.0    60.0\n",
              "1                     Casa  Jardim Botânico  ...         NaN     NaN\n",
              "2  Conjunto Comercial/Sala  Barra da Tijuca  ...      4020.0  1111.0\n",
              "3              Apartamento           Centro  ...       390.0    20.0\n",
              "4              Apartamento     Higienópolis  ...       230.0     NaN\n",
              "\n",
              "[5 rows x 9 columns]"
            ]
          },
          "metadata": {
            "tags": []
          },
          "execution_count": 86
        }
      ]
    },
    {
      "cell_type": "code",
      "metadata": {
        "id": "rVmuZI_5VgWm",
        "colab_type": "code",
        "outputId": "9a07c02f-4f69-4f0f-82fa-8f8f8e7e8404",
        "colab": {
          "base_uri": "https://localhost:8080/",
          "height": 34
        }
      },
      "source": [
        "type(df)"
      ],
      "execution_count": 87,
      "outputs": [
        {
          "output_type": "execute_result",
          "data": {
            "text/plain": [
              "pandas.core.frame.DataFrame"
            ]
          },
          "metadata": {
            "tags": []
          },
          "execution_count": 87
        }
      ]
    },
    {
      "cell_type": "code",
      "metadata": {
        "id": "ICGAmtjiU7fV",
        "colab_type": "code",
        "outputId": "c762256b-6f88-4be6-86ad-4bbea7a1390f",
        "colab": {
          "base_uri": "https://localhost:8080/",
          "height": 328
        }
      },
      "source": [
        "tipo_de_dados = pd.DataFrame(df.dtypes, columns = ['Tipos de Dados'])\n",
        "tipo_de_dados.columns.name = 'Variáveis'\n",
        "tipo_de_dados"
      ],
      "execution_count": 88,
      "outputs": [
        {
          "output_type": "execute_result",
          "data": {
            "text/html": [
              "<div>\n",
              "<style scoped>\n",
              "    .dataframe tbody tr th:only-of-type {\n",
              "        vertical-align: middle;\n",
              "    }\n",
              "\n",
              "    .dataframe tbody tr th {\n",
              "        vertical-align: top;\n",
              "    }\n",
              "\n",
              "    .dataframe thead th {\n",
              "        text-align: right;\n",
              "    }\n",
              "</style>\n",
              "<table border=\"1\" class=\"dataframe\">\n",
              "  <thead>\n",
              "    <tr style=\"text-align: right;\">\n",
              "      <th>Variáveis</th>\n",
              "      <th>Tipos de Dados</th>\n",
              "    </tr>\n",
              "  </thead>\n",
              "  <tbody>\n",
              "    <tr>\n",
              "      <th>Tipo</th>\n",
              "      <td>object</td>\n",
              "    </tr>\n",
              "    <tr>\n",
              "      <th>Bairro</th>\n",
              "      <td>object</td>\n",
              "    </tr>\n",
              "    <tr>\n",
              "      <th>Quartos</th>\n",
              "      <td>int64</td>\n",
              "    </tr>\n",
              "    <tr>\n",
              "      <th>Vagas</th>\n",
              "      <td>int64</td>\n",
              "    </tr>\n",
              "    <tr>\n",
              "      <th>Suites</th>\n",
              "      <td>int64</td>\n",
              "    </tr>\n",
              "    <tr>\n",
              "      <th>Area</th>\n",
              "      <td>int64</td>\n",
              "    </tr>\n",
              "    <tr>\n",
              "      <th>Valor</th>\n",
              "      <td>float64</td>\n",
              "    </tr>\n",
              "    <tr>\n",
              "      <th>Condominio</th>\n",
              "      <td>float64</td>\n",
              "    </tr>\n",
              "    <tr>\n",
              "      <th>IPTU</th>\n",
              "      <td>float64</td>\n",
              "    </tr>\n",
              "  </tbody>\n",
              "</table>\n",
              "</div>"
            ],
            "text/plain": [
              "Variáveis  Tipos de Dados\n",
              "Tipo               object\n",
              "Bairro             object\n",
              "Quartos             int64\n",
              "Vagas               int64\n",
              "Suites              int64\n",
              "Area                int64\n",
              "Valor             float64\n",
              "Condominio        float64\n",
              "IPTU              float64"
            ]
          },
          "metadata": {
            "tags": []
          },
          "execution_count": 88
        }
      ]
    },
    {
      "cell_type": "code",
      "metadata": {
        "id": "xmaG5ZkxWARW",
        "colab_type": "code",
        "outputId": "690cca55-6ad1-45af-8a02-3978d131c535",
        "colab": {
          "base_uri": "https://localhost:8080/",
          "height": 136
        }
      },
      "source": [
        "print('Obtendo as dimensões do DataFrame: ', df.shape)\n",
        "\n",
        "print('\\nPrimeiro Elemento da Tupla: ',df.shape[0])\n",
        "\n",
        "print('\\nSegundo Elemento da Tupla: ',df.shape[1])\n",
        "\n",
        "print('\\nA base de dados apresenta {} registros (imóveis) e {} variáveis'.format(df.shape[0], df.shape[1]))"
      ],
      "execution_count": 89,
      "outputs": [
        {
          "output_type": "stream",
          "text": [
            "Obtendo as dimensões do DataFrame:  (32960, 9)\n",
            "\n",
            "Primeiro Elemento da Tupla:  32960\n",
            "\n",
            "Segundo Elemento da Tupla:  9\n",
            "\n",
            "A base de dados apresenta 32960 registros (imóveis) e 9 variáveis\n"
          ],
          "name": "stdout"
        }
      ]
    },
    {
      "cell_type": "markdown",
      "metadata": {
        "id": "7UY51eZ2YRlz",
        "colab_type": "text"
      },
      "source": [
        "#Series e Index - Aula 03"
      ]
    },
    {
      "cell_type": "code",
      "metadata": {
        "id": "FFU19-RdYhp2",
        "colab_type": "code",
        "outputId": "aa7046ef-878e-4877-9cae-2d33ff90a839",
        "colab": {
          "base_uri": "https://localhost:8080/",
          "height": 221
        }
      },
      "source": [
        "df['Tipo']"
      ],
      "execution_count": 90,
      "outputs": [
        {
          "output_type": "execute_result",
          "data": {
            "text/plain": [
              "0                      Quitinete\n",
              "1                           Casa\n",
              "2        Conjunto Comercial/Sala\n",
              "3                    Apartamento\n",
              "4                    Apartamento\n",
              "                  ...           \n",
              "32955                  Quitinete\n",
              "32956                Apartamento\n",
              "32957                Apartamento\n",
              "32958                Apartamento\n",
              "32959    Conjunto Comercial/Sala\n",
              "Name: Tipo, Length: 32960, dtype: object"
            ]
          },
          "metadata": {
            "tags": []
          },
          "execution_count": 90
        }
      ]
    },
    {
      "cell_type": "code",
      "metadata": {
        "id": "1gpFPRulYpdD",
        "colab_type": "code",
        "outputId": "05a7daf5-633c-4bc3-d5ab-397d8d67240a",
        "colab": {
          "base_uri": "https://localhost:8080/",
          "height": 221
        }
      },
      "source": [
        "df.Tipo"
      ],
      "execution_count": 91,
      "outputs": [
        {
          "output_type": "execute_result",
          "data": {
            "text/plain": [
              "0                      Quitinete\n",
              "1                           Casa\n",
              "2        Conjunto Comercial/Sala\n",
              "3                    Apartamento\n",
              "4                    Apartamento\n",
              "                  ...           \n",
              "32955                  Quitinete\n",
              "32956                Apartamento\n",
              "32957                Apartamento\n",
              "32958                Apartamento\n",
              "32959    Conjunto Comercial/Sala\n",
              "Name: Tipo, Length: 32960, dtype: object"
            ]
          },
          "metadata": {
            "tags": []
          },
          "execution_count": 91
        }
      ]
    },
    {
      "cell_type": "code",
      "metadata": {
        "id": "Zhp0wI24YrOU",
        "colab_type": "code",
        "outputId": "50e34186-7c7b-49e4-d851-0d8a5deb8fe0",
        "colab": {
          "base_uri": "https://localhost:8080/",
          "height": 34
        }
      },
      "source": [
        "tipo_de_imovel = df['Tipo']\n",
        "type(tipo_de_imovel)"
      ],
      "execution_count": 92,
      "outputs": [
        {
          "output_type": "execute_result",
          "data": {
            "text/plain": [
              "pandas.core.series.Series"
            ]
          },
          "metadata": {
            "tags": []
          },
          "execution_count": 92
        }
      ]
    },
    {
      "cell_type": "code",
      "metadata": {
        "id": "gy4MjLrEY0il",
        "colab_type": "code",
        "outputId": "dfff673f-8024-4721-8732-09c058d7544b",
        "colab": {
          "base_uri": "https://localhost:8080/",
          "height": 442
        }
      },
      "source": [
        "tipo_de_imovel.drop_duplicates(inplace = True)\n",
        "print(tipo_de_imovel)\n",
        "print('\\n',type(tipo_de_imovel))"
      ],
      "execution_count": 93,
      "outputs": [
        {
          "output_type": "stream",
          "text": [
            "0                          Quitinete\n",
            "1                               Casa\n",
            "2            Conjunto Comercial/Sala\n",
            "3                        Apartamento\n",
            "7                 Casa de Condomínio\n",
            "16                    Prédio Inteiro\n",
            "17                              Flat\n",
            "29                        Loja/Salão\n",
            "80           Galpão/Depósito/Armazém\n",
            "83                    Casa Comercial\n",
            "117                     Casa de Vila\n",
            "159                   Terreno Padrão\n",
            "207                      Box/Garagem\n",
            "347                             Loft\n",
            "589      Loja Shopping/ Ct Comercial\n",
            "2157                         Chácara\n",
            "3354           Loteamento/Condomínio\n",
            "4379                           Sítio\n",
            "4721                   Pousada/Chalé\n",
            "6983                          Studio\n",
            "9687                           Hotel\n",
            "23614                      Indústria\n",
            "Name: Tipo, dtype: object\n",
            "\n",
            " <class 'pandas.core.series.Series'>\n"
          ],
          "name": "stdout"
        }
      ]
    },
    {
      "cell_type": "code",
      "metadata": {
        "id": "qy2-ybl5ZOhD",
        "colab_type": "code",
        "outputId": "b6e60f64-22ef-43f4-e05f-4447cff687b1",
        "colab": {
          "base_uri": "https://localhost:8080/",
          "height": 442
        }
      },
      "source": [
        "df_tipo_de_imovel = pd.DataFrame(tipo_de_imovel)\n",
        "print(df_tipo_de_imovel)\n",
        "print('\\n',type(df_tipo_de_imovel))"
      ],
      "execution_count": 94,
      "outputs": [
        {
          "output_type": "stream",
          "text": [
            "                              Tipo\n",
            "0                        Quitinete\n",
            "1                             Casa\n",
            "2          Conjunto Comercial/Sala\n",
            "3                      Apartamento\n",
            "7               Casa de Condomínio\n",
            "16                  Prédio Inteiro\n",
            "17                            Flat\n",
            "29                      Loja/Salão\n",
            "80         Galpão/Depósito/Armazém\n",
            "83                  Casa Comercial\n",
            "117                   Casa de Vila\n",
            "159                 Terreno Padrão\n",
            "207                    Box/Garagem\n",
            "347                           Loft\n",
            "589    Loja Shopping/ Ct Comercial\n",
            "2157                       Chácara\n",
            "3354         Loteamento/Condomínio\n",
            "4379                         Sítio\n",
            "4721                 Pousada/Chalé\n",
            "6983                        Studio\n",
            "9687                         Hotel\n",
            "23614                    Indústria\n",
            "\n",
            " <class 'pandas.core.frame.DataFrame'>\n"
          ],
          "name": "stdout"
        }
      ]
    },
    {
      "cell_type": "code",
      "metadata": {
        "id": "kttwk-4uZwUe",
        "colab_type": "code",
        "outputId": "373044d5-5c15-4499-9c89-ddcd84d997eb",
        "colab": {
          "base_uri": "https://localhost:8080/",
          "height": 34
        }
      },
      "source": [
        "df_tipo_de_imovel.shape[0]"
      ],
      "execution_count": 95,
      "outputs": [
        {
          "output_type": "execute_result",
          "data": {
            "text/plain": [
              "22"
            ]
          },
          "metadata": {
            "tags": []
          },
          "execution_count": 95
        }
      ]
    },
    {
      "cell_type": "code",
      "metadata": {
        "id": "jn0L5a0NaHLy",
        "colab_type": "code",
        "outputId": "cbdc084d-876d-4e53-9123-d31575ab116b",
        "colab": {
          "base_uri": "https://localhost:8080/",
          "height": 731
        }
      },
      "source": [
        "df_tipo_de_imovel.index = range(df_tipo_de_imovel.shape[0])\n",
        "df_tipo_de_imovel"
      ],
      "execution_count": 96,
      "outputs": [
        {
          "output_type": "execute_result",
          "data": {
            "text/html": [
              "<div>\n",
              "<style scoped>\n",
              "    .dataframe tbody tr th:only-of-type {\n",
              "        vertical-align: middle;\n",
              "    }\n",
              "\n",
              "    .dataframe tbody tr th {\n",
              "        vertical-align: top;\n",
              "    }\n",
              "\n",
              "    .dataframe thead th {\n",
              "        text-align: right;\n",
              "    }\n",
              "</style>\n",
              "<table border=\"1\" class=\"dataframe\">\n",
              "  <thead>\n",
              "    <tr style=\"text-align: right;\">\n",
              "      <th></th>\n",
              "      <th>Tipo</th>\n",
              "    </tr>\n",
              "  </thead>\n",
              "  <tbody>\n",
              "    <tr>\n",
              "      <th>0</th>\n",
              "      <td>Quitinete</td>\n",
              "    </tr>\n",
              "    <tr>\n",
              "      <th>1</th>\n",
              "      <td>Casa</td>\n",
              "    </tr>\n",
              "    <tr>\n",
              "      <th>2</th>\n",
              "      <td>Conjunto Comercial/Sala</td>\n",
              "    </tr>\n",
              "    <tr>\n",
              "      <th>3</th>\n",
              "      <td>Apartamento</td>\n",
              "    </tr>\n",
              "    <tr>\n",
              "      <th>4</th>\n",
              "      <td>Casa de Condomínio</td>\n",
              "    </tr>\n",
              "    <tr>\n",
              "      <th>5</th>\n",
              "      <td>Prédio Inteiro</td>\n",
              "    </tr>\n",
              "    <tr>\n",
              "      <th>6</th>\n",
              "      <td>Flat</td>\n",
              "    </tr>\n",
              "    <tr>\n",
              "      <th>7</th>\n",
              "      <td>Loja/Salão</td>\n",
              "    </tr>\n",
              "    <tr>\n",
              "      <th>8</th>\n",
              "      <td>Galpão/Depósito/Armazém</td>\n",
              "    </tr>\n",
              "    <tr>\n",
              "      <th>9</th>\n",
              "      <td>Casa Comercial</td>\n",
              "    </tr>\n",
              "    <tr>\n",
              "      <th>10</th>\n",
              "      <td>Casa de Vila</td>\n",
              "    </tr>\n",
              "    <tr>\n",
              "      <th>11</th>\n",
              "      <td>Terreno Padrão</td>\n",
              "    </tr>\n",
              "    <tr>\n",
              "      <th>12</th>\n",
              "      <td>Box/Garagem</td>\n",
              "    </tr>\n",
              "    <tr>\n",
              "      <th>13</th>\n",
              "      <td>Loft</td>\n",
              "    </tr>\n",
              "    <tr>\n",
              "      <th>14</th>\n",
              "      <td>Loja Shopping/ Ct Comercial</td>\n",
              "    </tr>\n",
              "    <tr>\n",
              "      <th>15</th>\n",
              "      <td>Chácara</td>\n",
              "    </tr>\n",
              "    <tr>\n",
              "      <th>16</th>\n",
              "      <td>Loteamento/Condomínio</td>\n",
              "    </tr>\n",
              "    <tr>\n",
              "      <th>17</th>\n",
              "      <td>Sítio</td>\n",
              "    </tr>\n",
              "    <tr>\n",
              "      <th>18</th>\n",
              "      <td>Pousada/Chalé</td>\n",
              "    </tr>\n",
              "    <tr>\n",
              "      <th>19</th>\n",
              "      <td>Studio</td>\n",
              "    </tr>\n",
              "    <tr>\n",
              "      <th>20</th>\n",
              "      <td>Hotel</td>\n",
              "    </tr>\n",
              "    <tr>\n",
              "      <th>21</th>\n",
              "      <td>Indústria</td>\n",
              "    </tr>\n",
              "  </tbody>\n",
              "</table>\n",
              "</div>"
            ],
            "text/plain": [
              "                           Tipo\n",
              "0                     Quitinete\n",
              "1                          Casa\n",
              "2       Conjunto Comercial/Sala\n",
              "3                   Apartamento\n",
              "4            Casa de Condomínio\n",
              "5                Prédio Inteiro\n",
              "6                          Flat\n",
              "7                    Loja/Salão\n",
              "8       Galpão/Depósito/Armazém\n",
              "9                Casa Comercial\n",
              "10                 Casa de Vila\n",
              "11               Terreno Padrão\n",
              "12                  Box/Garagem\n",
              "13                         Loft\n",
              "14  Loja Shopping/ Ct Comercial\n",
              "15                      Chácara\n",
              "16        Loteamento/Condomínio\n",
              "17                        Sítio\n",
              "18                Pousada/Chalé\n",
              "19                       Studio\n",
              "20                        Hotel\n",
              "21                    Indústria"
            ]
          },
          "metadata": {
            "tags": []
          },
          "execution_count": 96
        }
      ]
    },
    {
      "cell_type": "markdown",
      "metadata": {
        "id": "qe1AQmZ7bLJ2",
        "colab_type": "text"
      },
      "source": [
        "#Filtrando Dados - Aula 04"
      ]
    },
    {
      "cell_type": "code",
      "metadata": {
        "id": "wVDjcYlfaUdA",
        "colab_type": "code",
        "outputId": "b3bf3426-a3a3-4ddc-857f-aa6d0804765a",
        "colab": {
          "base_uri": "https://localhost:8080/",
          "height": 0
        }
      },
      "source": [
        "df = pd.read_csv(arquivo, sep = ';')\n",
        "list(df['Tipo'].drop_duplicates())"
      ],
      "execution_count": 97,
      "outputs": [
        {
          "output_type": "execute_result",
          "data": {
            "text/plain": [
              "['Quitinete',\n",
              " 'Casa',\n",
              " 'Conjunto Comercial/Sala',\n",
              " 'Apartamento',\n",
              " 'Casa de Condomínio',\n",
              " 'Prédio Inteiro',\n",
              " 'Flat',\n",
              " 'Loja/Salão',\n",
              " 'Galpão/Depósito/Armazém',\n",
              " 'Casa Comercial',\n",
              " 'Casa de Vila',\n",
              " 'Terreno Padrão',\n",
              " 'Box/Garagem',\n",
              " 'Loft',\n",
              " 'Loja Shopping/ Ct Comercial',\n",
              " 'Chácara',\n",
              " 'Loteamento/Condomínio',\n",
              " 'Sítio',\n",
              " 'Pousada/Chalé',\n",
              " 'Studio',\n",
              " 'Hotel',\n",
              " 'Indústria']"
            ]
          },
          "metadata": {
            "tags": []
          },
          "execution_count": 97
        }
      ]
    },
    {
      "cell_type": "code",
      "metadata": {
        "id": "8JcuprtZ7zl8",
        "colab_type": "code",
        "outputId": "9fbe6596-3376-4b64-f3a6-a7e6bcc1b2c8",
        "colab": {
          "base_uri": "https://localhost:8080/",
          "height": 0
        }
      },
      "source": [
        "residencial = ['Quitinete', 'Casa', 'Apartamento', 'Casa do Condomínio', 'Casa de Vila']\n",
        "selecao = df['Tipo'].isin(residencial)\n",
        "selecao"
      ],
      "execution_count": 98,
      "outputs": [
        {
          "output_type": "execute_result",
          "data": {
            "text/plain": [
              "0         True\n",
              "1         True\n",
              "2        False\n",
              "3         True\n",
              "4         True\n",
              "         ...  \n",
              "32955     True\n",
              "32956     True\n",
              "32957     True\n",
              "32958     True\n",
              "32959    False\n",
              "Name: Tipo, Length: 32960, dtype: bool"
            ]
          },
          "metadata": {
            "tags": []
          },
          "execution_count": 98
        }
      ]
    },
    {
      "cell_type": "code",
      "metadata": {
        "id": "r9RRECJB8OXX",
        "colab_type": "code",
        "outputId": "a73b9d7a-d8e7-4221-8638-ae96bcd02d24",
        "colab": {
          "base_uri": "https://localhost:8080/",
          "height": 0
        }
      },
      "source": [
        "df_residencial = df[selecao]\n",
        "df_residencial.head()"
      ],
      "execution_count": 99,
      "outputs": [
        {
          "output_type": "execute_result",
          "data": {
            "text/html": [
              "<div>\n",
              "<style scoped>\n",
              "    .dataframe tbody tr th:only-of-type {\n",
              "        vertical-align: middle;\n",
              "    }\n",
              "\n",
              "    .dataframe tbody tr th {\n",
              "        vertical-align: top;\n",
              "    }\n",
              "\n",
              "    .dataframe thead th {\n",
              "        text-align: right;\n",
              "    }\n",
              "</style>\n",
              "<table border=\"1\" class=\"dataframe\">\n",
              "  <thead>\n",
              "    <tr style=\"text-align: right;\">\n",
              "      <th></th>\n",
              "      <th>Tipo</th>\n",
              "      <th>Bairro</th>\n",
              "      <th>Quartos</th>\n",
              "      <th>Vagas</th>\n",
              "      <th>Suites</th>\n",
              "      <th>Area</th>\n",
              "      <th>Valor</th>\n",
              "      <th>Condominio</th>\n",
              "      <th>IPTU</th>\n",
              "    </tr>\n",
              "  </thead>\n",
              "  <tbody>\n",
              "    <tr>\n",
              "      <th>0</th>\n",
              "      <td>Quitinete</td>\n",
              "      <td>Copacabana</td>\n",
              "      <td>1</td>\n",
              "      <td>0</td>\n",
              "      <td>0</td>\n",
              "      <td>40</td>\n",
              "      <td>1700.0</td>\n",
              "      <td>500.0</td>\n",
              "      <td>60.0</td>\n",
              "    </tr>\n",
              "    <tr>\n",
              "      <th>1</th>\n",
              "      <td>Casa</td>\n",
              "      <td>Jardim Botânico</td>\n",
              "      <td>2</td>\n",
              "      <td>0</td>\n",
              "      <td>1</td>\n",
              "      <td>100</td>\n",
              "      <td>7000.0</td>\n",
              "      <td>NaN</td>\n",
              "      <td>NaN</td>\n",
              "    </tr>\n",
              "    <tr>\n",
              "      <th>3</th>\n",
              "      <td>Apartamento</td>\n",
              "      <td>Centro</td>\n",
              "      <td>1</td>\n",
              "      <td>0</td>\n",
              "      <td>0</td>\n",
              "      <td>15</td>\n",
              "      <td>800.0</td>\n",
              "      <td>390.0</td>\n",
              "      <td>20.0</td>\n",
              "    </tr>\n",
              "    <tr>\n",
              "      <th>4</th>\n",
              "      <td>Apartamento</td>\n",
              "      <td>Higienópolis</td>\n",
              "      <td>1</td>\n",
              "      <td>0</td>\n",
              "      <td>0</td>\n",
              "      <td>48</td>\n",
              "      <td>800.0</td>\n",
              "      <td>230.0</td>\n",
              "      <td>NaN</td>\n",
              "    </tr>\n",
              "    <tr>\n",
              "      <th>5</th>\n",
              "      <td>Apartamento</td>\n",
              "      <td>Vista Alegre</td>\n",
              "      <td>3</td>\n",
              "      <td>1</td>\n",
              "      <td>0</td>\n",
              "      <td>70</td>\n",
              "      <td>1200.0</td>\n",
              "      <td>NaN</td>\n",
              "      <td>NaN</td>\n",
              "    </tr>\n",
              "  </tbody>\n",
              "</table>\n",
              "</div>"
            ],
            "text/plain": [
              "          Tipo           Bairro  Quartos  Vagas  ...  Area   Valor  Condominio  IPTU\n",
              "0    Quitinete       Copacabana        1      0  ...    40  1700.0       500.0  60.0\n",
              "1         Casa  Jardim Botânico        2      0  ...   100  7000.0         NaN   NaN\n",
              "3  Apartamento           Centro        1      0  ...    15   800.0       390.0  20.0\n",
              "4  Apartamento     Higienópolis        1      0  ...    48   800.0       230.0   NaN\n",
              "5  Apartamento     Vista Alegre        3      1  ...    70  1200.0         NaN   NaN\n",
              "\n",
              "[5 rows x 9 columns]"
            ]
          },
          "metadata": {
            "tags": []
          },
          "execution_count": 99
        }
      ]
    },
    {
      "cell_type": "code",
      "metadata": {
        "id": "321X7yup9OBx",
        "colab_type": "code",
        "outputId": "ae0dc094-6fd6-440d-b96b-79ac1a898bd1",
        "colab": {
          "base_uri": "https://localhost:8080/",
          "height": 0
        }
      },
      "source": [
        "list(df_residencial['Tipo'].drop_duplicates())"
      ],
      "execution_count": 100,
      "outputs": [
        {
          "output_type": "execute_result",
          "data": {
            "text/plain": [
              "['Quitinete', 'Casa', 'Apartamento', 'Casa de Vila']"
            ]
          },
          "metadata": {
            "tags": []
          },
          "execution_count": 100
        }
      ]
    },
    {
      "cell_type": "code",
      "metadata": {
        "id": "zWB5QuyL_sO4",
        "colab_type": "code",
        "outputId": "9c53e7d0-e816-4b4f-87a8-bca822f5afee",
        "colab": {
          "base_uri": "https://localhost:8080/",
          "height": 0
        }
      },
      "source": [
        "print(df_residencial.shape[0])\n",
        "print(df.shape[0])\n"
      ],
      "execution_count": 101,
      "outputs": [
        {
          "output_type": "stream",
          "text": [
            "21584\n",
            "32960\n"
          ],
          "name": "stdout"
        }
      ]
    },
    {
      "cell_type": "markdown",
      "metadata": {
        "id": "zMfP2GFzBJMv",
        "colab_type": "text"
      },
      "source": [
        "#Frequência de Imóveis - Aula 05"
      ]
    },
    {
      "cell_type": "code",
      "metadata": {
        "id": "rsbXuAduEtXA",
        "colab_type": "code",
        "outputId": "5f4fc02a-1491-4112-a5c2-dff44b6b8d8d",
        "colab": {
          "base_uri": "https://localhost:8080/",
          "height": 0
        }
      },
      "source": [
        "selecao = df['Tipo'] == 'Apartamento'\n",
        "n1 = df[selecao].shape[0]\n",
        "print(\"Nº de imóveis classificados com tipo 'Apartamento' -> {}\".format(n1))"
      ],
      "execution_count": 102,
      "outputs": [
        {
          "output_type": "stream",
          "text": [
            "Nº de imóveis classificados com tipo 'Apartamento' -> 19532\n"
          ],
          "name": "stdout"
        }
      ]
    },
    {
      "cell_type": "code",
      "metadata": {
        "id": "EOANbvxknZ7z",
        "colab_type": "code",
        "outputId": "be784835-ff39-4da1-e9c0-68558ea56bbf",
        "colab": {
          "base_uri": "https://localhost:8080/",
          "height": 0
        }
      },
      "source": [
        "selecao = (df['Tipo'] == 'Casa') | (df['Tipo'] == 'Casa de Condomínio') | (df['Tipo'] == 'Casa de Vila')\n",
        "n2 = df[selecao].shape[0]\n",
        "print(\"Nº de imóveis classificados com tipos 'Casa', 'Casa de Condomínio' e 'Casa de Vila' -> {}\".format(n2))"
      ],
      "execution_count": 103,
      "outputs": [
        {
          "output_type": "stream",
          "text": [
            "Nº de imóveis classificados com tipos 'Casa', 'Casa de Condomínio' e 'Casa de Vila' -> 2212\n"
          ],
          "name": "stdout"
        }
      ]
    },
    {
      "cell_type": "code",
      "metadata": {
        "id": "Icd79nChnxpg",
        "colab_type": "code",
        "outputId": "c441dddc-645e-45b8-d4c5-b1f9ffda282d",
        "colab": {
          "base_uri": "https://localhost:8080/",
          "height": 0
        }
      },
      "source": [
        "selecao = (df['Area'] >= 60) & (df['Area'] <= 100)\n",
        "n3 = df[selecao].shape[0]\n",
        "print(\"Nº de imóveis com área entre 60 e 100 metros quadrados, incluindo os limites -> {}\".format(n3))"
      ],
      "execution_count": 104,
      "outputs": [
        {
          "output_type": "stream",
          "text": [
            "Nº de imóveis com área entre 60 e 100 metros quadrados, incluindo os limites -> 10187\n"
          ],
          "name": "stdout"
        }
      ]
    },
    {
      "cell_type": "code",
      "metadata": {
        "id": "RwqowKhUoTlj",
        "colab_type": "code",
        "outputId": "b9ecbbd2-fb36-4d01-bf13-02b447d78f03",
        "colab": {
          "base_uri": "https://localhost:8080/",
          "height": 0
        }
      },
      "source": [
        "selecao = (df['Quartos'] >= 4) & (df['Valor'] < 2000)\n",
        "n4 = df[selecao].shape[0]\n",
        "print(\"Nº de imóveis que tenham pelo menos 4 quartos e aluguel menor que R$ 2.000,00 -> {}\".format(n4))"
      ],
      "execution_count": 105,
      "outputs": [
        {
          "output_type": "stream",
          "text": [
            "Nº de imóveis que tenham pelo menos 4 quartos e aluguel menor que R$ 2.000,00 -> 43\n"
          ],
          "name": "stdout"
        }
      ]
    },
    {
      "cell_type": "markdown",
      "metadata": {
        "id": "RtllinyKo7CH",
        "colab_type": "text"
      },
      "source": [
        "#Tratando de Dados Faltantes - Aula 06"
      ]
    },
    {
      "cell_type": "code",
      "metadata": {
        "id": "oELh_j4io-bw",
        "colab_type": "code",
        "outputId": "616ebac6-f44f-4993-afa5-bc4550cb38f0",
        "colab": {
          "base_uri": "https://localhost:8080/",
          "height": 0
        }
      },
      "source": [
        "(df.isnull().sum()/df.shape[0]*100).round(2).sort_values(ascending = False)"
      ],
      "execution_count": 106,
      "outputs": [
        {
          "output_type": "execute_result",
          "data": {
            "text/plain": [
              "IPTU          31.06\n",
              "Condominio    12.42\n",
              "Valor          0.05\n",
              "Area           0.00\n",
              "Suites         0.00\n",
              "Vagas          0.00\n",
              "Quartos        0.00\n",
              "Bairro         0.00\n",
              "Tipo           0.00\n",
              "dtype: float64"
            ]
          },
          "metadata": {
            "tags": []
          },
          "execution_count": 106
        }
      ]
    },
    {
      "cell_type": "code",
      "metadata": {
        "id": "nCmIl5D9pdKY",
        "colab_type": "code",
        "outputId": "54abfa85-dc91-45fb-e3d4-d11c803160cd",
        "colab": {
          "base_uri": "https://localhost:8080/",
          "height": 0
        }
      },
      "source": [
        "df.info()"
      ],
      "execution_count": 107,
      "outputs": [
        {
          "output_type": "stream",
          "text": [
            "<class 'pandas.core.frame.DataFrame'>\n",
            "RangeIndex: 32960 entries, 0 to 32959\n",
            "Data columns (total 9 columns):\n",
            "Tipo          32960 non-null object\n",
            "Bairro        32960 non-null object\n",
            "Quartos       32960 non-null int64\n",
            "Vagas         32960 non-null int64\n",
            "Suites        32960 non-null int64\n",
            "Area          32960 non-null int64\n",
            "Valor         32943 non-null float64\n",
            "Condominio    28867 non-null float64\n",
            "IPTU          22723 non-null float64\n",
            "dtypes: float64(3), int64(4), object(2)\n",
            "memory usage: 2.3+ MB\n"
          ],
          "name": "stdout"
        }
      ]
    },
    {
      "cell_type": "code",
      "metadata": {
        "id": "I_SBKZMqpfRT",
        "colab_type": "code",
        "outputId": "564f0cd7-2fd3-479a-f0b6-fe0fefba0565",
        "colab": {
          "base_uri": "https://localhost:8080/",
          "height": 0
        }
      },
      "source": [
        "df_corrigido = df.dropna(subset= ['Valor'])\n",
        "print('{:.2f}%'.format(df_corrigido.shape[0]/df.shape[0]*100))"
      ],
      "execution_count": 108,
      "outputs": [
        {
          "output_type": "stream",
          "text": [
            "99.95%\n"
          ],
          "name": "stdout"
        }
      ]
    },
    {
      "cell_type": "code",
      "metadata": {
        "id": "FgNe3aO9qrbD",
        "colab_type": "code",
        "outputId": "eba82984-2f4d-4d16-deea-1df0fd412d06",
        "colab": {
          "base_uri": "https://localhost:8080/",
          "height": 0
        }
      },
      "source": [
        "df['Condominio'].isnull().sum()\n",
        "df['IPTU'].isnull().sum()"
      ],
      "execution_count": 109,
      "outputs": [
        {
          "output_type": "execute_result",
          "data": {
            "text/plain": [
              "10237"
            ]
          },
          "metadata": {
            "tags": []
          },
          "execution_count": 109
        }
      ]
    },
    {
      "cell_type": "code",
      "metadata": {
        "id": "f1SkIiKEqJKO",
        "colab_type": "code",
        "colab": {}
      },
      "source": [
        "#df_corrigido = df.dropna(subset= ['w'])\n",
        "#print('{:.2f}%'.format(df_corrigido.shape[0]/df.shape[0]*100))"
      ],
      "execution_count": 0,
      "outputs": []
    },
    {
      "cell_type": "code",
      "metadata": {
        "id": "Gcc-ThSsrRQf",
        "colab_type": "code",
        "outputId": "47ffd1fe-cad9-4e42-de95-79236219dc44",
        "colab": {
          "base_uri": "https://localhost:8080/",
          "height": 0
        }
      },
      "source": [
        "df_corrigido = df_corrigido.fillna({'Condominio': 0, 'IPTU': 0})\n",
        "df_corrigido.info()"
      ],
      "execution_count": 111,
      "outputs": [
        {
          "output_type": "stream",
          "text": [
            "<class 'pandas.core.frame.DataFrame'>\n",
            "Int64Index: 32943 entries, 0 to 32959\n",
            "Data columns (total 9 columns):\n",
            "Tipo          32943 non-null object\n",
            "Bairro        32943 non-null object\n",
            "Quartos       32943 non-null int64\n",
            "Vagas         32943 non-null int64\n",
            "Suites        32943 non-null int64\n",
            "Area          32943 non-null int64\n",
            "Valor         32943 non-null float64\n",
            "Condominio    32943 non-null float64\n",
            "IPTU          32943 non-null float64\n",
            "dtypes: float64(3), int64(4), object(2)\n",
            "memory usage: 2.5+ MB\n"
          ],
          "name": "stdout"
        }
      ]
    },
    {
      "cell_type": "markdown",
      "metadata": {
        "id": "TYN3bsNzrgTe",
        "colab_type": "text"
      },
      "source": [
        "#Novas Variáveis - Aula 07"
      ]
    },
    {
      "cell_type": "code",
      "metadata": {
        "id": "I6_nxmXWrwA4",
        "colab_type": "code",
        "outputId": "d69428d9-6b24-409e-b835-7e8181d92c02",
        "colab": {
          "base_uri": "https://localhost:8080/",
          "height": 255
        }
      },
      "source": [
        "df_corrigido['Valor Bruto'] = df_corrigido['Valor'] + df_corrigido['Condominio'] + df_corrigido['IPTU']\n",
        "df_corrigido['Valor m2'] = (df_corrigido['Valor'] / df_corrigido['Area']).round(2)\n",
        "df_corrigido['Valor Bruto m2'] = (df_corrigido['Valor Bruto'] / df_corrigido['Area']).round(2)\n",
        "df_corrigido.head()"
      ],
      "execution_count": 112,
      "outputs": [
        {
          "output_type": "execute_result",
          "data": {
            "text/html": [
              "<div>\n",
              "<style scoped>\n",
              "    .dataframe tbody tr th:only-of-type {\n",
              "        vertical-align: middle;\n",
              "    }\n",
              "\n",
              "    .dataframe tbody tr th {\n",
              "        vertical-align: top;\n",
              "    }\n",
              "\n",
              "    .dataframe thead th {\n",
              "        text-align: right;\n",
              "    }\n",
              "</style>\n",
              "<table border=\"1\" class=\"dataframe\">\n",
              "  <thead>\n",
              "    <tr style=\"text-align: right;\">\n",
              "      <th></th>\n",
              "      <th>Tipo</th>\n",
              "      <th>Bairro</th>\n",
              "      <th>Quartos</th>\n",
              "      <th>Vagas</th>\n",
              "      <th>Suites</th>\n",
              "      <th>Area</th>\n",
              "      <th>Valor</th>\n",
              "      <th>Condominio</th>\n",
              "      <th>IPTU</th>\n",
              "      <th>Valor Bruto</th>\n",
              "      <th>Valor m2</th>\n",
              "      <th>Valor Bruto m2</th>\n",
              "    </tr>\n",
              "  </thead>\n",
              "  <tbody>\n",
              "    <tr>\n",
              "      <th>0</th>\n",
              "      <td>Quitinete</td>\n",
              "      <td>Copacabana</td>\n",
              "      <td>1</td>\n",
              "      <td>0</td>\n",
              "      <td>0</td>\n",
              "      <td>40</td>\n",
              "      <td>1700.0</td>\n",
              "      <td>500.0</td>\n",
              "      <td>60.0</td>\n",
              "      <td>2260.0</td>\n",
              "      <td>42.50</td>\n",
              "      <td>56.50</td>\n",
              "    </tr>\n",
              "    <tr>\n",
              "      <th>1</th>\n",
              "      <td>Casa</td>\n",
              "      <td>Jardim Botânico</td>\n",
              "      <td>2</td>\n",
              "      <td>0</td>\n",
              "      <td>1</td>\n",
              "      <td>100</td>\n",
              "      <td>7000.0</td>\n",
              "      <td>0.0</td>\n",
              "      <td>0.0</td>\n",
              "      <td>7000.0</td>\n",
              "      <td>70.00</td>\n",
              "      <td>70.00</td>\n",
              "    </tr>\n",
              "    <tr>\n",
              "      <th>2</th>\n",
              "      <td>Conjunto Comercial/Sala</td>\n",
              "      <td>Barra da Tijuca</td>\n",
              "      <td>0</td>\n",
              "      <td>4</td>\n",
              "      <td>0</td>\n",
              "      <td>150</td>\n",
              "      <td>5200.0</td>\n",
              "      <td>4020.0</td>\n",
              "      <td>1111.0</td>\n",
              "      <td>10331.0</td>\n",
              "      <td>34.67</td>\n",
              "      <td>68.87</td>\n",
              "    </tr>\n",
              "    <tr>\n",
              "      <th>3</th>\n",
              "      <td>Apartamento</td>\n",
              "      <td>Centro</td>\n",
              "      <td>1</td>\n",
              "      <td>0</td>\n",
              "      <td>0</td>\n",
              "      <td>15</td>\n",
              "      <td>800.0</td>\n",
              "      <td>390.0</td>\n",
              "      <td>20.0</td>\n",
              "      <td>1210.0</td>\n",
              "      <td>53.33</td>\n",
              "      <td>80.67</td>\n",
              "    </tr>\n",
              "    <tr>\n",
              "      <th>4</th>\n",
              "      <td>Apartamento</td>\n",
              "      <td>Higienópolis</td>\n",
              "      <td>1</td>\n",
              "      <td>0</td>\n",
              "      <td>0</td>\n",
              "      <td>48</td>\n",
              "      <td>800.0</td>\n",
              "      <td>230.0</td>\n",
              "      <td>0.0</td>\n",
              "      <td>1030.0</td>\n",
              "      <td>16.67</td>\n",
              "      <td>21.46</td>\n",
              "    </tr>\n",
              "  </tbody>\n",
              "</table>\n",
              "</div>"
            ],
            "text/plain": [
              "                      Tipo           Bairro  ...  Valor m2  Valor Bruto m2\n",
              "0                Quitinete       Copacabana  ...     42.50           56.50\n",
              "1                     Casa  Jardim Botânico  ...     70.00           70.00\n",
              "2  Conjunto Comercial/Sala  Barra da Tijuca  ...     34.67           68.87\n",
              "3              Apartamento           Centro  ...     53.33           80.67\n",
              "4              Apartamento     Higienópolis  ...     16.67           21.46\n",
              "\n",
              "[5 rows x 12 columns]"
            ]
          },
          "metadata": {
            "tags": []
          },
          "execution_count": 112
        }
      ]
    },
    {
      "cell_type": "code",
      "metadata": {
        "id": "xSy2x6K5sxkL",
        "colab_type": "code",
        "outputId": "d865971c-5054-4a74-ba0a-3db63925c3d2",
        "colab": {
          "base_uri": "https://localhost:8080/",
          "height": 272
        }
      },
      "source": [
        "casa = ['Casa', 'Casa de Condomínio', 'Casa de Vila']\n",
        "df_corrigido['Tipo Agregado'] = df_corrigido['Tipo'].apply(lambda x: 'Casa' if x in casa else 'Apartamento')\n",
        "df_corrigido.head()"
      ],
      "execution_count": 113,
      "outputs": [
        {
          "output_type": "execute_result",
          "data": {
            "text/html": [
              "<div>\n",
              "<style scoped>\n",
              "    .dataframe tbody tr th:only-of-type {\n",
              "        vertical-align: middle;\n",
              "    }\n",
              "\n",
              "    .dataframe tbody tr th {\n",
              "        vertical-align: top;\n",
              "    }\n",
              "\n",
              "    .dataframe thead th {\n",
              "        text-align: right;\n",
              "    }\n",
              "</style>\n",
              "<table border=\"1\" class=\"dataframe\">\n",
              "  <thead>\n",
              "    <tr style=\"text-align: right;\">\n",
              "      <th></th>\n",
              "      <th>Tipo</th>\n",
              "      <th>Bairro</th>\n",
              "      <th>Quartos</th>\n",
              "      <th>Vagas</th>\n",
              "      <th>Suites</th>\n",
              "      <th>Area</th>\n",
              "      <th>Valor</th>\n",
              "      <th>Condominio</th>\n",
              "      <th>IPTU</th>\n",
              "      <th>Valor Bruto</th>\n",
              "      <th>Valor m2</th>\n",
              "      <th>Valor Bruto m2</th>\n",
              "      <th>Tipo Agregado</th>\n",
              "    </tr>\n",
              "  </thead>\n",
              "  <tbody>\n",
              "    <tr>\n",
              "      <th>0</th>\n",
              "      <td>Quitinete</td>\n",
              "      <td>Copacabana</td>\n",
              "      <td>1</td>\n",
              "      <td>0</td>\n",
              "      <td>0</td>\n",
              "      <td>40</td>\n",
              "      <td>1700.0</td>\n",
              "      <td>500.0</td>\n",
              "      <td>60.0</td>\n",
              "      <td>2260.0</td>\n",
              "      <td>42.50</td>\n",
              "      <td>56.50</td>\n",
              "      <td>Apartamento</td>\n",
              "    </tr>\n",
              "    <tr>\n",
              "      <th>1</th>\n",
              "      <td>Casa</td>\n",
              "      <td>Jardim Botânico</td>\n",
              "      <td>2</td>\n",
              "      <td>0</td>\n",
              "      <td>1</td>\n",
              "      <td>100</td>\n",
              "      <td>7000.0</td>\n",
              "      <td>0.0</td>\n",
              "      <td>0.0</td>\n",
              "      <td>7000.0</td>\n",
              "      <td>70.00</td>\n",
              "      <td>70.00</td>\n",
              "      <td>Casa</td>\n",
              "    </tr>\n",
              "    <tr>\n",
              "      <th>2</th>\n",
              "      <td>Conjunto Comercial/Sala</td>\n",
              "      <td>Barra da Tijuca</td>\n",
              "      <td>0</td>\n",
              "      <td>4</td>\n",
              "      <td>0</td>\n",
              "      <td>150</td>\n",
              "      <td>5200.0</td>\n",
              "      <td>4020.0</td>\n",
              "      <td>1111.0</td>\n",
              "      <td>10331.0</td>\n",
              "      <td>34.67</td>\n",
              "      <td>68.87</td>\n",
              "      <td>Apartamento</td>\n",
              "    </tr>\n",
              "    <tr>\n",
              "      <th>3</th>\n",
              "      <td>Apartamento</td>\n",
              "      <td>Centro</td>\n",
              "      <td>1</td>\n",
              "      <td>0</td>\n",
              "      <td>0</td>\n",
              "      <td>15</td>\n",
              "      <td>800.0</td>\n",
              "      <td>390.0</td>\n",
              "      <td>20.0</td>\n",
              "      <td>1210.0</td>\n",
              "      <td>53.33</td>\n",
              "      <td>80.67</td>\n",
              "      <td>Apartamento</td>\n",
              "    </tr>\n",
              "    <tr>\n",
              "      <th>4</th>\n",
              "      <td>Apartamento</td>\n",
              "      <td>Higienópolis</td>\n",
              "      <td>1</td>\n",
              "      <td>0</td>\n",
              "      <td>0</td>\n",
              "      <td>48</td>\n",
              "      <td>800.0</td>\n",
              "      <td>230.0</td>\n",
              "      <td>0.0</td>\n",
              "      <td>1030.0</td>\n",
              "      <td>16.67</td>\n",
              "      <td>21.46</td>\n",
              "      <td>Apartamento</td>\n",
              "    </tr>\n",
              "  </tbody>\n",
              "</table>\n",
              "</div>"
            ],
            "text/plain": [
              "                      Tipo           Bairro  ...  Valor Bruto m2  Tipo Agregado\n",
              "0                Quitinete       Copacabana  ...           56.50    Apartamento\n",
              "1                     Casa  Jardim Botânico  ...           70.00           Casa\n",
              "2  Conjunto Comercial/Sala  Barra da Tijuca  ...           68.87    Apartamento\n",
              "3              Apartamento           Centro  ...           80.67    Apartamento\n",
              "4              Apartamento     Higienópolis  ...           21.46    Apartamento\n",
              "\n",
              "[5 rows x 13 columns]"
            ]
          },
          "metadata": {
            "tags": []
          },
          "execution_count": 113
        }
      ]
    },
    {
      "cell_type": "code",
      "metadata": {
        "id": "msS-v2iOtZJF",
        "colab_type": "code",
        "outputId": "ea36be67-8d72-4244-8a4d-d964926ffd8f",
        "colab": {
          "base_uri": "https://localhost:8080/",
          "height": 204
        }
      },
      "source": [
        "df_aux = pd.DataFrame(df_corrigido[['Tipo Agregado', 'Valor m2', 'Valor Bruto', 'Valor Bruto m2']])\n",
        "df_aux.head()"
      ],
      "execution_count": 114,
      "outputs": [
        {
          "output_type": "execute_result",
          "data": {
            "text/html": [
              "<div>\n",
              "<style scoped>\n",
              "    .dataframe tbody tr th:only-of-type {\n",
              "        vertical-align: middle;\n",
              "    }\n",
              "\n",
              "    .dataframe tbody tr th {\n",
              "        vertical-align: top;\n",
              "    }\n",
              "\n",
              "    .dataframe thead th {\n",
              "        text-align: right;\n",
              "    }\n",
              "</style>\n",
              "<table border=\"1\" class=\"dataframe\">\n",
              "  <thead>\n",
              "    <tr style=\"text-align: right;\">\n",
              "      <th></th>\n",
              "      <th>Tipo Agregado</th>\n",
              "      <th>Valor m2</th>\n",
              "      <th>Valor Bruto</th>\n",
              "      <th>Valor Bruto m2</th>\n",
              "    </tr>\n",
              "  </thead>\n",
              "  <tbody>\n",
              "    <tr>\n",
              "      <th>0</th>\n",
              "      <td>Apartamento</td>\n",
              "      <td>42.50</td>\n",
              "      <td>2260.0</td>\n",
              "      <td>56.50</td>\n",
              "    </tr>\n",
              "    <tr>\n",
              "      <th>1</th>\n",
              "      <td>Casa</td>\n",
              "      <td>70.00</td>\n",
              "      <td>7000.0</td>\n",
              "      <td>70.00</td>\n",
              "    </tr>\n",
              "    <tr>\n",
              "      <th>2</th>\n",
              "      <td>Apartamento</td>\n",
              "      <td>34.67</td>\n",
              "      <td>10331.0</td>\n",
              "      <td>68.87</td>\n",
              "    </tr>\n",
              "    <tr>\n",
              "      <th>3</th>\n",
              "      <td>Apartamento</td>\n",
              "      <td>53.33</td>\n",
              "      <td>1210.0</td>\n",
              "      <td>80.67</td>\n",
              "    </tr>\n",
              "    <tr>\n",
              "      <th>4</th>\n",
              "      <td>Apartamento</td>\n",
              "      <td>16.67</td>\n",
              "      <td>1030.0</td>\n",
              "      <td>21.46</td>\n",
              "    </tr>\n",
              "  </tbody>\n",
              "</table>\n",
              "</div>"
            ],
            "text/plain": [
              "  Tipo Agregado  Valor m2  Valor Bruto  Valor Bruto m2\n",
              "0   Apartamento     42.50       2260.0           56.50\n",
              "1          Casa     70.00       7000.0           70.00\n",
              "2   Apartamento     34.67      10331.0           68.87\n",
              "3   Apartamento     53.33       1210.0           80.67\n",
              "4   Apartamento     16.67       1030.0           21.46"
            ]
          },
          "metadata": {
            "tags": []
          },
          "execution_count": 114
        }
      ]
    },
    {
      "cell_type": "code",
      "metadata": {
        "id": "vuKP_4GTthJd",
        "colab_type": "code",
        "colab": {}
      },
      "source": [
        "del df_aux['Valor Bruto']"
      ],
      "execution_count": 0,
      "outputs": []
    },
    {
      "cell_type": "code",
      "metadata": {
        "id": "oKQpWnjEuYvi",
        "colab_type": "code",
        "colab": {
          "base_uri": "https://localhost:8080/",
          "height": 419
        },
        "outputId": "4a077542-4164-4072-95b6-ce5b30f447a9"
      },
      "source": [
        "df_aux.drop(['Valor Bruto m2'], axis = 1, inplace = True)\n",
        "df_aux"
      ],
      "execution_count": 116,
      "outputs": [
        {
          "output_type": "execute_result",
          "data": {
            "text/html": [
              "<div>\n",
              "<style scoped>\n",
              "    .dataframe tbody tr th:only-of-type {\n",
              "        vertical-align: middle;\n",
              "    }\n",
              "\n",
              "    .dataframe tbody tr th {\n",
              "        vertical-align: top;\n",
              "    }\n",
              "\n",
              "    .dataframe thead th {\n",
              "        text-align: right;\n",
              "    }\n",
              "</style>\n",
              "<table border=\"1\" class=\"dataframe\">\n",
              "  <thead>\n",
              "    <tr style=\"text-align: right;\">\n",
              "      <th></th>\n",
              "      <th>Tipo Agregado</th>\n",
              "      <th>Valor m2</th>\n",
              "    </tr>\n",
              "  </thead>\n",
              "  <tbody>\n",
              "    <tr>\n",
              "      <th>0</th>\n",
              "      <td>Apartamento</td>\n",
              "      <td>42.50</td>\n",
              "    </tr>\n",
              "    <tr>\n",
              "      <th>1</th>\n",
              "      <td>Casa</td>\n",
              "      <td>70.00</td>\n",
              "    </tr>\n",
              "    <tr>\n",
              "      <th>2</th>\n",
              "      <td>Apartamento</td>\n",
              "      <td>34.67</td>\n",
              "    </tr>\n",
              "    <tr>\n",
              "      <th>3</th>\n",
              "      <td>Apartamento</td>\n",
              "      <td>53.33</td>\n",
              "    </tr>\n",
              "    <tr>\n",
              "      <th>4</th>\n",
              "      <td>Apartamento</td>\n",
              "      <td>16.67</td>\n",
              "    </tr>\n",
              "    <tr>\n",
              "      <th>...</th>\n",
              "      <td>...</td>\n",
              "      <td>...</td>\n",
              "    </tr>\n",
              "    <tr>\n",
              "      <th>32955</th>\n",
              "      <td>Apartamento</td>\n",
              "      <td>29.63</td>\n",
              "    </tr>\n",
              "    <tr>\n",
              "      <th>32956</th>\n",
              "      <td>Apartamento</td>\n",
              "      <td>23.08</td>\n",
              "    </tr>\n",
              "    <tr>\n",
              "      <th>32957</th>\n",
              "      <td>Apartamento</td>\n",
              "      <td>29.17</td>\n",
              "    </tr>\n",
              "    <tr>\n",
              "      <th>32958</th>\n",
              "      <td>Apartamento</td>\n",
              "      <td>42.86</td>\n",
              "    </tr>\n",
              "    <tr>\n",
              "      <th>32959</th>\n",
              "      <td>Apartamento</td>\n",
              "      <td>26.00</td>\n",
              "    </tr>\n",
              "  </tbody>\n",
              "</table>\n",
              "<p>32943 rows × 2 columns</p>\n",
              "</div>"
            ],
            "text/plain": [
              "      Tipo Agregado  Valor m2\n",
              "0       Apartamento     42.50\n",
              "1              Casa     70.00\n",
              "2       Apartamento     34.67\n",
              "3       Apartamento     53.33\n",
              "4       Apartamento     16.67\n",
              "...             ...       ...\n",
              "32955   Apartamento     29.63\n",
              "32956   Apartamento     23.08\n",
              "32957   Apartamento     29.17\n",
              "32958   Apartamento     42.86\n",
              "32959   Apartamento     26.00\n",
              "\n",
              "[32943 rows x 2 columns]"
            ]
          },
          "metadata": {
            "tags": []
          },
          "execution_count": 116
        }
      ]
    },
    {
      "cell_type": "markdown",
      "metadata": {
        "id": "DKmf9FRWLZLW",
        "colab_type": "text"
      },
      "source": [
        "#Estatísticas Descrtivias - Aula 08"
      ]
    },
    {
      "cell_type": "code",
      "metadata": {
        "id": "E2khF432MB0g",
        "colab_type": "code",
        "colab": {
          "base_uri": "https://localhost:8080/",
          "height": 34
        },
        "outputId": "85b576d8-008e-4309-e281-68392f6e845e"
      },
      "source": [
        "df_corrigido['Valor'].mean()"
      ],
      "execution_count": 117,
      "outputs": [
        {
          "output_type": "execute_result",
          "data": {
            "text/plain": [
              "12952.659715265761"
            ]
          },
          "metadata": {
            "tags": []
          },
          "execution_count": 117
        }
      ]
    },
    {
      "cell_type": "code",
      "metadata": {
        "id": "0Ttk0P5HMlDF",
        "colab_type": "code",
        "colab": {
          "base_uri": "https://localhost:8080/",
          "height": 272
        },
        "outputId": "d27cab6c-d6b0-4c3a-f2bb-182cd62b6036"
      },
      "source": [
        "bairros = ['Barra da Tijuca', 'Copacabana', 'Ipanema', 'Leblon', 'Botafogo', 'Flamengo', 'Tijuca']\n",
        "selecao = df_corrigido['Bairro'].isin(bairros)\n",
        "df_corrigido = df_corrigido[selecao]\n",
        "df_corrigido.head()"
      ],
      "execution_count": 118,
      "outputs": [
        {
          "output_type": "execute_result",
          "data": {
            "text/html": [
              "<div>\n",
              "<style scoped>\n",
              "    .dataframe tbody tr th:only-of-type {\n",
              "        vertical-align: middle;\n",
              "    }\n",
              "\n",
              "    .dataframe tbody tr th {\n",
              "        vertical-align: top;\n",
              "    }\n",
              "\n",
              "    .dataframe thead th {\n",
              "        text-align: right;\n",
              "    }\n",
              "</style>\n",
              "<table border=\"1\" class=\"dataframe\">\n",
              "  <thead>\n",
              "    <tr style=\"text-align: right;\">\n",
              "      <th></th>\n",
              "      <th>Tipo</th>\n",
              "      <th>Bairro</th>\n",
              "      <th>Quartos</th>\n",
              "      <th>Vagas</th>\n",
              "      <th>Suites</th>\n",
              "      <th>Area</th>\n",
              "      <th>Valor</th>\n",
              "      <th>Condominio</th>\n",
              "      <th>IPTU</th>\n",
              "      <th>Valor Bruto</th>\n",
              "      <th>Valor m2</th>\n",
              "      <th>Valor Bruto m2</th>\n",
              "      <th>Tipo Agregado</th>\n",
              "    </tr>\n",
              "  </thead>\n",
              "  <tbody>\n",
              "    <tr>\n",
              "      <th>0</th>\n",
              "      <td>Quitinete</td>\n",
              "      <td>Copacabana</td>\n",
              "      <td>1</td>\n",
              "      <td>0</td>\n",
              "      <td>0</td>\n",
              "      <td>40</td>\n",
              "      <td>1700.0</td>\n",
              "      <td>500.0</td>\n",
              "      <td>60.0</td>\n",
              "      <td>2260.0</td>\n",
              "      <td>42.50</td>\n",
              "      <td>56.50</td>\n",
              "      <td>Apartamento</td>\n",
              "    </tr>\n",
              "    <tr>\n",
              "      <th>2</th>\n",
              "      <td>Conjunto Comercial/Sala</td>\n",
              "      <td>Barra da Tijuca</td>\n",
              "      <td>0</td>\n",
              "      <td>4</td>\n",
              "      <td>0</td>\n",
              "      <td>150</td>\n",
              "      <td>5200.0</td>\n",
              "      <td>4020.0</td>\n",
              "      <td>1111.0</td>\n",
              "      <td>10331.0</td>\n",
              "      <td>34.67</td>\n",
              "      <td>68.87</td>\n",
              "      <td>Apartamento</td>\n",
              "    </tr>\n",
              "    <tr>\n",
              "      <th>7</th>\n",
              "      <td>Casa de Condomínio</td>\n",
              "      <td>Barra da Tijuca</td>\n",
              "      <td>5</td>\n",
              "      <td>4</td>\n",
              "      <td>5</td>\n",
              "      <td>750</td>\n",
              "      <td>22000.0</td>\n",
              "      <td>0.0</td>\n",
              "      <td>0.0</td>\n",
              "      <td>22000.0</td>\n",
              "      <td>29.33</td>\n",
              "      <td>29.33</td>\n",
              "      <td>Casa</td>\n",
              "    </tr>\n",
              "    <tr>\n",
              "      <th>13</th>\n",
              "      <td>Apartamento</td>\n",
              "      <td>Copacabana</td>\n",
              "      <td>1</td>\n",
              "      <td>0</td>\n",
              "      <td>1</td>\n",
              "      <td>40</td>\n",
              "      <td>2000.0</td>\n",
              "      <td>561.0</td>\n",
              "      <td>50.0</td>\n",
              "      <td>2611.0</td>\n",
              "      <td>50.00</td>\n",
              "      <td>65.28</td>\n",
              "      <td>Apartamento</td>\n",
              "    </tr>\n",
              "    <tr>\n",
              "      <th>14</th>\n",
              "      <td>Quitinete</td>\n",
              "      <td>Copacabana</td>\n",
              "      <td>1</td>\n",
              "      <td>0</td>\n",
              "      <td>0</td>\n",
              "      <td>27</td>\n",
              "      <td>1800.0</td>\n",
              "      <td>501.0</td>\n",
              "      <td>0.0</td>\n",
              "      <td>2301.0</td>\n",
              "      <td>66.67</td>\n",
              "      <td>85.22</td>\n",
              "      <td>Apartamento</td>\n",
              "    </tr>\n",
              "  </tbody>\n",
              "</table>\n",
              "</div>"
            ],
            "text/plain": [
              "                       Tipo           Bairro  ...  Valor Bruto m2  Tipo Agregado\n",
              "0                 Quitinete       Copacabana  ...           56.50    Apartamento\n",
              "2   Conjunto Comercial/Sala  Barra da Tijuca  ...           68.87    Apartamento\n",
              "7        Casa de Condomínio  Barra da Tijuca  ...           29.33           Casa\n",
              "13              Apartamento       Copacabana  ...           65.28    Apartamento\n",
              "14                Quitinete       Copacabana  ...           85.22    Apartamento\n",
              "\n",
              "[5 rows x 13 columns]"
            ]
          },
          "metadata": {
            "tags": []
          },
          "execution_count": 118
        }
      ]
    },
    {
      "cell_type": "code",
      "metadata": {
        "id": "lQ63_2cuM86C",
        "colab_type": "code",
        "colab": {
          "base_uri": "https://localhost:8080/",
          "height": 297
        },
        "outputId": "ce09c781-c04b-47bf-f3a8-eb007b221fa1"
      },
      "source": [
        "grupo_bairro = df_corrigido.groupby('Bairro')\n",
        "  \n",
        "grupo_bairro[['Valor', 'Condominio']].mean().round(2)"
      ],
      "execution_count": 119,
      "outputs": [
        {
          "output_type": "execute_result",
          "data": {
            "text/html": [
              "<div>\n",
              "<style scoped>\n",
              "    .dataframe tbody tr th:only-of-type {\n",
              "        vertical-align: middle;\n",
              "    }\n",
              "\n",
              "    .dataframe tbody tr th {\n",
              "        vertical-align: top;\n",
              "    }\n",
              "\n",
              "    .dataframe thead th {\n",
              "        text-align: right;\n",
              "    }\n",
              "</style>\n",
              "<table border=\"1\" class=\"dataframe\">\n",
              "  <thead>\n",
              "    <tr style=\"text-align: right;\">\n",
              "      <th></th>\n",
              "      <th>Valor</th>\n",
              "      <th>Condominio</th>\n",
              "    </tr>\n",
              "    <tr>\n",
              "      <th>Bairro</th>\n",
              "      <th></th>\n",
              "      <th></th>\n",
              "    </tr>\n",
              "  </thead>\n",
              "  <tbody>\n",
              "    <tr>\n",
              "      <th>Barra da Tijuca</th>\n",
              "      <td>9019.59</td>\n",
              "      <td>3458.06</td>\n",
              "    </tr>\n",
              "    <tr>\n",
              "      <th>Botafogo</th>\n",
              "      <td>19517.04</td>\n",
              "      <td>2781.54</td>\n",
              "    </tr>\n",
              "    <tr>\n",
              "      <th>Copacabana</th>\n",
              "      <td>4509.83</td>\n",
              "      <td>1140.52</td>\n",
              "    </tr>\n",
              "    <tr>\n",
              "      <th>Flamengo</th>\n",
              "      <td>6923.48</td>\n",
              "      <td>1869.24</td>\n",
              "    </tr>\n",
              "    <tr>\n",
              "      <th>Ipanema</th>\n",
              "      <td>10456.52</td>\n",
              "      <td>2245.37</td>\n",
              "    </tr>\n",
              "    <tr>\n",
              "      <th>Leblon</th>\n",
              "      <td>11052.35</td>\n",
              "      <td>2217.60</td>\n",
              "    </tr>\n",
              "    <tr>\n",
              "      <th>Tijuca</th>\n",
              "      <td>2954.67</td>\n",
              "      <td>784.49</td>\n",
              "    </tr>\n",
              "  </tbody>\n",
              "</table>\n",
              "</div>"
            ],
            "text/plain": [
              "                    Valor  Condominio\n",
              "Bairro                               \n",
              "Barra da Tijuca   9019.59     3458.06\n",
              "Botafogo         19517.04     2781.54\n",
              "Copacabana        4509.83     1140.52\n",
              "Flamengo          6923.48     1869.24\n",
              "Ipanema          10456.52     2245.37\n",
              "Leblon           11052.35     2217.60\n",
              "Tijuca            2954.67      784.49"
            ]
          },
          "metadata": {
            "tags": []
          },
          "execution_count": 119
        }
      ]
    },
    {
      "cell_type": "code",
      "metadata": {
        "id": "NFQBIvWWNPr3",
        "colab_type": "code",
        "colab": {
          "base_uri": "https://localhost:8080/",
          "height": 297
        },
        "outputId": "9dc43167-429a-49f0-b835-8a6fe1621fb9"
      },
      "source": [
        "grupo_bairro['Valor'].describe().round(2)"
      ],
      "execution_count": 126,
      "outputs": [
        {
          "output_type": "execute_result",
          "data": {
            "text/html": [
              "<div>\n",
              "<style scoped>\n",
              "    .dataframe tbody tr th:only-of-type {\n",
              "        vertical-align: middle;\n",
              "    }\n",
              "\n",
              "    .dataframe tbody tr th {\n",
              "        vertical-align: top;\n",
              "    }\n",
              "\n",
              "    .dataframe thead th {\n",
              "        text-align: right;\n",
              "    }\n",
              "</style>\n",
              "<table border=\"1\" class=\"dataframe\">\n",
              "  <thead>\n",
              "    <tr style=\"text-align: right;\">\n",
              "      <th></th>\n",
              "      <th>count</th>\n",
              "      <th>mean</th>\n",
              "      <th>std</th>\n",
              "      <th>min</th>\n",
              "      <th>25%</th>\n",
              "      <th>50%</th>\n",
              "      <th>75%</th>\n",
              "      <th>max</th>\n",
              "    </tr>\n",
              "    <tr>\n",
              "      <th>Bairro</th>\n",
              "      <th></th>\n",
              "      <th></th>\n",
              "      <th></th>\n",
              "      <th></th>\n",
              "      <th></th>\n",
              "      <th></th>\n",
              "      <th></th>\n",
              "      <th></th>\n",
              "    </tr>\n",
              "  </thead>\n",
              "  <tbody>\n",
              "    <tr>\n",
              "      <th>Barra da Tijuca</th>\n",
              "      <td>6256.0</td>\n",
              "      <td>9019.59</td>\n",
              "      <td>30192.24</td>\n",
              "      <td>100.0</td>\n",
              "      <td>2000.0</td>\n",
              "      <td>3500.0</td>\n",
              "      <td>8000.0</td>\n",
              "      <td>738197.0</td>\n",
              "    </tr>\n",
              "    <tr>\n",
              "      <th>Botafogo</th>\n",
              "      <td>1372.0</td>\n",
              "      <td>19517.04</td>\n",
              "      <td>129131.61</td>\n",
              "      <td>299.0</td>\n",
              "      <td>2500.0</td>\n",
              "      <td>4000.0</td>\n",
              "      <td>11000.0</td>\n",
              "      <td>4500000.0</td>\n",
              "    </tr>\n",
              "    <tr>\n",
              "      <th>Copacabana</th>\n",
              "      <td>3185.0</td>\n",
              "      <td>4509.83</td>\n",
              "      <td>6413.41</td>\n",
              "      <td>100.0</td>\n",
              "      <td>1900.0</td>\n",
              "      <td>3000.0</td>\n",
              "      <td>4900.0</td>\n",
              "      <td>198000.0</td>\n",
              "    </tr>\n",
              "    <tr>\n",
              "      <th>Flamengo</th>\n",
              "      <td>812.0</td>\n",
              "      <td>6923.48</td>\n",
              "      <td>15767.99</td>\n",
              "      <td>200.0</td>\n",
              "      <td>1900.0</td>\n",
              "      <td>3000.0</td>\n",
              "      <td>5325.0</td>\n",
              "      <td>212544.0</td>\n",
              "    </tr>\n",
              "    <tr>\n",
              "      <th>Ipanema</th>\n",
              "      <td>2233.0</td>\n",
              "      <td>10456.52</td>\n",
              "      <td>20859.22</td>\n",
              "      <td>100.0</td>\n",
              "      <td>4000.0</td>\n",
              "      <td>7000.0</td>\n",
              "      <td>12000.0</td>\n",
              "      <td>800000.0</td>\n",
              "    </tr>\n",
              "    <tr>\n",
              "      <th>Leblon</th>\n",
              "      <td>1478.0</td>\n",
              "      <td>11052.35</td>\n",
              "      <td>20707.09</td>\n",
              "      <td>100.0</td>\n",
              "      <td>4500.0</td>\n",
              "      <td>7000.0</td>\n",
              "      <td>11900.0</td>\n",
              "      <td>430000.0</td>\n",
              "    </tr>\n",
              "    <tr>\n",
              "      <th>Tijuca</th>\n",
              "      <td>1359.0</td>\n",
              "      <td>2954.67</td>\n",
              "      <td>7979.73</td>\n",
              "      <td>320.0</td>\n",
              "      <td>1425.0</td>\n",
              "      <td>1800.0</td>\n",
              "      <td>2499.5</td>\n",
              "      <td>230000.0</td>\n",
              "    </tr>\n",
              "  </tbody>\n",
              "</table>\n",
              "</div>"
            ],
            "text/plain": [
              "                  count      mean        std  ...     50%      75%        max\n",
              "Bairro                                        ...                            \n",
              "Barra da Tijuca  6256.0   9019.59   30192.24  ...  3500.0   8000.0   738197.0\n",
              "Botafogo         1372.0  19517.04  129131.61  ...  4000.0  11000.0  4500000.0\n",
              "Copacabana       3185.0   4509.83    6413.41  ...  3000.0   4900.0   198000.0\n",
              "Flamengo          812.0   6923.48   15767.99  ...  3000.0   5325.0   212544.0\n",
              "Ipanema          2233.0  10456.52   20859.22  ...  7000.0  12000.0   800000.0\n",
              "Leblon           1478.0  11052.35   20707.09  ...  7000.0  11900.0   430000.0\n",
              "Tijuca           1359.0   2954.67    7979.73  ...  1800.0   2499.5   230000.0\n",
              "\n",
              "[7 rows x 8 columns]"
            ]
          },
          "metadata": {
            "tags": []
          },
          "execution_count": 126
        }
      ]
    },
    {
      "cell_type": "code",
      "metadata": {
        "id": "G2-qSb2NNb9w",
        "colab_type": "code",
        "colab": {
          "base_uri": "https://localhost:8080/",
          "height": 297
        },
        "outputId": "9fb21ba4-fd93-4519-e177-b3d72898aedc"
      },
      "source": [
        "grupo_bairro['Valor'].aggregate(['min', 'max']).rename(columns = {'min': 'Mínimo', 'max': 'Máximo'})"
      ],
      "execution_count": 121,
      "outputs": [
        {
          "output_type": "execute_result",
          "data": {
            "text/html": [
              "<div>\n",
              "<style scoped>\n",
              "    .dataframe tbody tr th:only-of-type {\n",
              "        vertical-align: middle;\n",
              "    }\n",
              "\n",
              "    .dataframe tbody tr th {\n",
              "        vertical-align: top;\n",
              "    }\n",
              "\n",
              "    .dataframe thead th {\n",
              "        text-align: right;\n",
              "    }\n",
              "</style>\n",
              "<table border=\"1\" class=\"dataframe\">\n",
              "  <thead>\n",
              "    <tr style=\"text-align: right;\">\n",
              "      <th></th>\n",
              "      <th>Mínimo</th>\n",
              "      <th>Máximo</th>\n",
              "    </tr>\n",
              "    <tr>\n",
              "      <th>Bairro</th>\n",
              "      <th></th>\n",
              "      <th></th>\n",
              "    </tr>\n",
              "  </thead>\n",
              "  <tbody>\n",
              "    <tr>\n",
              "      <th>Barra da Tijuca</th>\n",
              "      <td>100.0</td>\n",
              "      <td>738197.0</td>\n",
              "    </tr>\n",
              "    <tr>\n",
              "      <th>Botafogo</th>\n",
              "      <td>299.0</td>\n",
              "      <td>4500000.0</td>\n",
              "    </tr>\n",
              "    <tr>\n",
              "      <th>Copacabana</th>\n",
              "      <td>100.0</td>\n",
              "      <td>198000.0</td>\n",
              "    </tr>\n",
              "    <tr>\n",
              "      <th>Flamengo</th>\n",
              "      <td>200.0</td>\n",
              "      <td>212544.0</td>\n",
              "    </tr>\n",
              "    <tr>\n",
              "      <th>Ipanema</th>\n",
              "      <td>100.0</td>\n",
              "      <td>800000.0</td>\n",
              "    </tr>\n",
              "    <tr>\n",
              "      <th>Leblon</th>\n",
              "      <td>100.0</td>\n",
              "      <td>430000.0</td>\n",
              "    </tr>\n",
              "    <tr>\n",
              "      <th>Tijuca</th>\n",
              "      <td>320.0</td>\n",
              "      <td>230000.0</td>\n",
              "    </tr>\n",
              "  </tbody>\n",
              "</table>\n",
              "</div>"
            ],
            "text/plain": [
              "                 Mínimo     Máximo\n",
              "Bairro                            \n",
              "Barra da Tijuca   100.0   738197.0\n",
              "Botafogo          299.0  4500000.0\n",
              "Copacabana        100.0   198000.0\n",
              "Flamengo          200.0   212544.0\n",
              "Ipanema           100.0   800000.0\n",
              "Leblon            100.0   430000.0\n",
              "Tijuca            320.0   230000.0"
            ]
          },
          "metadata": {
            "tags": []
          },
          "execution_count": 121
        }
      ]
    },
    {
      "cell_type": "code",
      "metadata": {
        "id": "HSynPtTENfNC",
        "colab_type": "code",
        "colab": {
          "base_uri": "https://localhost:8080/",
          "height": 369
        },
        "outputId": "00e05a06-9cd2-4af2-e38d-5fe32ffdb357"
      },
      "source": [
        "fig = grupo_bairro['Valor'].mean().plot.bar(color = 'blue')\n",
        "fig.set_ylabel('Valor do Aluguel')\n",
        "fig.set_title('Valor Médio do Aluguel por Bairro', {'fontsize': 22});"
      ],
      "execution_count": 122,
      "outputs": [
        {
          "output_type": "display_data",
          "data": {
            "image/png": "[encoded data removed]",
            "text/plain": [
              "<Figure size 432x288 with 1 Axes>"
            ]
          },
          "metadata": {
            "tags": []
          }
        }
      ]
    },
    {
      "cell_type": "code",
      "metadata": {
        "id": "P7l8-pU9NiYH",
        "colab_type": "code",
        "colab": {
          "base_uri": "https://localhost:8080/",
          "height": 369
        },
        "outputId": "247b3a9b-8f64-4880-9952-cf162c1da1c5"
      },
      "source": [
        "fig = grupo_bairro['Valor'].max().plot.bar(color = 'blue')\n",
        "fig.set_ylabel('Valor do Aluguel')\n",
        "fig.set_title('Valor Médio do Aluguel por Bairro', {'fontsize': 22});"
      ],
      "execution_count": 123,
      "outputs": [
        {
          "output_type": "display_data",
          "data": {
            "image/png": "[encoded data removed]",
            "text/plain": [
              "<Figure size 432x288 with 1 Axes>"
            ]
          },
          "metadata": {
            "tags": []
          }
        }
      ]
    },
    {
      "cell_type": "markdown",
      "metadata": {
        "id": "PlgJbfPqLf0z",
        "colab_type": "text"
      },
      "source": [
        "#Removendo Outliers - Aula 09"
      ]
    },
    {
      "cell_type": "code",
      "metadata": {
        "id": "Z4dr2xPnNg1_",
        "colab_type": "code",
        "colab": {
          "base_uri": "https://localhost:8080/",
          "height": 265
        },
        "outputId": "2e288293-d8f1-4d4a-d017-a1f503093891"
      },
      "source": [
        "df_corrigido.boxplot(['Valor']);"
      ],
      "execution_count": 124,
      "outputs": [
        {
          "output_type": "display_data",
          "data": {
            "image/png": "[encoded data removed]",
            "text/plain": [
              "<Figure size 432x288 with 1 Axes>"
            ]
          },
          "metadata": {
            "tags": []
          }
        }
      ]
    },
    {
      "cell_type": "code",
      "metadata": {
        "id": "XGpiTLHyNtXA",
        "colab_type": "code",
        "colab": {
          "base_uri": "https://localhost:8080/",
          "height": 343
        },
        "outputId": "ad9b127c-6644-425a-8707-be7359f850c4"
      },
      "source": [
        "df_corrigido[df_corrigido['Valor'] >= 500000].head()"
      ],
      "execution_count": 128,
      "outputs": [
        {
          "output_type": "execute_result",
          "data": {
            "text/html": [
              "<div>\n",
              "<style scoped>\n",
              "    .dataframe tbody tr th:only-of-type {\n",
              "        vertical-align: middle;\n",
              "    }\n",
              "\n",
              "    .dataframe tbody tr th {\n",
              "        vertical-align: top;\n",
              "    }\n",
              "\n",
              "    .dataframe thead th {\n",
              "        text-align: right;\n",
              "    }\n",
              "</style>\n",
              "<table border=\"1\" class=\"dataframe\">\n",
              "  <thead>\n",
              "    <tr style=\"text-align: right;\">\n",
              "      <th></th>\n",
              "      <th>Tipo</th>\n",
              "      <th>Bairro</th>\n",
              "      <th>Quartos</th>\n",
              "      <th>Vagas</th>\n",
              "      <th>Suites</th>\n",
              "      <th>Area</th>\n",
              "      <th>Valor</th>\n",
              "      <th>Condominio</th>\n",
              "      <th>IPTU</th>\n",
              "      <th>Valor Bruto</th>\n",
              "      <th>Valor m2</th>\n",
              "      <th>Valor Bruto m2</th>\n",
              "      <th>Tipo Agregado</th>\n",
              "    </tr>\n",
              "  </thead>\n",
              "  <tbody>\n",
              "    <tr>\n",
              "      <th>826</th>\n",
              "      <td>Conjunto Comercial/Sala</td>\n",
              "      <td>Barra da Tijuca</td>\n",
              "      <td>0</td>\n",
              "      <td>0</td>\n",
              "      <td>0</td>\n",
              "      <td>5124</td>\n",
              "      <td>614000.0</td>\n",
              "      <td>0.0</td>\n",
              "      <td>0.0</td>\n",
              "      <td>614000.0</td>\n",
              "      <td>119.83</td>\n",
              "      <td>119.83</td>\n",
              "      <td>Apartamento</td>\n",
              "    </tr>\n",
              "    <tr>\n",
              "      <th>884</th>\n",
              "      <td>Conjunto Comercial/Sala</td>\n",
              "      <td>Botafogo</td>\n",
              "      <td>0</td>\n",
              "      <td>56</td>\n",
              "      <td>0</td>\n",
              "      <td>4235</td>\n",
              "      <td>529375.0</td>\n",
              "      <td>114599.0</td>\n",
              "      <td>34345.0</td>\n",
              "      <td>678319.0</td>\n",
              "      <td>125.00</td>\n",
              "      <td>160.17</td>\n",
              "      <td>Apartamento</td>\n",
              "    </tr>\n",
              "    <tr>\n",
              "      <th>2994</th>\n",
              "      <td>Prédio Inteiro</td>\n",
              "      <td>Barra da Tijuca</td>\n",
              "      <td>0</td>\n",
              "      <td>40</td>\n",
              "      <td>0</td>\n",
              "      <td>7500</td>\n",
              "      <td>600000.0</td>\n",
              "      <td>162000.0</td>\n",
              "      <td>13350.0</td>\n",
              "      <td>775350.0</td>\n",
              "      <td>80.00</td>\n",
              "      <td>103.38</td>\n",
              "      <td>Apartamento</td>\n",
              "    </tr>\n",
              "    <tr>\n",
              "      <th>11712</th>\n",
              "      <td>Apartamento</td>\n",
              "      <td>Barra da Tijuca</td>\n",
              "      <td>1</td>\n",
              "      <td>1</td>\n",
              "      <td>0</td>\n",
              "      <td>65</td>\n",
              "      <td>600000.0</td>\n",
              "      <td>980.0</td>\n",
              "      <td>120.0</td>\n",
              "      <td>601100.0</td>\n",
              "      <td>9230.77</td>\n",
              "      <td>9247.69</td>\n",
              "      <td>Apartamento</td>\n",
              "    </tr>\n",
              "    <tr>\n",
              "      <th>15535</th>\n",
              "      <td>Prédio Inteiro</td>\n",
              "      <td>Barra da Tijuca</td>\n",
              "      <td>0</td>\n",
              "      <td>90</td>\n",
              "      <td>0</td>\n",
              "      <td>4000</td>\n",
              "      <td>650000.0</td>\n",
              "      <td>0.0</td>\n",
              "      <td>0.0</td>\n",
              "      <td>650000.0</td>\n",
              "      <td>162.50</td>\n",
              "      <td>162.50</td>\n",
              "      <td>Apartamento</td>\n",
              "    </tr>\n",
              "  </tbody>\n",
              "</table>\n",
              "</div>"
            ],
            "text/plain": [
              "                          Tipo           Bairro  ...  Valor Bruto m2  Tipo Agregado\n",
              "826    Conjunto Comercial/Sala  Barra da Tijuca  ...          119.83    Apartamento\n",
              "884    Conjunto Comercial/Sala         Botafogo  ...          160.17    Apartamento\n",
              "2994            Prédio Inteiro  Barra da Tijuca  ...          103.38    Apartamento\n",
              "11712              Apartamento  Barra da Tijuca  ...         9247.69    Apartamento\n",
              "15535           Prédio Inteiro  Barra da Tijuca  ...          162.50    Apartamento\n",
              "\n",
              "[5 rows x 13 columns]"
            ]
          },
          "metadata": {
            "tags": []
          },
          "execution_count": 128
        }
      ]
    },
    {
      "cell_type": "code",
      "metadata": {
        "id": "U3TM8TwVN0qO",
        "colab_type": "code",
        "colab": {}
      },
      "source": [
        "valor = df_corrigido['Valor']\n",
        "\n",
        "Q1 = valor.quantile(.25)\n",
        "Q3 = valor.quantile(.75)\n",
        "IIQ = Q3 - Q1\n",
        "limite_inferior = Q1 - 1.5 * IIQ\n",
        "limite_superior = Q3 + 1.5 * IIQ\n",
        "\n",
        "selecao = (valor >= limite_inferior) & (valor <= limite_superior)\n",
        "df_new = df_corrigido[selecao]"
      ],
      "execution_count": 0,
      "outputs": []
    },
    {
      "cell_type": "code",
      "metadata": {
        "id": "STsFky0rPmQ8",
        "colab_type": "code",
        "colab": {
          "base_uri": "https://localhost:8080/",
          "height": 282
        },
        "outputId": "c35e1c5c-ce7d-4218-a496-301ec3033f13"
      },
      "source": [
        "df_new.boxplot(['Valor'])"
      ],
      "execution_count": 133,
      "outputs": [
        {
          "output_type": "execute_result",
          "data": {
            "text/plain": [
              "<matplotlib.axes._subplots.AxesSubplot at 0x7f3e744aef60>"
            ]
          },
          "metadata": {
            "tags": []
          },
          "execution_count": 133
        },
        {
          "output_type": "display_data",
          "data": {
            "image/png": "[encoded data removed]",
            "text/plain": [
              "<Figure size 432x288 with 1 Axes>"
            ]
          },
          "metadata": {
            "tags": []
          }
        }
      ]
    },
    {
      "cell_type": "code",
      "metadata": {
        "id": "PUoImK6UPts5",
        "colab_type": "code",
        "colab": {
          "base_uri": "https://localhost:8080/",
          "height": 545
        },
        "outputId": "85681e4e-e721-499f-b4e2-ee90dd05b08b"
      },
      "source": [
        "df_corrigido.hist(['Valor']);\n",
        "df_new.hist(['Valor']);"
      ],
      "execution_count": 134,
      "outputs": [
        {
          "output_type": "display_data",
          "data": {
            "image/png": "[encoded data removed]",
            "text/plain": [
              "<Figure size 432x288 with 1 Axes>"
            ]
          },
          "metadata": {
            "tags": []
          }
        },
        {
          "output_type": "display_data",
          "data": {
            "image/png": "[encoded data removed]",
            "text/plain": [
              "<Figure size 432x288 with 1 Axes>"
            ]
          },
          "metadata": {
            "tags": []
          }
        }
      ]
    },
    {
      "cell_type": "code",
      "metadata": {
        "id": "q3XZAHYJPxvy",
        "colab_type": "code",
        "colab": {
          "base_uri": "https://localhost:8080/",
          "height": 398
        },
        "outputId": "afac990d-59af-4a25-d80b-46aa6f15951f"
      },
      "source": [
        "df_corrigido.boxplot(['Valor'], by = ['Tipo'], figsize = (15,5))"
      ],
      "execution_count": 138,
      "outputs": [
        {
          "output_type": "execute_result",
          "data": {
            "text/plain": [
              "<matplotlib.axes._subplots.AxesSubplot at 0x7f3e742effd0>"
            ]
          },
          "metadata": {
            "tags": []
          },
          "execution_count": 138
        },
        {
          "output_type": "display_data",
          "data": {
            "image/png": "[encoded data removed]",
            "text/plain": [
              "<Figure size 1080x360 with 1 Axes>"
            ]
          },
          "metadata": {
            "tags": []
          }
        }
      ]
    }
  ]
}