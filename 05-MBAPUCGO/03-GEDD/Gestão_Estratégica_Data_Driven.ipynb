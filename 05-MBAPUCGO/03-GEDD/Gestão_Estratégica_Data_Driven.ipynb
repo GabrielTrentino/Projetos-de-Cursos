{
  "nbformat": 4,
  "nbformat_minor": 0,
  "metadata": {
    "colab": {
      "name": "Gestão Estratégica Data Driven.ipynb",
      "provenance": []
    },
    "kernelspec": {
      "name": "python3",
      "display_name": "Python 3"
    },
    "language_info": {
      "name": "python"
    }
  },
  "cells": [
    {
      "cell_type": "markdown",
      "metadata": {
        "id": "f0OvkwHkA2dg"
      },
      "source": [
        "# Gestão Estratégica Data Driven"
      ]
    },
    {
      "cell_type": "markdown",
      "metadata": {
        "id": "DGITPt3UkEO6"
      },
      "source": [
        "# 1.0 - Gestão de Alta Perfomance:"
      ]
    },
    {
      "cell_type": "markdown",
      "metadata": {
        "id": "mjUzH59Tk5Hp"
      },
      "source": [
        "## Gestão?\n"
      ]
    },
    {
      "cell_type": "markdown",
      "metadata": {
        "id": "zR3Rof3dZdw_"
      },
      "source": [
        "\n",
        "Quais são as principais coisas que influenciaram a história da gestão.\n",
        "\n",
        "* 1 - Vida & Sobrevivência:\n",
        "    * O ato de gerir recursos Escassos e situações de riscos no início da existência humana.\n",
        "    * Moldaram a capacidade humana em gerir e administrar em situações críticas.\n",
        "    * A necessidade de planejar e executar tornaram essenciais para sobresair de situações onde o resultado não fosse tão positiva.\n",
        "\n",
        "* 2 - Guerras e Grandes Desafios (Doenças):\n",
        "    * As Guerras e disputas humanas exigiram da capacidade humana de gerir e administrar seus recursos que ja eram escassos.\n",
        "\n",
        "* 3 - Religião e Política:\n",
        "    * A diversidade religiosa diante das formas de gerir o comportamento humano e de vida.\n",
        "    * As diversas formas de Política e de governar um país sempre trouxeram a necessidade da administração e gestão como conjunto.\n",
        "\n",
        "* 4 - Sistemas de Produção:\n",
        "    * Sistemas de produção em massa e organizadas influenciaram de maneira positiva na capacidade humana em gerenciar situações.\n",
        "    * Novos problemas surgiram com a escalabilidade dos negócios.\n",
        "* 5 - Revoluções Industriais;\n",
        "\n",
        "* 6 - Inovação e Competição:\n",
        "    * As revoluções tem momentos específicos de ocorrência, mas as competições não param, sempre estão presentes.\n",
        "    * A criação do SmartPhone demonstra o poder da inovação e competição somados."
      ]
    },
    {
      "cell_type": "markdown",
      "metadata": {
        "id": "O7v2AerPZgFq"
      },
      "source": [
        "## Principais Revoluções Industriais:"
      ]
    },
    {
      "cell_type": "markdown",
      "metadata": {
        "id": "pCz5MU7HGqWm"
      },
      "source": [
        "* Revolução Industrial 1.0 - Mechanization, Steam Power, Weaving Loom:\n",
        "    * 1784;\n",
        "    * Mecanização da produção, máquinas à vapor (fonte: Carvão), máquinas à tear;\n",
        "    * A primeira revolução que introduziu a humanidade para a automatização de processos.\n",
        "\n",
        "* Revolução Industrial 2.0 - Mass Production, Assembly Line, Eletrical Energy:\n",
        "    * 1870;\n",
        "    * Produção em Massa, linha de produção e o surgimento da energia eletrica;\n",
        "    * Começou a revolucionar o custo de produção e a eficiência de se mecanizar sistemas de produção;\n",
        "\n",
        "* Revolução Industrial 3.0 - Automation, Computers & Eletronics:\n",
        "    * 1969;\n",
        "    * Voltada principalmente para a capacidade e velocidade de processamento tragas pelos computadores modernos;\n",
        "    * Linguagens de alto nível de programação.\n",
        "\n",
        "* Revolução Industrial 4.0 - Cyber Physical Systems, Internet of Things, Networks:\n",
        "    * Soluções interconectáveis;\n",
        "    * Redes de comunicação mais acessíveis;\n",
        "    * Aumento Potencial da inteligência artificial através das redes neurais multicamadas.\n",
        "    * Cloud Computing - Acessibilidade das pessoas comuns para empreender sem gastar tanto. Pois o Cloud Computing permitiu o \"aluguel\" de infraestruturas complexas.\n",
        "    * Realidade Aumentada."
      ]
    },
    {
      "cell_type": "markdown",
      "metadata": {
        "id": "pRKcp1KQbJRk"
      },
      "source": [
        "## Principais autores nos Modelos de Gestão:"
      ]
    },
    {
      "cell_type": "markdown",
      "metadata": {
        "id": "QHuS1c9JbOwI"
      },
      "source": [
        "* Jules Henri Fayol - POCCC ou POC3:\n",
        "    * Administrador que transformou a visão de uma empresa de chão de fábrica para uma visão mais estratégica.\n",
        "* Peter Drucker (1909 - 2005) - MBO:\n",
        "    * Management by Objectives.\n",
        "    * Mensurar objetivos e manutenção continua.\n",
        "* Andrew Groove (1936 - 2016):\n",
        "    * High Output Management iMBO (Intel)."
      ]
    },
    {
      "cell_type": "markdown",
      "metadata": {
        "id": "iJUOhQR_dSdN"
      },
      "source": [
        "## 9 Pilares da Gestão de Alta Perfomance - Groove:"
      ]
    },
    {
      "cell_type": "markdown",
      "metadata": {
        "id": "gwzd4NTHjRXY"
      },
      "source": [
        "* 1- Compreendedo a Dinâmica do Negócio\n",
        "  * Mapear etapas do ciclo de produção\n",
        "  * Identificar os pontos de pressão\n",
        "  * Identificar o fluxo de VALOR\n",
        "  * Solucionando Gargalos\n",
        "  * Simplificar a gestão de trabalhos administrativos periféricos.\n",
        "\n",
        "* 2 - Conhecendo os Indicadores de Desempenho - é importante acompanhar o desempenho do negócio:\n",
        "  * Indicador diário de Vendas.\n",
        "  * Indicador periódicos de CUSTOS.\n",
        "  * Eficiência dos PROCESSOS.\n",
        "  * Indicadores diários sobre PESSOAS.\n",
        "  * Indicadores sobre o FEEDBACK do cliente.\n",
        "  * A resolução de problemas em algumas dessas 5 áreas permitem o avanço profissional.\n",
        "\n",
        "* 3 - Gerenciando relacionamentos com a Equipe:\n",
        "  * É comum em cargos de alta gestão o isolamento da equipe, mas isso é algo que Groove combate dizendo que é prejudicial para a saúde da empresa e dos relacionamentos.\n",
        "  * Mais conversas informais\n",
        "  * Construir ambiente positivo\n",
        "  * Entender tarefas e jornadas individuais.\n",
        "\n",
        "* 4 - Reuniões são essenciais para uma boa gestão:\n",
        "  * Parte do talento de um gestor é participar de reuniões e conduzir de forma objetiva, se não há a perda de produtividade.\n",
        "  * Reuniões orientadas para o processo\n",
        "  * Reuniões voltadas para a missão.\n",
        "\n",
        "* 5 - Compreender a motivação humana:\n",
        "  * Piramide de Maslow destrincha as motivações humanas.\n",
        "  * As Pessoas são orientadas:\n",
        "    * Por competências.\n",
        "    * Para a realização.\n",
        "\n",
        "* 6 - A importância do Feedback e do Suporte:\n",
        "  * Serve para pontuar as jornadas das pessoas dentro da empresa.\n",
        "  * Feedback regular periódico.\n",
        "  * Recompensas Financeiras.\n",
        "  * Outras Recompensas.\n",
        "\n",
        "* 7 - A importância do Coaching:\n",
        "  * Identificar Pessoas com experiências extraordinárias e capaz de repassar essas experiências.\n",
        "  * Desafiar pessoas ao sucesso.\n",
        "  * Apoio para alinhamento com um Propósito.\n",
        "  * Eviar competitividade doentia.\n",
        "\n",
        "* 8 - Encontrando seu estilo de gestão:\n",
        "  * Análise continua e relativa ao decorrer da carreira, pois haverão necessidades ao decorrer dos times que você encontra.\n",
        "  * TRM (Task Relevant Maturity).\n",
        "  * Intensidade variável de gestão conforme TRM.\n",
        "    * Uma vez que a micro-gestão para uma pessoa madura no que faz, afeta diretamente na produtividade.\n",
        "    * Enquanto que se tornar distante de uma pessoa que está no processo de amadurecimento profissional, deixa de ganhar a velocidade na resolução das tarefas.\n",
        "    * Por isso, a gestão deve ter essa mutabilidade baseada em dados.\n",
        "\n",
        "* 9 - High Output:\n",
        "  * Esse pilar é uma consequência/resultado da realização dos outros pilares e de organizações parceiras (fornecedores).\n",
        "  * Outpust de um gestor = Output da sua organização ou unidade + Outuput das outras unidades e organizações parceiras."
      ]
    },
    {
      "cell_type": "markdown",
      "metadata": {
        "id": "EW8ulSbWAuPg"
      },
      "source": [
        "## Gestão Estratégica:"
      ]
    },
    {
      "cell_type": "markdown",
      "metadata": {
        "id": "8U54BudPAxwp"
      },
      "source": [
        "Parei em 1:15:00"
      ]
    },
    {
      "cell_type": "markdown",
      "metadata": {
        "id": "iwzily-Ukrhs"
      },
      "source": [
        "# 2.0 - Framework Cultural Data Driven"
      ]
    },
    {
      "cell_type": "markdown",
      "metadata": {
        "id": "4pdEvTYtkuWK"
      },
      "source": [
        "# 3.0 - Framework de Gestão Estratégica e Tática:\n"
      ]
    },
    {
      "cell_type": "markdown",
      "metadata": {
        "id": "4cY9s9Eekygw"
      },
      "source": [
        "# 4.0 - Framework de Inovação:"
      ]
    },
    {
      "cell_type": "markdown",
      "metadata": {
        "id": "Hj-GWhxZC8Gp"
      },
      "source": [
        "* Jules Henri Fayol POCCC ou POC3\n",
        "* Peter Drucker MBO\n",
        "* Andre Grove High Output Management iMBO\n",
        "\n",
        "* Entrada dos Japoneses na produção de memorias DRAMS (Dynamic Random Access Memories)\n",
        "\n",
        "* Os 9 pilares da gestão de alta perfomance:\n",
        "    \n",
        "\n",
        "* Gestão Estratégica:\n",
        "\"Para quem não sabe para onde vai, qualquer caminho serve\" - Lewis Carroll\n",
        "\n",
        "* Ciclo de Gestão\n",
        "    * Comunicação e aprendizado\n",
        "    * Definição da estratégia\n",
        "    * Alinhamento da organização\n",
        "    * Implantação da estratégia\n",
        "    * Monitoramento e avaliação\n",
        "\n",
        "* Roteiro:\n",
        "    * Diretrizes Estratégicas - Os direcionamentos que devem orientar todas as iniciativas da empresa;\n",
        "    * 5 Forças de POrter - Os desafios do nosso mercado.\n",
        "    * Objetivos de Curto, Médio e Longo prazo - Como queremos estar em 1, 3 e 5 anos?\n",
        "    * Análise SWOT - Quais fraquezas devemos mitigar, ameaças combater e oportundiades explorar?\n",
        "    *  Balanced Score card - Os resultados que devemos monitorar e otimizar para cumprimir o plano.\n",
        "    * Portfólio de Projetos Estratégicos - Como iremos nos organizar para realziar o plano\n",
        "    * Governança - Como iremos acompanhar o execução do plano."
      ]
    },
    {
      "cell_type": "markdown",
      "metadata": {
        "id": "Ez4JbxHtR3ky"
      },
      "source": [
        "* Business Metrics\n",
        "  * 1 - Credibilidade do resultado\n",
        "  * 2 Esforço aceitável para o apuramento do resultado\n",
        "  * 3 - Simplicidade de interpretação\n",
        "\n",
        "  * 7 - Possibilidade de auditar as fontes de dados com eficácia\n",
        "  * 8 - Frequência de monitorização\n",
        "  * 9 - Possibilidade de calcular em momentos extraordinários\n",
        "  * 10 - Protegida de efeitos externos \n",
        "  * 11 - Possibilidade de benchmarking (Compatibilidade)\n",
        "  * 12 - Atualizada\n",
        "\n",
        "* Tipos de KPI\n",
        "    * Produtividade\n",
        "    * Qualidade \n",
        "    * Capacidade\n",
        "    * Estratégicos"
      ]
    },
    {
      "cell_type": "markdown",
      "metadata": {
        "id": "QgbeDgLFiiSb"
      },
      "source": [
        "* Cadeia de Valor (Business Model Canvas)\n",
        "* Balanced ScoreCard"
      ]
    },
    {
      "cell_type": "markdown",
      "metadata": {
        "id": "F3X_Vx_I5lNx"
      },
      "source": [
        "# 2.0 Framework Cultural Data Driven:\n"
      ]
    },
    {
      "cell_type": "markdown",
      "metadata": {
        "id": "YwrjhOt05nK1"
      },
      "source": [
        "Livro - Messa o que importa\n"
      ]
    },
    {
      "cell_type": "markdown",
      "metadata": {
        "id": "hozGJ7-3cey_"
      },
      "source": [
        "# Atividade Prática:"
      ]
    },
    {
      "cell_type": "markdown",
      "metadata": {
        "id": "4pshh8J7cguo"
      },
      "source": [
        ""
      ]
    }
  ]
}