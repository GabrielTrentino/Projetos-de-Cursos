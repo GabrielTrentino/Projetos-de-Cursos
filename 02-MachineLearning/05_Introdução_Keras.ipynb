{
  "nbformat": 4,
  "nbformat_minor": 0,
  "metadata": {
    "colab": {
      "name": "05_Introdução_Keras.ipynb",
      "provenance": [],
      "collapsed_sections": []
    },
    "kernelspec": {
      "name": "python3",
      "display_name": "Python 3"
    }
  },
  "cells": [
    {
      "cell_type": "markdown",
      "metadata": {
        "id": "0m-EIdRBIsT8",
        "colab_type": "text"
      },
      "source": [
        "# Importando as Biliotecas"
      ]
    },
    {
      "cell_type": "code",
      "metadata": {
        "id": "J-DXB3zyOk_m",
        "colab_type": "code",
        "colab": {}
      },
      "source": [
        "import tensorflow\n",
        "from tensorflow import keras\n",
        "import matplotlib.pyplot as plt\n",
        "import numpy as np\n",
        "from tensorflow.keras.models import load_model"
      ],
      "execution_count": 0,
      "outputs": []
    },
    {
      "cell_type": "markdown",
      "metadata": {
        "id": "Xer6KJiOIwxX",
        "colab_type": "text"
      },
      "source": [
        "# Carregando o Dataset Fashion_mnist"
      ]
    },
    {
      "cell_type": "code",
      "metadata": {
        "id": "yXh54xOOOuMw",
        "colab_type": "code",
        "colab": {}
      },
      "source": [
        "dataset = keras.datasets.fashion_mnist\n",
        "((imagens_treino, identificacoes_treino),(imagens_teste, identificacoes_teste)) = dataset.load_data()"
      ],
      "execution_count": 0,
      "outputs": []
    },
    {
      "cell_type": "markdown",
      "metadata": {
        "id": "LyLC8C36L9-N",
        "colab_type": "text"
      },
      "source": [
        "# Análise das Dimensões dos DataFrames"
      ]
    },
    {
      "cell_type": "code",
      "metadata": {
        "id": "lYU3RhpGI5Oo",
        "colab_type": "code",
        "outputId": "50f48aa5-1bb0-4b1f-bce9-db6aacfe56bd",
        "colab": {
          "base_uri": "https://localhost:8080/",
          "height": 119
        }
      },
      "source": [
        "print(len(imagens_treino))\n",
        "print(imagens_treino.shape)\n",
        "print(imagens_teste.shape)\n",
        "print(len(identificacoes_teste))\n",
        "print(identificacoes_teste.min())\n",
        "print(identificacoes_teste.max())"
      ],
      "execution_count": 0,
      "outputs": [
        {
          "output_type": "stream",
          "text": [
            "60000\n",
            "(60000, 28, 28)\n",
            "(10000, 28, 28)\n",
            "10000\n",
            "0\n",
            "9\n"
          ],
          "name": "stdout"
        }
      ]
    },
    {
      "cell_type": "markdown",
      "metadata": {
        "id": "XCG9lqmOI0dl",
        "colab_type": "text"
      },
      "source": [
        "## Visualizando a primeira imagem"
      ]
    },
    {
      "cell_type": "code",
      "metadata": {
        "id": "QvYzyfeIQgs5",
        "colab_type": "code",
        "outputId": "bfad434e-9633-4b67-d932-42b72f42aa15",
        "colab": {
          "base_uri": "https://localhost:8080/",
          "height": 298
        }
      },
      "source": [
        "plt.imshow(imagens_treino[0])\n",
        "plt.title(identificacoes_treino[0])"
      ],
      "execution_count": 0,
      "outputs": [
        {
          "output_type": "execute_result",
          "data": {
            "text/plain": [
              "Text(0.5, 1.0, '9')"
            ]
          },
          "metadata": {
            "tags": []
          },
          "execution_count": 82
        },
        {
          "output_type": "display_data",
          "data": {
            "image/png": "[encoded data removed]",
            "text/plain": [
              "<Figure size 432x288 with 1 Axes>"
            ]
          },
          "metadata": {
            "tags": []
          }
        }
      ]
    },
    {
      "cell_type": "markdown",
      "metadata": {
        "id": "QE9V9VJbMH9F",
        "colab_type": "text"
      },
      "source": [
        "## Imprimindo as 10 primeiras imagens"
      ]
    },
    {
      "cell_type": "code",
      "metadata": {
        "id": "vsUkzYruI5RX",
        "colab_type": "code",
        "outputId": "ff18dcaa-0e1a-4635-f497-06c067d064af",
        "colab": {
          "base_uri": "https://localhost:8080/",
          "height": 240
        }
      },
      "source": [
        "total_de_classificacoes = 10\n",
        "nomes_de_classificacoes = ['Camiseta', 'Calça', 'Pullover', \n",
        "                           'Vestido', 'Casaco', 'Sanadalia', \n",
        "                           'Camisa', 'Tênis', 'Bolsa', 'Bota']\n",
        "\n",
        "for imagem in range(10):\n",
        "  plt.subplot(2, 5, imagem+1)\n",
        "  plt.imshow(imagens_treino[imagem])\n",
        "  plt.title(nomes_de_classificacoes[identificacoes_treino[imagem]])"
      ],
      "execution_count": 0,
      "outputs": [
        {
          "output_type": "display_data",
          "data": {
            "image/png": "[encoded data removed]",
            "text/plain": [
              "<Figure size 432x288 with 10 Axes>"
            ]
          },
          "metadata": {
            "tags": []
          }
        }
      ]
    },
    {
      "cell_type": "markdown",
      "metadata": {
        "id": "oskFb04zMPDi",
        "colab_type": "text"
      },
      "source": [
        "#Keras"
      ]
    },
    {
      "cell_type": "markdown",
      "metadata": {
        "id": "iQaHULjx1UMS",
        "colab_type": "text"
      },
      "source": [
        "##Normalizando as Imagens"
      ]
    },
    {
      "cell_type": "code",
      "metadata": {
        "id": "PEGKCvAqhrFk",
        "colab_type": "code",
        "colab": {}
      },
      "source": [
        "#Normalização\n",
        "imagens_treino = imagens_treino/float(255)"
      ],
      "execution_count": 0,
      "outputs": []
    },
    {
      "cell_type": "markdown",
      "metadata": {
        "id": "uckkyxYL1ad3",
        "colab_type": "text"
      },
      "source": [
        "##Criando, Compilando, Treinando e Normalizando o Modelo"
      ]
    },
    {
      "cell_type": "code",
      "metadata": {
        "id": "rWU08LICQjMA",
        "colab_type": "code",
        "outputId": "e637f647-6d9f-45b0-ffd1-ed9c6ee5fdeb",
        "colab": {
          "base_uri": "https://localhost:8080/",
          "height": 204
        }
      },
      "source": [
        "modelo = keras.Sequential([\n",
        "    keras.layers.Flatten(input_shape=(28, 28)),\n",
        "    keras.layers.Dense(256, activation = tensorflow.nn.relu),\n",
        "    keras.layers.Dropout(0.2),       \n",
        "    keras.layers.Dense(10, activation = tensorflow.nn.softmax) ])\n",
        "\n",
        "modelo.compile(optimizer='adam', \n",
        "               loss='sparse_categorical_crossentropy',\n",
        "               metrics=['accuracy'])\n",
        "\n",
        "\n",
        "\n",
        "historico = modelo.fit(imagens_treino, identificacoes_treino, epochs = 5, validation_split = 0.2)"
      ],
      "execution_count": 0,
      "outputs": [
        {
          "output_type": "stream",
          "text": [
            "Train on 48000 samples, validate on 12000 samples\n",
            "Epoch 1/5\n",
            "48000/48000 [==============================] - 7s 149us/sample - loss: 0.5265 - acc: 0.8140 - val_loss: 0.4249 - val_acc: 0.8485\n",
            "Epoch 2/5\n",
            "48000/48000 [==============================] - 7s 136us/sample - loss: 0.3967 - acc: 0.8555 - val_loss: 0.3663 - val_acc: 0.8669\n",
            "Epoch 3/5\n",
            "48000/48000 [==============================] - 7s 142us/sample - loss: 0.3612 - acc: 0.8683 - val_loss: 0.3557 - val_acc: 0.8726\n",
            "Epoch 4/5\n",
            "48000/48000 [==============================] - 6s 133us/sample - loss: 0.3410 - acc: 0.8741 - val_loss: 0.3429 - val_acc: 0.8784\n",
            "Epoch 5/5\n",
            "48000/48000 [==============================] - 7s 145us/sample - loss: 0.3226 - acc: 0.8804 - val_loss: 0.3440 - val_acc: 0.8755\n"
          ],
          "name": "stdout"
        }
      ]
    },
    {
      "cell_type": "markdown",
      "metadata": {
        "id": "VgLgQw8b13Ap",
        "colab_type": "text"
      },
      "source": [
        "##Salvando e Carregando o Modelo Treinado"
      ]
    },
    {
      "cell_type": "code",
      "metadata": {
        "id": "r_QDjDZC0GcI",
        "colab_type": "code",
        "colab": {}
      },
      "source": [
        "modelo.save('modelo.h5')\n",
        "modelo_salvo = load_model('/content/modelo.h5')"
      ],
      "execution_count": 0,
      "outputs": []
    },
    {
      "cell_type": "markdown",
      "metadata": {
        "id": "QUN-OQwJ1-lZ",
        "colab_type": "text"
      },
      "source": [
        "##Visualizando as Acurácias de Treino e Validação Por Época"
      ]
    },
    {
      "cell_type": "code",
      "metadata": {
        "id": "aOrjRxeWmT2k",
        "colab_type": "code",
        "outputId": "8ba7cd46-0d4d-4e43-a133-4405dc0cd79b",
        "colab": {
          "base_uri": "https://localhost:8080/",
          "height": 312
        }
      },
      "source": [
        "plt.plot(historico.history['acc'])\n",
        "plt.plot(historico.history['val_acc'])\n",
        "plt.title('Acurácia por épocas')\n",
        "plt.xlabel('epochs')\n",
        "plt.ylabel('Acurácia')\n",
        "plt.legend(['treino', 'validação'])"
      ],
      "execution_count": 0,
      "outputs": [
        {
          "output_type": "execute_result",
          "data": {
            "text/plain": [
              "<matplotlib.legend.Legend at 0x7f7538b2ed30>"
            ]
          },
          "metadata": {
            "tags": []
          },
          "execution_count": 87
        },
        {
          "output_type": "display_data",
          "data": {
            "image/png": "[encoded data removed]",
            "text/plain": [
              "<Figure size 432x288 with 1 Axes>"
            ]
          },
          "metadata": {
            "tags": []
          }
        }
      ]
    },
    {
      "cell_type": "markdown",
      "metadata": {
        "id": "28pshI-V2Iec",
        "colab_type": "text"
      },
      "source": [
        "##Visualizando as perdas de treino e validação por Época"
      ]
    },
    {
      "cell_type": "code",
      "metadata": {
        "id": "jyxG6-jjnitY",
        "colab_type": "code",
        "outputId": "03c64154-41e9-449a-fad1-86512df04acc",
        "colab": {
          "base_uri": "https://localhost:8080/",
          "height": 314
        }
      },
      "source": [
        "plt.plot(historico.history['loss'])\n",
        "plt.plot(historico.history['val_loss'])\n",
        "plt.title('Perda por épocas')\n",
        "plt.xlabel('Épocas')\n",
        "plt.ylabel('Perda')\n",
        "plt.legend(['treino', 'validação'])"
      ],
      "execution_count": 0,
      "outputs": [
        {
          "output_type": "execute_result",
          "data": {
            "text/plain": [
              "<matplotlib.legend.Legend at 0x7f7538bb02e8>"
            ]
          },
          "metadata": {
            "tags": []
          },
          "execution_count": 88
        },
        {
          "output_type": "display_data",
          "data": {
            "image/png": "[encoded data removed]",
            "text/plain": [
              "<Figure size 432x288 with 1 Axes>"
            ]
          },
          "metadata": {
            "tags": []
          }
        }
      ]
    },
    {
      "cell_type": "markdown",
      "metadata": {
        "id": "VJej9r_p2Ogs",
        "colab_type": "text"
      },
      "source": [
        "##Testando o Modelo e o Modelo Salvo"
      ]
    },
    {
      "cell_type": "code",
      "metadata": {
        "id": "EmYeEhTwkYIc",
        "colab_type": "code",
        "outputId": "f1656610-0337-4122-bcc2-6d2956244f88",
        "colab": {
          "base_uri": "https://localhost:8080/",
          "height": 85
        }
      },
      "source": [
        "testes = modelo.predict(imagens_teste)\n",
        "print('Resultado teste ', np.argmax(testes[1]))\n",
        "print('Número da imagem de teste: ', identificacoes_teste[1])\n",
        "\n",
        "testes_modelo_salvo = modelo_salvo.predict(imagens_teste)\n",
        "print('Resultado teste do modelo salvo: ', np.argmax(testes_modelo_salvo[1]))\n",
        "print('Número da imagem de teste: ', identificacoes_teste[1])"
      ],
      "execution_count": 0,
      "outputs": [
        {
          "output_type": "stream",
          "text": [
            "Resultado teste  2\n",
            "Número da imagem de teste:  2\n",
            "Resultado teste do modelo salvo:  2\n",
            "Número da imagem de teste:  2\n"
          ],
          "name": "stdout"
        }
      ]
    },
    {
      "cell_type": "markdown",
      "metadata": {
        "id": "SO4R_Z3q2VA6",
        "colab_type": "text"
      },
      "source": [
        "##Avaliando o Modelo"
      ]
    },
    {
      "cell_type": "code",
      "metadata": {
        "id": "_ieyqm2_kaCX",
        "colab_type": "code",
        "outputId": "f5e93695-acc0-4c4b-b770-4b92ea9a5843",
        "colab": {
          "base_uri": "https://localhost:8080/",
          "height": 68
        }
      },
      "source": [
        "perdada_teste, acuracia_teste = modelo.evaluate(imagens_teste, identificacoes_teste)\n",
        "print('Perda do Teste ', perdada_teste)\n",
        "print('Acuracia teste ', acuracia_teste)"
      ],
      "execution_count": 0,
      "outputs": [
        {
          "output_type": "stream",
          "text": [
            "10000/10000 [==============================] - 0s 47us/sample - loss: 66.2823 - acc: 0.8516\n",
            "Perda do Teste  66.28228497238159\n",
            "Acuracia teste  0.8516\n"
          ],
          "name": "stdout"
        }
      ]
    }
  ]
}